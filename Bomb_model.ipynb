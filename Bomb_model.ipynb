{
 "cells": [
  {
   "cell_type": "markdown",
   "metadata": {},
   "source": [
    "\n",
    "###### Assignment 2 | _GEOG5995M - 201189627_ \n",
    "\n",
    "\n",
    "<h1> Tracking A Biological Weapon Fallout </h1>\n"
   ]
  },
  {
   "cell_type": "markdown",
   "metadata": {},
   "source": [
    "This Jupyter notebook describes the steps of delevopment of a model to estimate the spread of bacteria from biological bomb. It is assumed that the bomb has been activated on the top of a building and wind is the only element affecting the dispersion of the particles. The output of this simulation is an estimated concentration of bacteria at ground level, which is exported as a text file at the end of each run. In the final section, an interactive version of the model is presented."
   ]
  },
  {
   "cell_type": "markdown",
   "metadata": {},
   "source": [
    "<div class=\"alert alert-warning\" markdown=\"1\">\n",
    "  <p><i><strong>IMPORTANT!!!</strong> To run the interactive section, this notebook has to be downloaded in a local machine. Python 3.7 and the dependencies below must be installed. Finally, open the file using Jupyter Notebooks or equivalent. To ensure the reproducibility of the Notebook, a full list of the packages and their versions is provided in the requiments.txt file in the main folder.</i><p>\n",
    "</div>"
   ]
  },
  {
   "cell_type": "code",
   "execution_count": 1,
   "metadata": {},
   "outputs": [],
   "source": [
    "import random\n",
    "import csv\n",
    "import matplotlib.pyplot\n",
    "import requests\n",
    "import codecs\n",
    "# Modules for interactive section\n",
    "import time\n",
    "import ipywidgets"
   ]
  },
  {
   "cell_type": "markdown",
   "metadata": {},
   "source": [
    "\n",
    "### Table of Contents: <a class=\"anchor\" id=\"ToC\"></a>\n",
    "\n",
    "1. [Static Model](#st-model)\n",
    "    1. [Bomb drop location](#st-dl)\n",
    "    1. [Particles](#st-p)\n",
    "    1. [Particle movement](#st-mo)\n",
    "    1. [A clear ground](#st-gr)\n",
    "    1. [All particles](#st-all)\n",
    "1. [Interactive model](#interactive)\n",
    "1. [Other Features](#other)\n",
    "    1. [Styling](#mystyle)\n",
    "    2. [Code Timing](#timing)"
   ]
  },
  {
   "cell_type": "markdown",
   "metadata": {},
   "source": [
    "As the code uses some randomisation, the following line of code can be run to produce consistent results for testing purposes"
   ]
  },
  {
   "cell_type": "code",
   "execution_count": 2,
   "metadata": {},
   "outputs": [],
   "source": [
    "# random.seed(1)"
   ]
  },
  {
   "cell_type": "markdown",
   "metadata": {},
   "source": [
    "\n",
    "## Static Model <a class=\"anchor\" id=\"st-model\"></a>\n",
    "\n",
    "### Bomb drop location <a class=\"anchor\" id=\"st-bl\"></a>\n",
    "\n",
    "The first step is to determine the drop location using the data provided in a 300x300 raster file. The following blocks of code read the raster and show the point where biological bomb start the spread of particles."
   ]
  },
  {
   "cell_type": "code",
   "execution_count": 3,
   "metadata": {},
   "outputs": [],
   "source": [
    "bomb_location = []\n",
    "#This line silences a warning linked to the certificate of the original URL\n",
    "requests.packages.urllib3.disable_warnings(\n",
    "    requests.packages.urllib3.exceptions.InsecureRequestWarning)\n",
    "res = requests.get(\"https://www.geog.leeds.ac.uk/courses/\\\n",
    "computing/study/core-python-phd/assessment2/wind.raster\", verify = False)"
   ]
  },
  {
   "cell_type": "code",
   "execution_count": 4,
   "metadata": {},
   "outputs": [],
   "source": [
    "lines_iterator = res.iter_lines()\n",
    "# create a CSV reader object and encode the content using the codecs module\n",
    "data = csv.reader(codecs.iterdecode(lines_iterator, encoding=\"utf-8\"), delimiter=\",\")\n",
    "# loop through the rows on the \"data\" list\n",
    "for index, row in enumerate(data):\n",
    "    # Initialise the rowist\n",
    "            rowlist = []\n",
    "            # Loop for the values\n",
    "            for value in row:\n",
    "                rowlist.append(int(value))\n",
    "            bomb_location.append(rowlist)"
   ]
  },
  {
   "cell_type": "code",
   "execution_count": 5,
   "metadata": {},
   "outputs": [
    {
     "data": {
      "text/plain": [
       "<matplotlib.image.AxesImage at 0x138909be1f0>"
      ]
     },
     "execution_count": 5,
     "metadata": {},
     "output_type": "execute_result"
    },
    {
     "data": {
      "image/png": "[encoded data removed]",
      "text/plain": [
       "<Figure size 600x600 with 1 Axes>"
      ]
     },
     "metadata": {},
     "output_type": "display_data"
    }
   ],
   "source": [
    "matplotlib.pyplot.figure(figsize = (6,6))\n",
    "matplotlib.pyplot.imshow(bomb_location, cmap='OrRd', aspect='auto')"
   ]
  },
  {
   "cell_type": "markdown",
   "metadata": {},
   "source": [
    "The coordinates of the drop point are extracted using the code below and stored in ```x0``` and ```y0```."
   ]
  },
  {
   "cell_type": "code",
   "execution_count": 6,
   "metadata": {},
   "outputs": [
    {
     "name": "stdout",
     "output_type": "stream",
     "text": [
      "Drop point coordinates---> x: 50  y: 150\n"
     ]
    }
   ],
   "source": [
    "for i, row in enumerate(bomb_location):\n",
    "    for j, value in enumerate(row):\n",
    "        if (value==255):\n",
    "            x0=j\n",
    "            y0=i\n",
    "            break\n",
    "    if (value==255):\n",
    "        break\n",
    "print(\"Drop point coordinates---> x:\",x0,\" y:\",y0)"
   ]
  },
  {
   "cell_type": "markdown",
   "metadata": {},
   "source": [
    "[Back to Table of Contents](#ToC)\n",
    "### Particle definition <a class=\"anchor\" id=\"st-p\"></a>\n",
    "To recreate the movement of a particle/bacteria from the top of the building to the ground, a class with three properties was defined. The properties are the position of the particle/bateria on each axis (units in metres), i.e. ```x``` represents the West-East position, ```y``` represents the North-South position and ```z``` the height measured from the ground. The ```x-y``` origin is consistent with the coordinates of the raster file which contained the drop point coordinates."
   ]
  },
  {
   "cell_type": "code",
   "execution_count": 7,
   "metadata": {},
   "outputs": [],
   "source": [
    "class Particle():\n",
    "    def __init__ (self, x, y, z):\n",
    "        self.x = x\n",
    "        self.y = y\n",
    "        self.z = z\n",
    "    \n",
    "    @property\n",
    "    def x (self):\n",
    "        return (self._x)\n",
    "    \n",
    "    @property\n",
    "    def y (self):\n",
    "        return (self._y)\n",
    "    \n",
    "    @property\n",
    "    def z (self):\n",
    "        return (self._z)\n",
    "    \n",
    "    @x.setter\n",
    "    def x (self,n):\n",
    "        self._x=n\n",
    "      \n",
    "    @y.setter\n",
    "    def y (self,n):\n",
    "        self._y=n\n",
    "        \n",
    "    @z.setter\n",
    "    def z (self,n):\n",
    "        self._z=n"
   ]
  },
  {
   "cell_type": "markdown",
   "metadata": {},
   "source": [
    "[Back to Table of Contents](#ToC)\n",
    "### Particle movement<a class=\"anchor\" id=\"st-mo\"></a>\n",
    "Each particle will change its coordinates (i.e. move) maximum by 1 metre following a set of simple rules which use pre-defined proabilities. The movement in the space (3D) is split into horizontal or planar (```x-y```), and vertical (```z```) movements. \n",
    "\n",
    "For the ```xy``` movement the propabilities are:\n",
    "- 5% chance of blowing west,\n",
    "- 10% chance of blowing north\n",
    "- 10% chance of blowing south,\n",
    "- and a 75% chance of blowing east.\n",
    "\n",
    "For the vertical (```z```), movement the propabilities are:\n",
    "- 20% chance of going up (elevating),\n",
    "- 10% change of staying at the same level,\n",
    "- and 70% of falling.\n",
    "\n",
    "#### Sampling numbers from random distribution\n",
    "It is important to ensure that the sampling function does not produce the wrong type of distribution which could result in an incorrect application of the probilities. A visual test was undertaken to check that the numbers between 0 and 1 which are generated by the ```random.uniform```. As shown in the plot below the function is suitable as it produces a distribution without any skewness:  "
   ]
  },
  {
   "cell_type": "code",
   "execution_count": 8,
   "metadata": {},
   "outputs": [
    {
     "data": {
      "image/png": "[encoded data removed]",
      "text/plain": [
       "<Figure size 640x480 with 1 Axes>"
      ]
     },
     "metadata": {},
     "output_type": "display_data"
    }
   ],
   "source": [
    "for i in range(2000):\n",
    "    matplotlib.pyplot.scatter(i,random.uniform(0,1))"
   ]
  },
  {
   "cell_type": "markdown",
   "metadata": {},
   "source": [
    "#### A function for the movement"
   ]
  },
  {
   "cell_type": "markdown",
   "metadata": {},
   "source": [
    "The following function was defined to recreate the movement of a particle/bacteria in any given second. It takes two arguments as inputs: the current particle and a list with the probabilities. Default values for the probabilities have been assigned based on values shown before."
   ]
  },
  {
   "cell_type": "code",
   "execution_count": 9,
   "metadata": {},
   "outputs": [],
   "source": [
    "def move(Particle, prob2D = [0.05,0.75,0.1,0.1]):\n",
    "    randxy = random.uniform(0,1)\n",
    "    #print(\"xy\",randxy)\n",
    "    randz = random.uniform(0,1)\n",
    "    #print(\"z\",randz)\n",
    "\n",
    "    #Planar/horizonal movement\n",
    "    if randxy <= sum(prob2D[0:1]):\n",
    "        Particle.x = Particle.x - 1 # Move to the East\n",
    "    if sum(prob2D[0:1]) < randxy <= sum(prob2D[0:2]):\n",
    "        Particle.x = Particle.x + 1 # Move to the West\n",
    "    if  sum(prob2D[0:2]) < randxy <= sum(prob2D[0:3]):\n",
    "        Particle.y = Particle.y - 1 # Move to the South\n",
    "    if sum(prob2D[0:3]) < randxy <= sum(prob2D[0:4]):\n",
    "        Particle.y = Particle.y + 1 # Move to the North\n",
    "\n",
    "    # Vertical movement\n",
    "    if randz <= 0.2:\n",
    "        Particle.z = Particle.z + 1 # Move up\n",
    "    if 0.2 < randz <= 0.90:\n",
    "        Particle.z = Particle.z - 1 # Move down"
   ]
  },
  {
   "cell_type": "markdown",
   "metadata": {},
   "source": [
    "The following code shows an example of the movement of a particle with initial coordinates ```x = 20```,```y = 50```, and ```z = 30```."
   ]
  },
  {
   "cell_type": "code",
   "execution_count": 10,
   "metadata": {},
   "outputs": [
    {
     "name": "stdout",
     "output_type": "stream",
     "text": [
      "Initial coordinates----> x: 20  y: 50  z: 30\n",
      "Final coordinates  ----> x: 20  y: 51  z: 29\n"
     ]
    }
   ],
   "source": [
    "particle1=Particle(x = 20, y = 50, z = 30)\n",
    "print(\"Initial coordinates----> x:\",particle1.x,\" y:\", particle1.y,\" z:\",particle1.z)\n",
    "move(particle1)\n",
    "print(\"Final coordinates  ----> x:\",particle1.x,\" y:\", particle1.y,\" z:\",particle1.z)"
   ]
  },
  {
   "cell_type": "markdown",
   "metadata": {},
   "source": [
    "#### Full movement of a particle to the ground\n",
    "Now that we have a class for the particles and a function to recreate the movement, it is possible to simulate the full trajectory of a single particle from the top of the building where the biological bomb was  set off.\n",
    "\n",
    "Assuming that the height of the bulding is 75 m, every particle/bacteria in the bomb will start with the same coordinates. The definition of any  ```particle```'s  initial conditions (t<sub>0</sub>) will be:"
   ]
  },
  {
   "cell_type": "code",
   "execution_count": 11,
   "metadata": {},
   "outputs": [],
   "source": [
    "particle = Particle(x = x0, y = y0, z = 75)"
   ]
  },
  {
   "cell_type": "markdown",
   "metadata": {},
   "source": [
    "##### Control Statement\n",
    "We are interested in the final ```xy``` coordinates of all particles when they touch the ground. For this purpose, a ```while``` loop can be defined to apply the ```move``` function until the particle ```z``` coordinate is ```0```."
   ]
  },
  {
   "cell_type": "code",
   "execution_count": 12,
   "metadata": {},
   "outputs": [
    {
     "name": "stdout",
     "output_type": "stream",
     "text": [
      "166 151 0\n"
     ]
    }
   ],
   "source": [
    "while particle.z>0 :\n",
    "    move(particle)\n",
    "    # print(particle.x,particle.y,particle.z)\n",
    "\n",
    "print(particle.x,particle.y,particle.z)"
   ]
  },
  {
   "cell_type": "markdown",
   "metadata": {},
   "source": [
    "However, the previous definition of the loop might result in an error if a particle moves outside the boundaires of the defined space. Two apporaches can be used in that case, expand the area as required or ignore the particles that move out of the 300x300 square. The latter was used for this exercise adding an ```if``` statement to validate the ```x``` and ```y``` coordinates."
   ]
  },
  {
   "cell_type": "code",
   "execution_count": 13,
   "metadata": {},
   "outputs": [],
   "source": [
    "while particle.z>0 :\n",
    "    particle.move()\n",
    "    # Apply boundary restrictions, if met the while loop stops\n",
    "    if not(particle.x in range(len(bomb_location[0]))) or not(particle.y in range(len(bomb_location))):\n",
    "        break"
   ]
  },
  {
   "cell_type": "markdown",
   "metadata": {},
   "source": [
    "The following plot shows the path of a particle until it touches the ground."
   ]
  },
  {
   "cell_type": "code",
   "execution_count": 14,
   "metadata": {},
   "outputs": [
    {
     "data": {
      "image/png": "[encoded data removed]",
      "text/plain": [
       "<Figure size 1000x1000 with 2 Axes>"
      ]
     },
     "metadata": {},
     "output_type": "display_data"
    }
   ],
   "source": [
    "particle = Particle(x = x0, y = y0, z = 75)\n",
    "part_path_x = []\n",
    "part_path_y = []\n",
    "part_path_z = []\n",
    "\n",
    "while particle.z>0 :\n",
    "    move(particle)\n",
    "    part_path_x.append(particle.x)\n",
    "    part_path_y.append(particle.y)\n",
    "    part_path_z.append(particle.z)\n",
    "    # Apply boundary restrictions, if met the while loop stops\n",
    "    if not(particle.x in range(len(bomb_location[0]))) or not(particle.y in range(len(bomb_location))):\n",
    "        break\n",
    "   \n",
    "# define subplots\n",
    "fig, ax = matplotlib.pyplot.subplots(2, 1,\n",
    "                                     figsize=(10, 10),\n",
    "                                     sharex = True,\n",
    "                                     gridspec_kw={'height_ratios': [4, 1]})\n",
    "\n",
    "# Horizontal movement plot\n",
    "ax[0].plot(part_path_x, part_path_y, color='black')\n",
    "ax[0].plot(x0, y0, 'ro')\n",
    "ax[0].set_xlim([0, 300])\n",
    "ax[0].set_ylim([0, 300])\n",
    "ax[0].set_aspect(1)\n",
    "ax[0].set_title('X-Y movement')\n",
    "\n",
    "# Vertical movement plot\n",
    "ax[1].plot(part_path_x, part_path_z, color='green')\n",
    "ax[1].plot(x0, 75, 'ro')\n",
    "ax[1].set_xlim([0, 300])\n",
    "ax[1].set_aspect(1)\n",
    "ax[1].set_title('Vertical movement')\n",
    "\n",
    "# Display the plot\n",
    "matplotlib.pyplot.show()"
   ]
  },
  {
   "cell_type": "markdown",
   "metadata": {},
   "source": [
    "[Back to Table of Contents](#ToC)\n",
    "\n",
    "### A clear ground <a class=\"anchor\" id=\"st-gr\"></a>\n",
    "\n",
    "The following function creates an object to represent the ground and to store the particle density, namely, the number of particles that touched the ground in each coordinate. The size of the ground is consistent with the original input file (300x300)"
   ]
  },
  {
   "cell_type": "code",
   "execution_count": 15,
   "metadata": {},
   "outputs": [],
   "source": [
    "# Function definition\n",
    "def clear_ground():\n",
    "    ground=[]\n",
    "    for i in range(len(bomb_location)):\n",
    "        tmp_row = []\n",
    "        for j in range(len(bomb_location[0])):\n",
    "            tmp_row.append(0)\n",
    "        ground.append(tmp_row)\n",
    "    return(ground)\n",
    "\n",
    "# Produce the clear ground object\n",
    "myground = clear_ground()"
   ]
  },
  {
   "cell_type": "markdown",
   "metadata": {},
   "source": [
    "[Back to ToC](#ToC)\n",
    "### All particles <a class=\"anchor\" id=\"st-all\"></a>\n",
    "All the elements are put into a ```for``` loop that simulates the full movement of a given number of particles. A function was defined to take the main parameters of the model i.e., building height and the wind-based probabilities. The function returns the highest number of iterations among particles, namely the time that would take for all particles to touch the 300x300 ground. "
   ]
  },
  {
   "cell_type": "code",
   "execution_count": 16,
   "metadata": {},
   "outputs": [
    {
     "data": {
      "text/plain": [
       "190"
      ]
     },
     "execution_count": 16,
     "metadata": {},
     "output_type": "execute_result"
    }
   ],
   "source": [
    "# Define the number of particles\n",
    "n_particles = 5000\n",
    "\n",
    "# Define function for the dispersion model\n",
    "def dispersion_model(n_particles, height, prob2D):    \n",
    "    global myground\n",
    "    global x0\n",
    "    global y0\n",
    "    # Run simulation with n_particles\n",
    "    for i in range(n_particles):\n",
    "        # Initial conditions\n",
    "        particle = Particle(x = x0, y = y0, z = height)\n",
    "\n",
    "        max_its=0\n",
    "        # Movement until it reaches the gound\n",
    "        while particle.z>0 :\n",
    "            move(particle,prob2D)\n",
    "            if not(particle.x in range(len(myground[0])-1)) or not(particle.y in range(len(myground)-1)):\n",
    "                break\n",
    "            max_its=max_its+1\n",
    "\n",
    "        # Update the ground density object  \n",
    "        if particle.z==0:\n",
    "            myground[particle.y][particle.x] += 1\n",
    "    \n",
    "    return(max_its)\n",
    "\n",
    "# Run the dispersion model for 5000 particles, a building height of 75 m and with default probabilities.\n",
    "dispersion_model(n_particles,75,[0.05,0.75,0.1,0.1])"
   ]
  },
  {
   "cell_type": "markdown",
   "metadata": {},
   "source": [
    "The following lines produce a plot with the resulting density. The drop point is annotated with black **```+```**"
   ]
  },
  {
   "cell_type": "code",
   "execution_count": 17,
   "metadata": {},
   "outputs": [
    {
     "data": {
      "image/png": "[encoded data removed]",
      "text/plain": [
       "<Figure size 1000x1000 with 2 Axes>"
      ]
     },
     "metadata": {},
     "output_type": "display_data"
    }
   ],
   "source": [
    "# Function definition\n",
    "def plot_ground():\n",
    "    matplotlib.pyplot.figure(figsize = (10,10))\n",
    "    matplotlib.pyplot.imshow(myground, cmap='Oranges')\n",
    "    matplotlib.pyplot.colorbar(label=r'Particles per '+'$m^2$', orientation=\"horizontal\")\n",
    "    matplotlib.pyplot.scatter(x0, y0, s = 50, c = 'black', marker = \"+\") # Drop point\n",
    "    matplotlib.pyplot.show()\n",
    "\n",
    "# Run function for visualisation\n",
    "plot_ground()"
   ]
  },
  {
   "cell_type": "markdown",
   "metadata": {},
   "source": [
    "Finally, a ```txt``` file is written in the folder where this Jupyter notebook is saved. The name of the file will contain the parameters of the simulation such as the number of particles, height of the building and wind-based probabilities. As an example, the results of the simulation above are saved as ```FinalGround_P5000_h75_E5_W75_S10_N10.txt```"
   ]
  },
  {
   "cell_type": "code",
   "execution_count": 18,
   "metadata": {},
   "outputs": [],
   "source": [
    "# Define function to save the results\n",
    "def final_ground(n_particles,height,Ew = 0.05, Ww = 0.7, Nw = 0.1, Sw = 0.1):\n",
    "    # Save the ground density\n",
    "    f = open(\"FinalGround\"+\n",
    "             \"_P\"+str(n_particles)+\n",
    "             \"_H\"+str(height)+\n",
    "             \"_E\"+str(int(100*Ew))+\n",
    "             \"_W\"+str(int(100*Ww))+\n",
    "             \"_N\"+str(int(100*Nw))+\n",
    "             \"_S\"+str(int(100*Sw))+\n",
    "             \".txt\", 'w+',   newline = \"\")\n",
    "    with f:\n",
    "        write = csv.writer(f) \n",
    "        write.writerows(myground)\n",
    "    f.close()\n",
    "# Run the function for the current run\n",
    "final_ground(n_particles,height = 75,Ew = 0.05, Ww = 0.7, Nw = 0.1, Sw = 0.1)"
   ]
  },
  {
   "cell_type": "markdown",
   "metadata": {},
   "source": [
    "[Back to Table of Contents](#ToC)\n",
    "***\n",
    "\n",
    "## Interactive model <a class=\"anchor\" id=\"interactive\"></a>\n",
    "\n",
    "This section includes an interactive version of the model that allows the user to specify customised parameters for:\n",
    "- Number of particles\n",
    "- Height of the building\n",
    "- A set of wind-based probabilities for the horizontal movement\n",
    "\n",
    "The inputs are captured using Sliders defined using the ```ipywidgets``` module. All sliders are initialised with the default values of the run shown before."
   ]
  },
  {
   "cell_type": "code",
   "execution_count": 19,
   "metadata": {},
   "outputs": [],
   "source": [
    "# Definition of all sliders for interactive inputs\n",
    "# Number of Particles\n",
    "part_slider = ipywidgets.IntSlider(value=5000, min=1, max=10000, step=1, description='Particles (N):', readout=True)\n",
    "# Height of the building\n",
    "h_slider = ipywidgets.IntSlider(value=75, min=1, max=100, step=1, description='Height (m):', readout=True)\n",
    "\n",
    "# Wind direction Probabilities\n",
    "W_widget = ipywidgets.FloatSlider(min=0.01, max=1, step=0.01, value=0.05,description='Probability W:')\n",
    "E_widget = ipywidgets.FloatSlider(min=0.01, max=1, step=0.01, value=0.75,description='Probability E:')\n",
    "N_widget = ipywidgets.FloatSlider(min=0.01, max=1, step=0.01, value=0.10,description='Probability N:')\n",
    "S_widget = ipywidgets.FloatSlider(min=0.01, max=1, step=0.01, value=0.10,description='Probability S:')"
   ]
  },
  {
   "cell_type": "markdown",
   "metadata": {},
   "source": [
    "As the values of the probabilities should add up to 1, the user inputs are normalised after clicking the button. The following function is defined for that purpose."
   ]
  },
  {
   "cell_type": "code",
   "execution_count": 20,
   "metadata": {},
   "outputs": [],
   "source": [
    "def normProbs():\n",
    "    # Normalise the values of the probabilities\n",
    "    total = (W_widget.value+E_widget.value+N_widget.value+S_widget.value)\n",
    "    W_widget.value = W_widget.value/total\n",
    "    E_widget.value = E_widget.value/total\n",
    "    N_widget.value = N_widget.value/total\n",
    "    S_widget.value = S_widget.value/total"
   ]
  },
  {
   "cell_type": "markdown",
   "metadata": {},
   "source": [
    "All functions that were defined previously (i.e. producing a clear ground raster, run simulation, visualisation and producing an output file) are compiled into a main function that is executed when clicking the ```Run Interact``` button. Additionally, the time required for all particles to touch the ground is displayed below the colour scale legend."
   ]
  },
  {
   "cell_type": "code",
   "execution_count": 21,
   "metadata": {},
   "outputs": [],
   "source": [
    "def run(n_particles,height,Ew,Ww,Nw,Sw):\n",
    "    global myground\n",
    "    # Record start time for timing\n",
    "    start = time.process_time()\n",
    "    \n",
    "    #Update values in sliders before using them\n",
    "    normProbs()\n",
    "    \n",
    "    # Prepare Probability list for move method\n",
    "    probabilities = [W_widget.value, E_widget.value, N_widget.value, S_widget.value]\n",
    "    \n",
    "    # Clean the ground raster\n",
    "    myground = clear_ground()\n",
    "\n",
    "    # Run dispersion model\n",
    "    max_its = dispersion_model(n_particles, height, probabilities)\n",
    "            \n",
    "    # Visualisation\n",
    "    plot_ground()\n",
    "    \n",
    "    # Write the output file \n",
    "    final_ground(n_particles, height, Ew, Ww, Nw, Sw)\n",
    "    \n",
    "    # Record end time for timing\n",
    "    end = time.process_time()\n",
    "    \n",
    "    # Show the elapsed time (for all particles to reach the ground)\n",
    "    return(\"All particles touch the ground after \"+str(max_its)+\" s (Model Runtime \"+str(end - start)+\" s)\")\n",
    "    "
   ]
  },
  {
   "cell_type": "code",
   "execution_count": 22,
   "metadata": {},
   "outputs": [
    {
     "data": {
      "application/vnd.jupyter.widget-view+json": {
       "model_id": "af0d316caa9148a8ab37e22efe182fc8",
       "version_major": 2,
       "version_minor": 0
      },
      "text/plain": [
       "interactive(children=(IntSlider(value=5000, description='Particles (N):', max=10000, min=1), IntSlider(value=7…"
      ]
     },
     "metadata": {},
     "output_type": "display_data"
    },
    {
     "data": {
      "text/plain": [
       "<function __main__.run(n_particles, height, Ew, Ww, Nw, Sw)>"
      ]
     },
     "execution_count": 22,
     "metadata": {},
     "output_type": "execute_result"
    }
   ],
   "source": [
    "# Set up for the UI with slides and links values to values for the run function\n",
    "ipywidgets.interact_manual(run,\n",
    "                        n_particles = part_slider,\n",
    "                        height = h_slider,\n",
    "                        Ew = E_widget, Ww = W_widget, Nw = N_widget, Sw = S_widget\n",
    "                       )"
   ]
  },
  {
   "cell_type": "markdown",
   "metadata": {},
   "source": [
    "***\n",
    "\n",
    "## Other Features   <a class=\"anchor\" id=\"other\"></a>\n",
    "\n",
    "### Notebook Styling  <a class=\"anchor\" id=\"mystyle\"></a>\n",
    "\n",
    "The following code applies some basic changes in the CSS styles to improve the presentation of the notebook. The ```_set_css_style``` function was extracted from [this thread](https://stackoverflow.com/questions/32156248/how-do-i-set-custom-css-for-my-ipython-ihaskell-jupyter-notebook) on stackoverflow. The customised styles are saved in the ```styles/custom.css``` file."
   ]
  },
  {
   "cell_type": "code",
   "execution_count": 28,
   "metadata": {
    "scrolled": true
   },
   "outputs": [
    {
     "data": {
      "text/html": [
       "<style><style>\n",
       "ol, .ol {font-size: 12px;\n",
       "    font-family: \"Segoe UI\";\n",
       "    font-size: 1em;\n",
       "    color: #000000;}\n",
       "h1, .h1 {\n",
       "    font-family: \"Segoe UI\";\n",
       "    font-size: 5em !important;\n",
       "    color: #2a7bbd;}\n",
       "h2, .h2 {\n",
       "    font-family: \"Segoe UI\";\n",
       "    font-size: 2.3em !important;\n",
       "    color: #165e99;}\n",
       "h3, .h3 {\n",
       "    font-family: \"Segoe UI\";\n",
       "    font-size: 1.9em !important;\n",
       "    color: #0e5691;}\n",
       "h4, .h4 {\n",
       "    font-family: \"Segoe UI\";\n",
       "    font-size: 1.6em !important;\n",
       "    color: #0a3c66;}\n",
       "h5, .h5 {\n",
       "    font-family: \"Segoe UI\";\n",
       "    font-size: 1.4em !important;\n",
       "    color: #053358;}\n",
       "h6, .h6 {\n",
       "    font-family: \"Segoe UI\";\n",
       "    font-size: 1.2em;\n",
       "    color: #053358;}\n",
       "p, .p {font-size: 12px;\n",
       "    font-family: \"Segoe UI\";\n",
       "    font-size: 1em;\n",
       "    color: #252525;}\n",
       "li, .li {font-size: 12px;\n",
       "    font-family: \"Segoe UI\";\n",
       "    font-size: 1em;\n",
       "    color: #000000;}\n",
       "</style></style>"
      ],
      "text/plain": [
       "<IPython.core.display.HTML object>"
      ]
     },
     "execution_count": 28,
     "metadata": {},
     "output_type": "execute_result"
    }
   ],
   "source": [
    "from IPython.core.display import HTML\n",
    "\n",
    "def _set_css_style(css_file_path):\n",
    "   \"\"\"\n",
    "   Read the custom CSS file and load it into Jupyter.\n",
    "   Pass the file path to the CSS file.\n",
    "   \"\"\"\n",
    "\n",
    "   styles = open(css_file_path, \"r\").read()\n",
    "   s = '<style>%s</style>' % styles     \n",
    "   return HTML(s)\n",
    "\n",
    "_set_css_style(\"styles/custom.css\")"
   ]
  },
  {
   "cell_type": "markdown",
   "metadata": {},
   "source": [
    "\n",
    "### Code timing  <a class=\"anchor\" id=\"timing\"></a>\n",
    "\n",
    "This section shows the run times when running the dispersion model for different number of particles. The sample of numbers has been selected to reflect the range of the interactive model. For this analysis, functions for visualising and saving the results have been excluded. Run times may differ depending on the platform where this notebook is run."
   ]
  },
  {
   "cell_type": "code",
   "execution_count": 27,
   "metadata": {},
   "outputs": [],
   "source": [
    "def timing_check(n_particles):\n",
    "    \n",
    "    # Record start time for timing\n",
    "    start = time.process_time()\n",
    "    \n",
    "    # Clean the ground raster\n",
    "    myground = clear_ground()\n",
    "\n",
    "    # Run dispersion model\n",
    "    max_its = dispersion_model(n_particles, 75, [0.05,0.75,0.1,0.1])\n",
    "    \n",
    "    # Record end time for timing\n",
    "    end = time.process_time()\n",
    "    \n",
    "    return(end-start)"
   ]
  },
  {
   "cell_type": "code",
   "execution_count": 25,
   "metadata": {},
   "outputs": [],
   "source": [
    "sample_n = range(1,10001, 400)\n",
    "\n",
    "times = []\n",
    "for i in sample_n:\n",
    "    times.append(timing_check(i))"
   ]
  },
  {
   "cell_type": "code",
   "execution_count": 26,
   "metadata": {},
   "outputs": [
    {
     "data": {
      "text/plain": [
       "Text(0.5, 0, 'Number of particles')"
      ]
     },
     "execution_count": 26,
     "metadata": {},
     "output_type": "execute_result"
    },
    {
     "data": {
      "image/png": "[encoded data removed]",
      "text/plain": [
       "<Figure size 640x480 with 1 Axes>"
      ]
     },
     "metadata": {},
     "output_type": "display_data"
    }
   ],
   "source": [
    "matplotlib.pyplot.plot(sample_n,times,'o-')\n",
    "matplotlib.pyplot.ylabel('Run time (s)')\n",
    "matplotlib.pyplot.xlabel('Number of particles')"
   ]
  }
 ],
 "metadata": {
  "interpreter": {
   "hash": "b3ba2566441a7c06988d0923437866b63cedc61552a5af99d1f4fb67d367b25f"
  },
  "kernelspec": {
   "display_name": "Python 3 (ipykernel)",
   "language": "python",
   "name": "python3"
  },
  "language_info": {
   "codemirror_mode": {
    "name": "ipython",
    "version": 3
   },
   "file_extension": ".py",
   "mimetype": "text/x-python",
   "name": "python",
   "nbconvert_exporter": "python",
   "pygments_lexer": "ipython3",
   "version": "3.9.13"
  },
  "widgets": {
   "application/vnd.jupyter.widget-state+json": {
    "state": {
     "0063dcef6e37496f862002f21806aad2": {
      "model_module": "@jupyter-widgets/controls",
      "model_module_version": "1.5.0",
      "model_name": "FloatSliderModel",
      "state": {
       "description": "Probability S:",
       "layout": "IPY_MODEL_4fd3a90a06d6456da28c537bbeb49339",
       "max": 1,
       "min": 0.01,
       "step": 0.01,
       "style": "IPY_MODEL_6dbeaa88d1bf45c18aa53099fd9ebdbf",
       "value": 0.1
      }
     },
     "008dec95a7be43f4be7daf2368c04d8d": {
      "model_module": "@jupyter-widgets/controls",
      "model_module_version": "1.5.0",
      "model_name": "FloatSliderModel",
      "state": {
       "description": "Probability E:",
       "layout": "IPY_MODEL_eff4ea7ae0964e53a2c626a3fd9b95d0",
       "max": 1,
       "min": 0.01,
       "step": 0.01,
       "style": "IPY_MODEL_7251fb26adbe4ed694dc8d8a321db4d0",
       "value": 0.25
      }
     },
     "00edf4962a27487d92d0d290dafddd2a": {
      "model_module": "@jupyter-widgets/base",
      "model_module_version": "1.2.0",
      "model_name": "LayoutModel",
      "state": {}
     },
     "0121630285e6456b998ba965a2883a9e": {
      "model_module": "@jupyter-widgets/base",
      "model_module_version": "1.2.0",
      "model_name": "LayoutModel",
      "state": {}
     },
     "0155d9b4ae0443a6ada00c0139fe47a1": {
      "model_module": "@jupyter-widgets/controls",
      "model_module_version": "1.5.0",
      "model_name": "FloatSliderModel",
      "state": {
       "description": "Probability W:",
       "layout": "IPY_MODEL_2e546705a3d94398ad3f4597a229e597",
       "max": 1,
       "min": 0.01,
       "step": 0.01,
       "style": "IPY_MODEL_c2757c06679e4deabc2c63fef561a017",
       "value": 0.05
      }
     },
     "028fd2a7970b494984ada70c144b669a": {
      "model_module": "@jupyter-widgets/base",
      "model_module_version": "1.2.0",
      "model_name": "LayoutModel",
      "state": {}
     },
     "03bfef0c0a6d49ee950d5050f144b353": {
      "model_module": "@jupyter-widgets/base",
      "model_module_version": "1.2.0",
      "model_name": "LayoutModel",
      "state": {}
     },
     "0418a3f80eb54b9e9026a59803f77dcb": {
      "model_module": "@jupyter-widgets/base",
      "model_module_version": "1.2.0",
      "model_name": "LayoutModel",
      "state": {}
     },
     "054dca217e7548e1b6705658b447cdc2": {
      "model_module": "@jupyter-widgets/controls",
      "model_module_version": "1.5.0",
      "model_name": "SliderStyleModel",
      "state": {
       "description_width": ""
      }
     },
     "05752017342a44cd9a88abb5505809b2": {
      "model_module": "@jupyter-widgets/controls",
      "model_module_version": "1.5.0",
      "model_name": "SliderStyleModel",
      "state": {
       "description_width": ""
      }
     },
     "067ef3b3b863413cb0272fbe96ac4a3a": {
      "model_module": "@jupyter-widgets/base",
      "model_module_version": "1.2.0",
      "model_name": "LayoutModel",
      "state": {}
     },
     "07691708b3ed4c16a0cefa751f580bb3": {
      "model_module": "@jupyter-widgets/controls",
      "model_module_version": "1.5.0",
      "model_name": "FloatSliderModel",
      "state": {
       "description": "Probability E:",
       "layout": "IPY_MODEL_587a340c73ae417b81e8849e7d310d72",
       "max": 1,
       "min": 0.01,
       "step": 0.01,
       "style": "IPY_MODEL_54379ef3f3f84766a9db7aa2fb4a8934",
       "value": 0.75
      }
     },
     "07e13d67151142d2855d7fc4f25ea310": {
      "model_module": "@jupyter-widgets/controls",
      "model_module_version": "1.5.0",
      "model_name": "ButtonModel",
      "state": {
       "description": "Run Interact",
       "layout": "IPY_MODEL_de9a8fa226304f53abd0ea18dcd2863b",
       "style": "IPY_MODEL_fd9ca394161b4218b0f235a65e15fcf8"
      }
     },
     "08151f7df31c4811ae9894afde6c05fa": {
      "model_module": "@jupyter-widgets/base",
      "model_module_version": "1.2.0",
      "model_name": "LayoutModel",
      "state": {}
     },
     "085394fd4c4d456cbc00cd6f249d54db": {
      "model_module": "@jupyter-widgets/controls",
      "model_module_version": "1.5.0",
      "model_name": "IntSliderModel",
      "state": {
       "description": "Height (m):",
       "layout": "IPY_MODEL_27ffdb26165745bd846522e368b108d9",
       "min": 1,
       "style": "IPY_MODEL_d63bad6878d2447083b63a60bb1ce7f6",
       "value": 75
      }
     },
     "08ed4907d01147d29c6955671a290849": {
      "model_module": "@jupyter-widgets/controls",
      "model_module_version": "1.5.0",
      "model_name": "SliderStyleModel",
      "state": {
       "description_width": ""
      }
     },
     "0a8db0a136d84aae9f8de27c48af5de7": {
      "model_module": "@jupyter-widgets/base",
      "model_module_version": "1.2.0",
      "model_name": "LayoutModel",
      "state": {}
     },
     "0aa8e48ae476498580f712c00fe00719": {
      "model_module": "@jupyter-widgets/base",
      "model_module_version": "1.2.0",
      "model_name": "LayoutModel",
      "state": {}
     },
     "0ad3ff97ba3b41d39be22a1244ac74c0": {
      "model_module": "@jupyter-widgets/controls",
      "model_module_version": "1.5.0",
      "model_name": "ButtonModel",
      "state": {
       "description": "Run Interact",
       "layout": "IPY_MODEL_36c80186dffb44a290ea4858dfa8b08b",
       "style": "IPY_MODEL_76ee1c26c1fd46bb9be6ecd3d98b6d89"
      }
     },
     "0b6d34047b52443a89fc87a05c8c3f41": {
      "model_module": "@jupyter-widgets/controls",
      "model_module_version": "1.5.0",
      "model_name": "IntSliderModel",
      "state": {
       "description": "Height (m):",
       "layout": "IPY_MODEL_a0e709e2f1f14baea82cb0bff5d684f9",
       "min": 1,
       "style": "IPY_MODEL_6c4fdb7c1acd44b58d6679fced2b9422",
       "value": 75
      }
     },
     "0be5b87c1e0a486d8c5365e5cea6e27e": {
      "model_module": "@jupyter-widgets/controls",
      "model_module_version": "1.5.0",
      "model_name": "SliderStyleModel",
      "state": {
       "description_width": ""
      }
     },
     "0f691a27aa7c48538187e69d5977de02": {
      "model_module": "@jupyter-widgets/base",
      "model_module_version": "1.2.0",
      "model_name": "LayoutModel",
      "state": {}
     },
     "100bd7c87772474fbec4b39280770534": {
      "model_module": "@jupyter-widgets/controls",
      "model_module_version": "1.5.0",
      "model_name": "VBoxModel",
      "state": {
       "_dom_classes": [
        "widget-interact"
       ],
       "children": [
        "IPY_MODEL_dd6c0c62021d44389c5185c55f436dbc",
        "IPY_MODEL_c74bfee03dbe4ed19a2b98c4743235b3",
        "IPY_MODEL_bbe98c45c6384536ad0fe96b19274e25",
        "IPY_MODEL_27309a1a51a846a6ad57484e6de3dad0",
        "IPY_MODEL_98a7a18b82c84bf9bdad9a858cb4a476",
        "IPY_MODEL_9e123f4a79d04340be3180e58de8b352",
        "IPY_MODEL_07e13d67151142d2855d7fc4f25ea310",
        "IPY_MODEL_c3692efd8721419eb152141e60724af4"
       ],
       "layout": "IPY_MODEL_e2516c2245304c338910bf589cfd164c"
      }
     },
     "133fe848fcee482ebaf8590fe7649519": {
      "model_module": "@jupyter-widgets/controls",
      "model_module_version": "1.5.0",
      "model_name": "SliderStyleModel",
      "state": {
       "description_width": ""
      }
     },
     "138a4682d3ce43fb8503c82839c1d304": {
      "model_module": "@jupyter-widgets/base",
      "model_module_version": "1.2.0",
      "model_name": "LayoutModel",
      "state": {}
     },
     "15f2007006ba4c42971a2633150bafed": {
      "model_module": "@jupyter-widgets/controls",
      "model_module_version": "1.5.0",
      "model_name": "FloatSliderModel",
      "state": {
       "description": "Probability S:",
       "layout": "IPY_MODEL_8ae8cc5d5a4f47a4be36864d1c46be99",
       "max": 1,
       "min": 0.01,
       "step": 0.01,
       "style": "IPY_MODEL_99defb3b9ccd4ada8cdbb89d8cdbd728",
       "value": 0.1
      }
     },
     "187fc59208914eefac13a054e94cc4ae": {
      "model_module": "@jupyter-widgets/base",
      "model_module_version": "1.2.0",
      "model_name": "LayoutModel",
      "state": {}
     },
     "19f675d81a5b45b78c457c7dbb1e0647": {
      "model_module": "@jupyter-widgets/controls",
      "model_module_version": "1.5.0",
      "model_name": "IntSliderModel",
      "state": {
       "description": "Height (m):",
       "layout": "IPY_MODEL_6bcd00c248f84e5c8719f533657d1d57",
       "min": 1,
       "style": "IPY_MODEL_6480804611964fde8f845366b065931a",
       "value": 75
      }
     },
     "1b60f2d72e3d4a8282a1f726c594aab8": {
      "model_module": "@jupyter-widgets/controls",
      "model_module_version": "1.5.0",
      "model_name": "ButtonStyleModel",
      "state": {}
     },
     "1b8c160085a549aaac0b468615d2f072": {
      "model_module": "@jupyter-widgets/controls",
      "model_module_version": "1.5.0",
      "model_name": "FloatSliderModel",
      "state": {
       "description": "Probability E:",
       "layout": "IPY_MODEL_d481a6843f9d43b7a1b318629832b4f5",
       "max": 1,
       "min": 0.01,
       "step": 0.01,
       "style": "IPY_MODEL_3db0ed6b5a414d99877b7892249128e9",
       "value": 0.75
      }
     },
     "1c179e77a9d14f8b9dbd6749f1530e44": {
      "model_module": "@jupyter-widgets/controls",
      "model_module_version": "1.5.0",
      "model_name": "SliderStyleModel",
      "state": {
       "description_width": ""
      }
     },
     "1cb5082bded140d795aa1e8c240e41d6": {
      "model_module": "@jupyter-widgets/controls",
      "model_module_version": "1.5.0",
      "model_name": "SliderStyleModel",
      "state": {
       "description_width": ""
      }
     },
     "1cdd062235a94781bd206b10b17c3ffd": {
      "model_module": "@jupyter-widgets/controls",
      "model_module_version": "1.5.0",
      "model_name": "FloatSliderModel",
      "state": {
       "description": "Probability W:",
       "layout": "IPY_MODEL_ef1df80300c744fd9f6390b0004db4e2",
       "max": 1,
       "min": 0.01,
       "step": 0.01,
       "style": "IPY_MODEL_f55e9c8bb1c148278daee5bffa59967f",
       "value": 0.05
      }
     },
     "1d569ddb59c341d68854ea148928d9ce": {
      "model_module": "@jupyter-widgets/output",
      "model_module_version": "1.0.0",
      "model_name": "OutputModel",
      "state": {
       "layout": "IPY_MODEL_f2b4707f41dd400b9d10bbb7c91e1b23",
       "outputs": [
        {
         "data": {
          "image/png": "iVBORw0KGgoAAAANSUhEUgAAAkQAAAIgCAYAAABkhXYWAAAABHNCSVQICAgIfAhkiAAAAAlwSFlzAAALEgAACxIB0t1+/AAAADh0RVh0U29mdHdhcmUAbWF0cGxvdGxpYiB2ZXJzaW9uMy4xLjMsIGh0dHA6Ly9tYXRwbG90bGliLm9yZy+AADFEAAAgAElEQVR4nO3de7hdVXnv8d+bxADNTiEhCcSQFJomLbGFiHkoF9tisQq0GuypFo7VqJyiFry02qeorXpsfWqPiH3ohRYPPIRWRbwSFUVMLV64hMCBCImExCAJuZMAe4fAluQ9f4wx15p77bnWXsm+rL33+/08z372WnOOOdeYc63s9csYY45p7i4AAIDIJnS6AgAAAJ1GIAIAAOERiAAAQHgEIgAAEB6BCAAAhEcgAgAA4RGIRpiZnWdmj5jZBjO7otP1AQAAkjEP0cgxs4mS1kv6PUlbJN0r6WJ3X9vRigEAEBwtRCPrdEkb3P2n7t4r6SZJSztcJwAAwpvU6QoEM0fS5tLzLZJ+s9UGM2Yc6yfOmzuslQIAdN5jj2/W7t1PWqfrERWBaGRVfdD79Vma2aWSLpWkeXNP0Ooffne46wUA6LAlL39lp6sQGl1mI2uLpHJzzwmStjYWcvdr3X2Juy+ZOePYEascAABREYhG1r2SFpjZSWY2WdJFklZ0uE4AAIRHl9kIcvcXzOxySbdJmijpend/uMPVAgAgPALRCHP3WyXd2ul6AACAOrrMAABAeAQiAAAQHoEIAACERyACAADhEYgAAEB4BCIAABAegQgAAIRHIAIAAOERiAAAQHgEIgAAEB6BCAAAhEcgAgAA4RGIAABAeAQiAAAQHoEIAACERyACAADhEYgAAEB4BCIAABAegQgAAIRHIAIAAOERiAAAQHgEIgAAEB6BCAAAhEcgAgAA4RGIAABAeAQiAAAQHoEIAACERyACAADhEYgAAEB4BCIAABAegQgAAIRHIAIAAOERiAAAQHgEIgAAEB6BCAAAhEcgAgAA4RGIAABAeAQiAAAQHoEIAACERyACAADhEYgAAEB4BCIAABAegQgAAIRHIAIAAOERiAAAQHgEIgAAEB6BCAAAhEcgAgAA4RGIAABAeAQiAAAQHoEIAACERyACAADhEYgAAEB4BCIAABAegQgAAIQ3qdMVGK/M7DFJ3ZIOSHrB3ZeY2XRJX5B0oqTHJL3B3fd2qo4AACChhWh4vcLdF7v7kvz8Ckkr3X2BpJX5OQAA6DAC0chaKml5frxc0oUdrAsAAMgIRMPHJX3HzO4zs0vzsuPcfZsk5d+zqjY0s0vNbLWZrd61+8kRqi4AAHExhmj4nO3uW81slqTbzewn7W7o7tdKulaSlpy22IerggAAIKGFaJi4+9b8e6ekr0o6XdIOM5stSfn3zs7VEAAAFAhEw8DMppjZ1OKxpFdJekjSCknLcrFlkm7pTA0BAEAZXWbD4zhJXzUzKZ3jz7n7t83sXkk3m9klkh6X9PoO1hEAAGQEomHg7j+VdGrF8iclnTvyNQIAAK3QZQYAAMIjEAEAgPAIRAAAIDwCEQAACI9ABAAAwiMQAQCA8AhEAAAgPAIRAAAIj0AEAADCIxABAIDwCEQAACA8AhEAAAiPQAQAAMIjEAEAgPAIRAAAIDwCEQAACI9ABAAAwiMQAQCA8AhEAAAgPAIRAAAIj0AEAADCIxABAIDwCEQAACA8AhEAAAiPQAQAAMIjEAEAgPAIRAAAIDwCEQAACI9ABAAAwiMQAQCA8AhEAAAgPAIRAAAIj0AEAADCIxABAIDwCEQAACA8AhEAAAiPQAQAAMIjEAEAgPAIRAAAIDwCEQAACI9ABAAAwiMQAQCA8AhEAAAgPAIRAAAIj0AEAADCIxABAIDwCEQAACA8AhEAAAiPQAQAAMIjEAEAgPAIRAAAIDwCEQAACI9ABAAAwiMQAQCA8AhEg2Bm15vZTjN7qLRsupndbmaP5t/T8nIzs6vNbIOZrTGz0zpXcwAAUEYgGpwbJJ3XsOwKSSvdfYGklfm5JJ0vaUH+uVTSNSNURwAAMAAC0SC4+/cl7WlYvFTS8vx4uaQLS8tv9ORuSceY2eyRqSkAAGiFQDT0jnP3bZKUf8/Ky+dI2lwqtyUvAwAAHUYgGjlWscwrC5pdamarzWz1rt1PDnO1AAAAgWjo7Si6wvLvnXn5FklzS+VOkLS1agfufq27L3H3JTNnHDuslQUAAASi4bBC0rL8eJmkW0rL35yvNjtD0tNF1xoAAOisSZ2uwFhmZp+XdI6kGWa2RdJHJH1C0s1mdomkxyW9Phe/VdIFkjZIelbSW0e8wgAAoBKBaBDc/eImq86tKOuSLhveGgEAgMNBlxkAAAiPQAQAAMIjEAEAgPAIRAAAIDwCEQAACI9ABAAAwiMQAQCA8AhEAAAgPAIRAAAIj0AEAADCIxABAIDwCEQAACA8AhEAAAiPQAQAAMIjEAEAgPAIRAAAIDwCEQAACI9ABAAAwiMQAQCA8AhEAAAgPAIRAAAIj0AEAADCIxABAIDwCEQAACA8AhEAAAiPQAQAAMIjEAEAgPAIRAAAIDwCEQAACI9ABAAAwiMQAQCA8AhEAAAgPAIRAAAIj0AEYNzz3n2drgKAUY5ABAAAwiMQARhTDqe1xyZPGdb9Axj7CEQAxpRDDTeHGnAOZf8Axg8CEYC2NQsX7YaOdgLKULbQ2OQphxVwDidItTo3tDoBo9+kTlcAwNjRLFy0EzraCQXeu++QA0yrbYrXPNR9Hk6IGsy5AdB5tBABAIDwaCECMCLKLSVFq05j605Va0q5ZalYP9xdUI2v2awV6nBboACMPrQQARhSA42lqQo4zbb13n3ynu399jXQduVyRaBpVdeqepXDV2UY6tl52GOUAIw+BCIAfZTDQVWIaSwz0H68Z2c92PTuSz+lMlXbFWzyFE2YPr/P+oN7Nsp7dvYpo/w6ffbT8Lzq9WphpqFejWWq6mldsyr32+rctDpnDL4GOotABAAAwmMMEYA+mo3pKY+XadaFJEnKLSpFV5dNnir17tOE6fN18InVkqQJc5aksr375LXtt8u6jq98zfLzosWo3IplXbNSS1SpDuUWnHJLUG2f5eMsla06F83GDzU7P+X1A523fnUE0BEEIgBtqRpT0+dLvxQeysGlzz5mnlzbrghME4owksNQY1dXEXYkSZOn6OCejZowfX6TkNKdtsll+40LKu2rPFj64J6NqS4NYatqQHWr8UpVz5udt6ptAHQOgQhA5cBh79nZtOWkUA4MRdBobIEp9tMnSPTuk02eKu/t1sGN3037Ou6UWmtRfdvtUu+U+vPNd8nmnllraZJyyOrdJ+/tTq1RysGop3x83VLX8WmcUKle9RA3teUx9lPaT6NmYWegq+na3U+7DmdOJyAyAhEQTNUXZa2Vp9zSk8NQrUWlCDWlbi7l7qq++0+tNEUg8d5uqXeKfPNd0pHHpIVHTUu/N6+SZizou/2ONfV6zT0zdaUVgWXaSen50fPkTz9e32jyFGnHGum4U3Jdj6+8Os13rJHlMioGY1cca23fR8+rlesTgCq6v4rzWjW9QOPjdgw2zBCGgEPDoGoAABAegQgIpuXA3q5Z/Vo5rGtWvRUotwg1ljm4Z6O8t7veOrR5Ve150Vpjx52SWoaOmiZtXpUGUM8/V9r9aPrJ+9eRx0jTTkqtQbvWSXs31fdVdImVWpF85SdS69O0k+RPP55+1q1IK/fvlfbvTXVYdV0qk/flPdvTOKNd6+qXvBfHlOtZG5PUcMy1Vp/yQO4B5l9qdd65HB/oPLrMgHHoUMefNJs5ulFl11LFOBw79eLaOB/fvzeFiwdukqbOTAW6ZtbGA6lrZq5DCjx29LxUVpKdfol83YpaN5f3dktrv6kDq2/VxCUXpDK/9S75xpVSz64UsCR5Dlh29Lxc3+1pX6VuuwlzlqQ6HjWtFma8tzsFqDz4uziHte5ElQZ5l65kazreqrJLsfWs143btLpPG91iwNAhEAHj0OHezHTAVoziy7ooP/Pk2hif4kv84IOfl5fGBdUCztSZUveutLBrZhpEvfIT0m++JS3bvEq+dW0ql4OTb75LmrGgFpB6brlGXUvfqYmv/7taq5I/cJN00lk68MW/1sQcrtS9S7rnBnmx7/175Xs3pZanvZtSPTd+N4Wok19bH2/UEIZ8811pXNLk0sDuNiddtMlT2g5DRXlJTQdrNy0PYEgQiICAKq8qa2NZv1aQ3n21LjF/cGXfdUVgee4pafYi6f6vSef+eVq38tPyhbukhb+TurUkaf2PtHvlrZr2aws18TXvT8umnSTdc4N0ylJJUtefzJS2rk37Xv+jVGb2QknSpP91Yy04aepMadHvS2u/mZ6fdFb6vX9vrYXIZp6cLrl/YnWtJUldx9e636R85Vtvt0z1weITps8vzbVUH3BeTAdQda7r56r1fEet0CIEDC/GEAEAgPBoIRoEM7te0h9I2unuv56XfVTSn0rKfQP6oLvfmtd9QNIlkg5Iere73zbilR5DzjkvtQr897dv6XBNxp9m44X6TIrYcGPU4rHvWleaYDG1nmjtN1MrkJRaYI6aVhsbpG1rpW3rpYVnp8vsJdn5H07jj267Spo6PZVbeLZmLDxbWv8j9fzbuyRJXX/yYWnbRn3sQ6+RJH34A/8jle3epZ5VqUWq6x0XSpvulM9+Kr2OlOqyd1NqJZKklZ+WznpLeu1iXNF//qn81X/RZ/C0ertTN9rcM/Pz1AJWW6c0gLzoIqzNsp3nVSoeF+er/FsV5/xQWn1oHQKGF4FocG6Q9M+SbmxY/ml3v7K8wMwWSbpI0kskvVjSd81sobsfGImKAv2UJyksBlWXVnvP9trs0VIpCBw9L139VZSTUhdV7mbqE46k+uOta6UXp8e+caV039fT8oVnp9/du3Rg9a16ofvpFITyMk2drg9f/YHa7p7/3ud1xLl/rq7i+ef+Rke89t3pyWkXpt9HHiNtujN100k68MQGTZSk556qD7h+wz+mILR3Uwptua7FwOx0Xvp2l0l58HieiLLcjdZ4NVirsDMUM1W3E6boZgPaRyAaBHf/vpmd2GbxpZJucvfnJW0ysw2STpd01zBVD2itYryQVPqSzi0jteX5uU2ekgKNJM09PZedWRusrKkzpfV31K8om70ojeF57inpjutrr/f8E5t0xJyTUlDK2018zfu1/9/eJa24WpLU/cQOzXjnx+vhaep0TZp6tHTPDer5ry+llz79XB343nJNfMWy+r4W/k5qLSrGFxUtUuvvqIeyYvLFI4+pjzHa/ah0XP2c1I5ZpVBUhMinH+9zKxJNnlK/cq7ivHrP9lpwalx/KFcDSgPfF61W/zauHASQEIiGx+Vm9mZJqyW9z933Spoj6e5SmS15GUqKbjJJuuMHd/ZbRvfZ0Gl2a4naF/iudenS9HyfL+s6Xr5uRbqCrAhCezdJPbl3uBxGXryofkVZz64URCTp1X+Rft95g6RN0uz5tYAiSQe+fqW6Tn5pWi7p5898SY9/8v2at/R1qUD3nnS5fbFv5daf17xfj39kmeZd/f20cOWnUxgqrlYrws/UmfV6Fle6Pf14CmuSNPd0+caV9cv3i8eTp0jFPop5lWaenOY2UpoewCZPkeae2ecSfivdc81KYajVbTxadasdTrAhDAHtYVD10LtG0nxJiyVtk/SpvNwqynrFMpnZpWa22sxW79r95PDUEgAA1NBCNMTcfUfx2Mw+I+kb+ekWSXNLRU+QtLXJPq6VdK0kLTltcWVoGq/KLUAMqh5ejS0P5a4dSXmw8b7aZfG+eZVs/rmpq6gYQDztJGnbWk14+bvlJ9cvL/eelfUBzpK0baO08AxpTX4vu6al7rKevfUy63+kiXN+JT3Ol9kf9ci9mveO9+v5z/2NJOmIX3uZem65Rnu2PaN5b3xbvexzT2neG9+mnr//g9ruuk4vHWz3Lmn93akOed/a/aj8yMfTWKM8zskmT5XyMUrShFMvrl9an7vHirFW3rO9Nmjbe7bLVb8kX5JMs/pN2FgbmN5iDFGrm8ICGD4EoiFmZrPdfVt++jpJD+XHKyR9zsyuUhpUvUDSqg5UEcFUTRhY/t24zvJcOrWJGPNVWTZnSQpRxQ1PpXTlVR5/45vzcLiiC60Y4LxtrXTh36bHxbxAebC0uvfUurCe/8l9mjT1aE1ccoF6/vFNtTod9fUrdcT/zNuvv0NdS9+prtmL6rNXf+tjad3sheo6PXV1rf3szVq0dGHfg5s9P4Wi4sozKXWVLfr90hVi3dI9N2jC+en1qm7LkW4Ge3yf5f7045pQnJ9y12PDVXrFNs3mI6ptp75dmM1mtiYsAUOHQDQIZvZ5SedImmFmWyR9RNI5ZrZY6e/mY5LeLknu/rCZ3SxpraQXJF3GFWYYCa1uE1G+J1dxS4riy9ry7My123RUzdC8eVUad9OzsxaEbP65adB1cWf77l0pCE2dKVt8Ud5XurrrwNev1MSXpUvqj1iiNJ5o69r6VWb5yrQDX08XbU58/d+l8Ufr75YvPCOVOest9ZanfMXaordPS0GtWP6bb0l1OGVp7dL/2jio/XvrfdebV6VbgZRuTWJHz+tzH7V0vrbXQ5GUWtOKbRpOUTnYFFMWlCd0bHxPGjUbGM0VZsDQIhANgrtfXLH4uhblPy7p48NXo/GFrjIAwEghEAGovH9Wn0kapdo9y7y3uzZJYe0+YJOn1G/S+vTj0owF9UvSFz6VWo9K9ySb8PJ36+c3XqaJvzhdz+dL7I9Y8sp0+fwvTq9fsn/KUmnTnfVbedx2VRoHNFu1ri+bPFV+ytLarUIkpSvddj8q+600waNvXNnnyjRJ0t5N+eay9bmWvNQKJCl1qc08Wertrl12b/k1y/M4mfpehl/FJk+RzVmSXqc4p21cRt/0xrEDoHUIODQEIiCgxkvsLXeN9RkA3DWrTzdOcZnkhOnz63eyL+YemjxVE+a/UlK+aWrRXSZJ29amO82vuk4HVt+al61PA6jPeouOKLq1TlmaJk/ctrEeXp57Spo6s95l9oplaXnXzFrXl3fvSoOiu2bWX3f3oymA1S6Vn1lfnh/bcaekMLd/r/yoabVj69N1deQxtUHmxX3KakGxHGJKN3Jt1vVVqLqsvs95buwaq+hWI+wAQ49ABARWdePWZhMJ1sfT7Ku3hBStJOUbnc49M81XtCnNI1UbxHzSWZpYzFpdTNy46c76PES5Radfa07XzDT3UNn6O+pXi3XNlO64vj7zdOG5p2rzH9m5V8jX35FatPLgb+/tTnMrSfUr6XIorM29NPPkWiCqT1A5SwefWF0bRN3snHrPzj4tb0UQGmj+p1YO97YfAAZGIAJQybqOr11pJpXuDr9nY58BxTZ5ig6WBxn37pPKkzcqTfJoR89Ld74vW/T79RmulULKhFMvrrVA6ahpKawUl8Ufd0rqdsuX2kuSjjwmhaEf/FPtMn47Pw3KrnVNbb4rD5be3rf1qrgHWamrrAhDtfV5IsbaFWXlc9QqoDSEn4GuGhtofRlhCBh6TMwIAADCo4UIQK3F4eCejbWxMjWNrSBdx/edl6fciiLVbwC7Y016PvfMNNbo6Hm1G8DauWfWBmkr3/vLN98l7d+b6lAMPu7dJ9+/t/Ra3Wk8UjF5pFS7W/2E8/+21rpTXCZfzFVUXtbnsvjc3VfuLrS8rFhfdQ+yqsHTjZfHN2vBOdQbvvab26jFPprtl9YkYGAEIiCwfpM2dh1fOUdOUbb2xVyUL3fzlG/+2ruvFkbSgO1d0twptYHZxWBmmz6/Pl6nCEY92+vLinCVBz3X9ifVu8yee0o298w+XV0Tps/vczd6K11J1uceOvn4+9yvrQhqpX2VyxZdYQPNDXSoEyq2E6C4lxkwfAhEQGCVX+hNWiMaJ3EsylgpIFTtR1IaU9S7r9ZqVLsirRRiapMd7t9butnqmWnfe3KwmTy13iKVxx6VrxYrtyxJFTNKlyZYLCaiLI/1Kc/UXatXcYwNAbGqJafqfDVifBAwOhGIAFRq+oXfcG+uxsfFF3qfy9PzgGxNPrPPPhu757xnp+zoefX5enJgmdBwOxFNnlJrUUpdXFP6tDZNmD6/smusaDmq1bkIdqVZpvuFkd591csbDFWIOdT9cCk+MDQYVA0AAMKjhQhAW9ptgah1GbUxoWC/uXfKc/jk5y274kr78J6dlZMnFtt5aQxQ4/b95mAqzyDdYixVlUNpsRmK7jFahoChQSACMCRfzIfTdVM59kiqvJVIn9cq31akGANU2lfVrS6KmbdbXbFVviO9VN2FNpRdZ4QZYPQgEAHod3VU47LyukO+nHyAe3ENdJl51ZVbtQHRahJo1Hem6KqBzq2Or6pVaKDjBDC2MYYIAACERyAC0Ef5flv95ik6nHlwmrQOVd27q7FFqFV3lXXNar3vJi1Atcflbrcmr1euU6s70jfuu+o5gNGNLjMATQ1X91C7kxPWLuFv6MZrNelh1X7K+281zqi2j1KZQx1M3uw5gNGNQARgxB3yFWttzABdLnc4Y536rCfMAOHQZQZg1PPefYd0FRutMwnddkD7CEQAACA8AhGAUaNZi8ZAA5pRjXMGtI9ABGBIDaabhi9wAJ1CIAIwpAg1AMYiAhEAAAiPQAQAAMIjEAEAgPAIRAAAIDwCEQAACI9ABAAAwiMQAQCA8AhEAAAgPAIRAAAIj0AEAADCIxABAIDwCEQAACA8AhEAAAiPQAQAAMIjEAEAgPAIRAAAIDwCEQAACI9ABAAAwiMQAQCA8AhEAAAgPAIRAAAIj0AEAADCIxABAIDwCEQAACA8AhEAAAiPQAQAAMIjEAEAgPAIRAAAIDwCEQAACI9ABAAAwiMQAQCA8AhEAAAgPAIRAAAIj0A0CGY218y+Z2brzOxhM3tPXj7dzG43s0fz72l5uZnZ1Wa2wczWmNlpnT0CAAAgEYgG6wVJ73P3kyWdIekyM1sk6QpJK919gaSV+bkknS9pQf65VNI1I19lAADQiEA0CO6+zd3vz4+7Ja2TNEfSUknLc7Hlki7Mj5dKutGTuyUdY2azR7jaAACgAYFoiJjZiZJeKukeSce5+zYphSZJs3KxOZI2lzbbkpc17utSM1ttZqt37X5yOKsNAABEIBoSZtYl6cuS3uvuz7QqWrHM+y1wv9bdl7j7kpkzjh2qagIAgCYIRINkZi9SCkOfdfev5MU7iq6w/HtnXr5F0tzS5idI2jpSdQUAANUIRINgZibpOknr3P2q0qoVkpblx8sk3VJa/uZ8tdkZkp4uutYAAEDnTOp0Bca4syW9SdKPzeyBvOyDkj4h6WYzu0TS45Jen9fdKukCSRskPSvprSNbXQAAUIVANAju/kNVjwuSpHMryruky4a1UgAA4JDRZQYAAMIjEAEAgPAIRAAAIDwCEQAACI9ABAAAwiMQAQCA8AhEAAAgPAIRAAAIj0AEAADCIxABAIDwCEQAACA8AhEAAAiPQAQAAMIjEAEAgPAIRAAAIDwCEQAACI9ABAAAwiMQAQCA8AhEAAAgPAIRAAAIj0AEAADCIxABAIDwCEQAACA8AhEAAAiPQAQAAMIjEAEAgPAIRAAAIDwCEQAACI9ABAAAwiMQAQCA8AhEAAAgPAIRAAAIj0AEAADCIxABAIDwCEQAACA8AhEAAAiPQAQAAMIjEAEAgPAIRAAAIDwCEQAACI9ABAAAwiMQAQCA8AhEAAAgPAIRAAAIj0AEAADCIxABAIDwCEQAACA8AhEAAAiPQAQAAMIjEAEAgPAIRAAAIDwCEQAACI9ABAAAwiMQAQCA8AhEg2Bmc83se2a2zsweNrP35OUfNbMnzOyB/HNBaZsPmNkGM3vEzF7dudoDAIDCpE5XYIx7QdL73P1+M5sq6T4zuz2v+7S7X1kubGaLJF0k6SWSXizpu2a20N0PjGitAQBAH7QQDYK7b3P3+/PjbknrJM1psclSSTe5+/PuvknSBkmnD39NAQBAKwSiIWJmJ0p6qaR78qLLzWyNmV1vZtPysjmSNpc226LWAQoAAIwAAtEQMLMuSV+W9F53f0bSNZLmS1osaZukTxVFKzb3iv1damarzWz1rt1PDlOtAQBAgUA0SGb2IqUw9Fl3/4okufsOdz/g7gclfUb1brEtkuaWNj9B0tbGfbr7te6+xN2XzJxx7PAeAAAAIBANhpmZpOskrXP3q0rLZ5eKvU7SQ/nxCkkXmdkRZnaSpAWSVo1UfQEAQDWuMhucsyW9SdKPzeyBvOyDki42s8VK3WGPSXq7JLn7w2Z2s6S1SleoXcYVZgAAdB6BaBDc/YeqHhd0a4ttPi7p48NWKQAAcMjoMgMAAOERiAAAQHgEIgAAEB6BCAAAhEcgAgAA4RGIAABAeAQiAAAQHoEIAACERyACAADhEYgAAEB4BCIAABAegQgAAIRHIAIAAOERiAAAQHgEIgAAEB6BCAAAhEcgAgAA4RGIAABAeAQiAAAQHoEIAACERyACAADhEYgAAEB4BCIAABAegQgAAIRHIAIAAOERiAAAQHgEIgAAEB6BCAAAhEcgAgAA4RGIAABAeAQiAAAQHoEIAACERyACAADhEYgAAEB4BCIAABAegQgAAIRHIAIAAOERiAAAQHgEIgAAEB6BCAAAhEcgAgAA4RGIAABAeAQiAAAQHoEIAACERyACAADhEYgAAEB4BCIAABAegQgAAIRHIAIAAOERiAAAQHgEIgAAEB6BCAAAhEcgAgAA4RGIAABAeAQiAAAQHoEIAACERyACAADhEYgAAEB45u6drgNaMLNuSY90uh4dNEPS7k5XokMiH7sU+/gjH7sU9/h/yd1ndroSUU3qdAUwoEfcfUmnK9EpZrY66vFHPnYp9vFHPnaJ40dn0GUGAADCIxABAIDwCESj37WdrkCHRT7+yMcuxT7+yMcucfzoAAZVAwCA8GghAgAA4RGIRjEzO8/MHjGzDWZ2RafrM9zM7DEz+7GZPWBmq/Oy6WZ2u5k9mn9P63Q9h4qZXW9mO83sodKyyuO15Or8WVhjZqd1ruaD1+TYP2pmT+T3/wEzu6C07gP52B8xs1d3ptZDw5U3b4QAABAUSURBVMzmmtn3zGydmT1sZu/Jy6O8982OP8T7j9GLQDRKmdlESf8i6XxJiyRdbGaLOlurEfEKd19cuuT2Ckkr3X2BpJX5+Xhxg6TzGpY1O97zJS3IP5dKumaE6jhcblD/Y5ekT+f3f7G73ypJ+XN/kaSX5G3+Nf/7GKtekPQ+dz9Z0hmSLsvHGOW9b3b8Uoz3H6MUgWj0Ol3SBnf/qbv3SrpJ0tIO16kTlkpanh8vl3RhB+sypNz9+5L2NCxudrxLJd3oyd2SjjGz2SNT06HX5NibWSrpJnd/3t03Sdqg9O9jTHL3be5+f37cLWmdpDmK8943O/5mxtX7j9GLQDR6zZG0ufR8i1r/0RgPXNJ3zOw+M7s0LzvO3bdJ6Q+ppFkdq93IaHa8UT4Pl+duoetL3aPj9tjN7ERJL5V0jwK+9w3HLwV7/zG6EIhGL6tYNt4vCTzb3U9T6iK4zMx+u9MVGkUifB6ukTRf0mJJ2yR9Ki8fl8duZl2Svizpve7+TKuiFcvG4/GHev8x+hCIRq8tkuaWnp8gaWuH6jIi3H1r/r1T0leVmsV3FN0D+ffOztVwRDQ73nH/eXD3He5+wN0PSvqM6t0i4+7YzexFSmHgs+7+lbw4zHtfdfyR3n+MTgSi0eteSQvM7CQzm6w0qHBFh+s0bMxsiplNLR5LepWkh5SOeVkutkzSLZ2p4YhpdrwrJL05X3F0hqSni+6V8aJhXMzrlN5/KR37RWZ2hJmdpDS4eNVI12+omJlJuk7SOne/qrQqxHvf7PijvP8Yvbi56yjl7i+Y2eWSbpM0UdL17v5wh6s1nI6T9NX0t1KTJH3O3b9tZvdKutnMLpH0uKTXd7COQ8rMPi/pHEkzzGyLpI9I+oSqj/dWSRcoDSh9VtJbR7zCQ6jJsZ9jZouVukMek/R2SXL3h83sZklrla5QuszdD3Si3kPkbElvkvRjM3sgL/uggrz3an78Fwd5/zFKMVM1AAAIjy4zAAAQHoEIAACERyACAADhEYgAAEB4BCIAABAegQgAAIRHIAIAAOERiAAAQHgEIgAAEB6BCAAAhEcgAgAA4RGIAABAeAQiAAAQHoEIAACERyACAADhEYgAAEB4BCIAABAegQgAAIRHIAIAAOERiAAAQHgEIgAAEB6BCAAAhEcgAgAA4RGIAABAeAQiAAAQHoEIAACERyACAADhEYgAAEB4BCIAABAegQgAAIRHIAIAAOERiAAAQHgEIgAAEB6BCAAAhEcgAgAA4RGIAABAeAQiAAAQHoEIAACERyACAADhEYgAAEB4BCIAABAegQgAAIRHIAIAAOERiAAAQHgEIgAAEB6BCAAAhEcgAgAA4RGIAABAeAQiAAAQHoEIAACERyACAADhEYgAAEB4BCIAABAegQgAAIRHIAIAAOERiAAAQHgEIgAAEB6BCAAAhEcgAgAA4RGIAABAeAQiAAAQHoEIAACERyACAADhEYgAAEB4BCIAABDepMFsfN7v/a7vfnJPxRpvfyfe78GhbHQIm46G/XsbRZutHIJtW24/mPofzrYttvFW+2v23rSxzUD19hbrWu7rcN6zJtu0PPaBylQsb+e9GvAcHs5xDLTPQ9xvv6etPj9tvPZAZSrWN/+nM5j3rOJF2znWAXbX+vCqN26rii1e4HD+tPTfTTuFByzZYv8Dbzvgv65DeDvaep3BHFfVuoE+0oez33a+QgbzOof+EW/vdSoKbXtet7n7eVXlBxWIdj+5R6t/+N161Wqv3uR5n4cDbdNOGc9Pq07N0O2/8qy2dawHq8sUy1ttU1vX8LxxeYt13vh6lfUe4PUOuy4DHXt5m/z4YJMyVfXvV6aN/Q+07cGqbYZw/5XbNNu2dP77nZcBnrdTxlt85g5rmyGu08HGz3Dfsv2Wlx57w+ep1b+Dpvs/2H//3uSYW+7/4AD1bmf/xeeyz6F6Q9HGOjUsL79UkzKN+2xdtnGnrerUZNtymYONZQ6hLnl1xVtW+8t0sG9V+j1Py6ytsgcr9t9wGPXnDctblm2oR3tlq46j77Jm+6gq0+yYq7ZpVqbPW9ZwTAO9Xqsyh3IcjWXKdfrfj7wwQ03QZQYAAMIjEAEAgPAIRAAAIDwCEQAACI9ABAAAwiMQAQCA8AhEAAAgPAIRAAAIj0AEAADCIxABAIDwCEQAACA8AhEAAAiPQAQAAMIjEAEAgPAIRAAAIDwCEQAACI9ABAAAwiMQAQCA8AhEAAAgPAIRAAAIj0AEAADCIxABAIDwCEQAACA8AhEAAAiPQAQAAMIjEAEAgPDM3Q9/Y7OHJD03dNUZ02ZI2t3pSowCnIeE81DHuUg4D3Wci4TzUDdS52K3u59XtWLSIHf8nLsvGeQ+xgUzW8254DwUOA91nIuE81DHuUg4D3Wj4VzQZQYAAMIjEAEAgPAGG4iuHZJajA+ci4TzkHAe6jgXCeehjnORcB7qOn4uBjWoGgAAYDygywwAAIRHIAIAAOG1FYjM7Dwze8TMNpjZFRXrjzCzL+T195jZiUNd0U4zs7lm9j0zW2dmD5vZeyrKnGNmT5vZA/nnw52o60gws8fM7Mf5OFdXrDczuzp/JtaY2WmdqOdwMrNfLb3XD5jZM2b23oYy4/YzYWbXm9nOPB9ZsWy6md1uZo/m39OabLssl3nUzJaNXK2HXpPz8Ekz+0n+7H/VzI5psm3Lf0djTZNz8VEze6L0b+CCJtu2/J4ZS5qchy+UzsFjZvZAk23HzWei2ffmqP074e4tfyRNlLRR0i9LmizpQUmLGsr8maR/y48vkvSFgfY71n4kzZZ0Wn48VdL6ivNwjqRvdLquI3Q+HpM0o8X6CyR9S5JJOkPSPZ2u8zCfj4mStkv6pSifCUm/Lek0SQ+Vlv0fSVfkx1dI+oeK7aZL+mn+PS0/ntbp4xni8/AqSZPy43+oOg95Xct/R2Ptp8m5+Kik9w+w3YDfM2Ppp+o8NKz/lKQPj/fPRLPvzdH6d6KdFqLTJW1w95+6e6+kmyQtbSizVNLy/PhLks41M2tj32OGu29z9/vz425J6yTN6WytRrWlkm705G5Jx5jZ7E5XahidK2mju/+s0xUZKe7+fUl7GhaX/xYsl3RhxaavlnS7u+9x972SbpdUOXPsWFB1Htz9O+7+Qn56t6QTRrxiHdDkM9GOdr5nxoxW5yF/N75B0udHtFId0OJ7c1T+nWgnEM2RtLn0fIv6B4FamfxH4GlJxw5FBUej3CX4Ukn3VKw+08weNLNvmdlLRrRiI8slfcfM7jOzSyvWt/O5GU8uUvM/cFE+E5J0nLtvk9IfQ0mzKspE+2y8Tam1tMpA/47Gi8tz9+H1TbpHIn0mfkvSDnd/tMn6cfmZaPjeHJV/J9oJRFUtPY3X6rdTZlwwsy5JX5b0Xnd/pmH1/UpdJqdK+idJXxvp+o2gs939NEnnS7rMzH67YX2kz8RkSa+V9MWK1ZE+E+2K9Nn4kKQXJH22SZGB/h2NB9dImi9psaRtSt1FjcJ8JiRdrNatQ+PuMzHA92bTzSqWDetnop1AtEXS3NLzEyRtbVbGzCZJOlqH12w6qpnZi5Te1M+6+1ca17v7M+7ekx/fKulFZjZjhKs5Itx9a/69U9JXlZq8y9r53IwX50u63913NK6I9JnIdhRdo/n3zooyIT4beRDoH0h6o+dBEY3a+Hc05rn7Dnc/4O4HJX1G1ccY5TMxSdIfSvpCszLj7TPR5HtzVP6daCcQ3StpgZmdlP8nfJGkFQ1lVkgqRoD/kaT/avYHYKzK/b7XSVrn7lc1KXN8MXbKzE5XOr9PjlwtR4aZTTGzqcVjpQGkDzUUWyHpzZacIenpool0HGr6P74on4mS8t+CZZJuqShzm6RXmdm03H3yqrxs3DCz8yT9laTXuvuzTcq08+9ozGsYO/g6VR9jO98z48ErJf3E3bdUrRxvn4kW35uj8+9EmyPFL1AaHb5R0ofyso8p/WOXpCOVugs2SFol6ZeHcyR4J34kvVypuW6NpAfyzwWS3iHpHbnM5ZIeVrpC4m5JZ3W63sN0Ln45H+OD+XiLz0T5XJikf8mfmR9LWtLpeg/TufgFpYBzdGlZiM+EUgjcJunnSv+bu0Rp7OBKSY/m39Nz2SWS/m9p27flvxcbJL2108cyDOdhg9L4h+JvRXEV7osl3ZofV/47Gss/Tc7Ff+S/AWuUvghnN56L/Lzf98xY/ak6D3n5DcXfhlLZcfuZaPG9OSr/TnDrDgAAEB4zVQMAgPAIRAAAIDwCEQAACI9ABAAAwiMQAQCA8AhEAAAgPAIRALRgZhea2WfM7BYze1Wn6wNgeBCIgKDM7ICZPWBmD5nZF83sFw5h22PM7M8alt05wDY9h1vXTnL3r7n7n0p6i6Q/7nB1AAwTAhEQ1353X+zuvy6pV2mG7QHl6finS+oTiNz9rKGv4tDJt5EZzN+8v1aafR3AOEQgAiBJP5D0K5JkZl8zs/vM7GEzuzQvO9HM1pnZv0q6X+n+RPNzC9Mnc5me/PvNZrbGzB40s/+oejEz+xMzW5W3/3czm5jv4/TNvN1DZvbHDducaGY/MbPlef9fKrdqNdlnY73nNuzzi2b2z2b2QzP7mZm93MxuNLP1ZnZdLmNm9g+SvuXu9w/J2QYw6hCIgODyHbjPV7rflCS9zd1fpnRfoXeb2bF5+a9KutHdXyrprZI25hamvyzt6yWSPiTpd939VEnvqXi9k5W6ns5298WSDkh6o6TzJG1191Nzq9W3K6r7q5KudfdTJD2j3ErVYp996u3uP2vY329I+qm7v1zScqWg91eSfl3SH5rZEZLepXRTzj8ys7Za0QCMPZM6XQEAHXOUmT2QH/9AKQxIKQS9Lj+eK2mBpO2Sfubudw+wz9+V9CV33y1J7r6nosy5kl4m6d7U+6ajJO2U9DlJV+bWmG+4+w8qtt3s7j/Kj/9T0rslXdlin99vVm8zO1LSMZL+MS/aL+k6d9+W1z8rqdfdr5Z09QDHDWCMIxABce3PrSk1ZnaOUmvIme7+rJn9t6Qj8+p9bezTlO5uPVCZ5e7+gX4rzF6mdDfsvzez77j7xxqKNO67eF65TzM7sUW9XyLpfnc/mJ+fKumavN0JSq1V3P0aCIIuMwBlR0vam8PQr0k6o0m5bklTK5avlPSGopvNzKY3KfNHZjarKGNmv2RmL5b0rLv/p1Krz2kV284zszPz44sl/bDVPgc41t+Q9GDp+SmS1uTHp5YeAwiAFiIAZd+W9A4zWyPpEUmVXWTu/qSZ/cjMHlIabPyXefnDZvZxSXeY2QFJ/0/pcvXytmvN7K8lfSdf9fVzSZcphbFPmtnBvOydFS+9TtIyM/t3SY8qt+i02Of2Fsf6G5JWSbXus6PcfW9eVw5HAAIwWoQBjAW5++sbecA1AAwpuswAAEB4tBABAIDwaCECAADhEYgAAEB4BCIAABAegQgAAIRHIAIAAOERiAAAQHgEIgAAEB6BCAAAhEcgAgAA4f1/j7DAveSHiMAAAAAASUVORK5CYII=\n",
          "text/plain": "<Figure size 720x720 with 2 Axes>"
         },
         "metadata": {
          "needs_background": "light"
         },
         "output_type": "display_data"
        },
        {
         "data": {
          "text/plain": "'All particles touch the ground after 139 s (Model Runtime 1.640625 s)'"
         },
         "metadata": {},
         "output_type": "display_data"
        }
       ]
      }
     },
     "1d7a4ec8d26741f9b96e2303615a6e83": {
      "model_module": "@jupyter-widgets/controls",
      "model_module_version": "1.5.0",
      "model_name": "FloatSliderModel",
      "state": {
       "description": "Probability E:",
       "layout": "IPY_MODEL_272bc8b71db04a21816908eaf1df5f44",
       "max": 1,
       "min": 0.01,
       "step": 0.01,
       "style": "IPY_MODEL_abd3efabcc504f51b70bfdec73322482",
       "value": 0.75
      }
     },
     "1eb02c974d94499f9c0972440d9d32b0": {
      "model_module": "@jupyter-widgets/controls",
      "model_module_version": "1.5.0",
      "model_name": "FloatSliderModel",
      "state": {
       "description": "Probability W:",
       "layout": "IPY_MODEL_c8826c73a9974c03aaf9042cf4de1016",
       "max": 1,
       "min": 0.01,
       "step": 0.01,
       "style": "IPY_MODEL_48687f425d374fc7b7e82486d1648fa8",
       "value": 0.25
      }
     },
     "201e4c86307e4f348de84c0a3bcb6f62": {
      "model_module": "@jupyter-widgets/controls",
      "model_module_version": "1.5.0",
      "model_name": "ButtonStyleModel",
      "state": {}
     },
     "226af84ef7a740bf98579f76db9f04f9": {
      "model_module": "@jupyter-widgets/controls",
      "model_module_version": "1.5.0",
      "model_name": "SliderStyleModel",
      "state": {
       "description_width": ""
      }
     },
     "22ae010e96a04ac7a605f827c94244fa": {
      "model_module": "@jupyter-widgets/controls",
      "model_module_version": "1.5.0",
      "model_name": "FloatSliderModel",
      "state": {
       "description": "Probability S:",
       "layout": "IPY_MODEL_7b905f3543df400fa4623767c1360c61",
       "max": 1,
       "min": 0.01,
       "step": 0.01,
       "style": "IPY_MODEL_8761b399e65e4691a2f2547912351ffd",
       "value": 0.1
      }
     },
     "23b9e3ab8c96475d999bd2d5502342e2": {
      "model_module": "@jupyter-widgets/base",
      "model_module_version": "1.2.0",
      "model_name": "LayoutModel",
      "state": {}
     },
     "24f13b6287ff4d8fbecfaa5a2cb74cf6": {
      "model_module": "@jupyter-widgets/base",
      "model_module_version": "1.2.0",
      "model_name": "LayoutModel",
      "state": {}
     },
     "2657372b354f48c986404d6e3d6654b1": {
      "model_module": "@jupyter-widgets/controls",
      "model_module_version": "1.5.0",
      "model_name": "FloatSliderModel",
      "state": {
       "description": "Probability W:",
       "layout": "IPY_MODEL_61fb93688f5b4f42b7e329ca968dde55",
       "max": 1,
       "min": 0.01,
       "step": 0.01,
       "style": "IPY_MODEL_664854a331a8472b9e0a5e141a8270a6",
       "value": 0.05
      }
     },
     "26861e1a7f5940a3896ebc6ae4458627": {
      "model_module": "@jupyter-widgets/controls",
      "model_module_version": "1.5.0",
      "model_name": "ButtonModel",
      "state": {
       "description": "Run Interact",
       "layout": "IPY_MODEL_138a4682d3ce43fb8503c82839c1d304",
       "style": "IPY_MODEL_f912d1cd65594ea9ae82e8913e0cb6b4"
      }
     },
     "272bc8b71db04a21816908eaf1df5f44": {
      "model_module": "@jupyter-widgets/base",
      "model_module_version": "1.2.0",
      "model_name": "LayoutModel",
      "state": {}
     },
     "27309a1a51a846a6ad57484e6de3dad0": {
      "model_module": "@jupyter-widgets/controls",
      "model_module_version": "1.5.0",
      "model_name": "FloatSliderModel",
      "state": {
       "description": "Probability W:",
       "layout": "IPY_MODEL_c028fe001425441bb862edc7ba595194",
       "max": 1,
       "min": 0.01,
       "step": 0.01,
       "style": "IPY_MODEL_cd19a563ebf446d4896d7f9d8e93daa0",
       "value": 0.05
      }
     },
     "27dbee3dff3049cc88c03cb488a20b92": {
      "model_module": "@jupyter-widgets/controls",
      "model_module_version": "1.5.0",
      "model_name": "FloatSliderModel",
      "state": {
       "description": "Probability E:",
       "layout": "IPY_MODEL_7171507b945b42139080c9c98bf0eb9f",
       "max": 1,
       "min": 0.01,
       "step": 0.01,
       "style": "IPY_MODEL_1c179e77a9d14f8b9dbd6749f1530e44",
       "value": 0.25
      }
     },
     "27ffdb26165745bd846522e368b108d9": {
      "model_module": "@jupyter-widgets/base",
      "model_module_version": "1.2.0",
      "model_name": "LayoutModel",
      "state": {}
     },
     "28fcdfcba54a4b27bfe4bc89c2385473": {
      "model_module": "@jupyter-widgets/base",
      "model_module_version": "1.2.0",
      "model_name": "LayoutModel",
      "state": {}
     },
     "2a446b24215f443e9c103db44ca51ac7": {
      "model_module": "@jupyter-widgets/controls",
      "model_module_version": "1.5.0",
      "model_name": "SliderStyleModel",
      "state": {
       "description_width": ""
      }
     },
     "2a91ceb363944e709d50271fc632acec": {
      "model_module": "@jupyter-widgets/base",
      "model_module_version": "1.2.0",
      "model_name": "LayoutModel",
      "state": {}
     },
     "2a91fa31d92743c6895c5ca007769d6b": {
      "model_module": "@jupyter-widgets/base",
      "model_module_version": "1.2.0",
      "model_name": "LayoutModel",
      "state": {}
     },
     "2b6d91aed5d841469ba97fea0ba7b974": {
      "model_module": "@jupyter-widgets/base",
      "model_module_version": "1.2.0",
      "model_name": "LayoutModel",
      "state": {}
     },
     "2b9377eecf49439dbb1d1c50d1d03b07": {
      "model_module": "@jupyter-widgets/controls",
      "model_module_version": "1.5.0",
      "model_name": "SliderStyleModel",
      "state": {
       "description_width": ""
      }
     },
     "2bac01fbbef54b19b0fdc1c33b9c7c47": {
      "model_module": "@jupyter-widgets/base",
      "model_module_version": "1.2.0",
      "model_name": "LayoutModel",
      "state": {}
     },
     "2bfa572e1a0c4276ab0df44dacc8269c": {
      "model_module": "@jupyter-widgets/base",
      "model_module_version": "1.2.0",
      "model_name": "LayoutModel",
      "state": {}
     },
     "2d76adbd5a6a46cdad27f3e0b6548da7": {
      "model_module": "@jupyter-widgets/controls",
      "model_module_version": "1.5.0",
      "model_name": "ButtonStyleModel",
      "state": {}
     },
     "2e546705a3d94398ad3f4597a229e597": {
      "model_module": "@jupyter-widgets/base",
      "model_module_version": "1.2.0",
      "model_name": "LayoutModel",
      "state": {}
     },
     "2f896d12a720411eba0377eeac4ba6b7": {
      "model_module": "@jupyter-widgets/controls",
      "model_module_version": "1.5.0",
      "model_name": "ButtonModel",
      "state": {
       "description": "Run Interact",
       "layout": "IPY_MODEL_24f13b6287ff4d8fbecfaa5a2cb74cf6",
       "style": "IPY_MODEL_2d76adbd5a6a46cdad27f3e0b6548da7"
      }
     },
     "300d6bd4cd9b47a99eec1341cd0c8f29": {
      "model_module": "@jupyter-widgets/base",
      "model_module_version": "1.2.0",
      "model_name": "LayoutModel",
      "state": {}
     },
     "314b570350554af99f43215c19d987fa": {
      "model_module": "@jupyter-widgets/output",
      "model_module_version": "1.0.0",
      "model_name": "OutputModel",
      "state": {
       "layout": "IPY_MODEL_f1ac3a7cb38e439996138dbb22f97bd4",
       "outputs": [
        {
         "data": {
          "image/png": "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\n",
          "text/plain": "<Figure size 1000x1000 with 2 Axes>"
         },
         "metadata": {},
         "output_type": "display_data"
        },
        {
         "data": {
          "text/plain": "'All particles touch the ground after 140 s (Model Runtime 4.515625 s)'"
         },
         "metadata": {},
         "output_type": "display_data"
        }
       ]
      }
     },
     "319c13b9f3944e48a29c7ac1ce6af7dc": {
      "model_module": "@jupyter-widgets/controls",
      "model_module_version": "1.5.0",
      "model_name": "IntSliderModel",
      "state": {
       "description": "Particles (N):",
       "layout": "IPY_MODEL_3c1a377c04be458e80d8d90c2f14da2f",
       "max": 10000,
       "min": 1,
       "style": "IPY_MODEL_64b726ef96e14f9598f4a925e4a55732",
       "value": 5000
      }
     },
     "31b52fd3d7a44d638275ffa1f2b484c7": {
      "model_module": "@jupyter-widgets/base",
      "model_module_version": "1.2.0",
      "model_name": "LayoutModel",
      "state": {}
     },
     "31c5ce7ec5cb4d8682abcb6f9dbcd0ad": {
      "model_module": "@jupyter-widgets/base",
      "model_module_version": "1.2.0",
      "model_name": "LayoutModel",
      "state": {}
     },
     "32dc7aef415c4184a5fe90b719c39766": {
      "model_module": "@jupyter-widgets/output",
      "model_module_version": "1.0.0",
      "model_name": "OutputModel",
      "state": {
       "layout": "IPY_MODEL_df502f08730147e2bb3f73ad1e0397b8",
       "outputs": [
        {
         "data": {
          "image/png": "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\n",
          "text/plain": "<Figure size 1000x1000 with 2 Axes>"
         },
         "metadata": {},
         "output_type": "display_data"
        },
        {
         "ename": "NameError",
         "evalue": "name 'max_its' is not defined",
         "output_type": "error",
         "traceback": [
          "\u001b[1;31m---------------------------------------------------------------------------\u001b[0m",
          "\u001b[1;31mNameError\u001b[0m                                 Traceback (most recent call last)",
          "\u001b[1;32m~\\Anaconda3\\lib\\site-packages\\ipywidgets\\widgets\\interaction.py\u001b[0m in \u001b[0;36mupdate\u001b[1;34m(self, *args)\u001b[0m\n\u001b[0;32m    255\u001b[0m                     \u001b[0mvalue\u001b[0m \u001b[1;33m=\u001b[0m \u001b[0mwidget\u001b[0m\u001b[1;33m.\u001b[0m\u001b[0mget_interact_value\u001b[0m\u001b[1;33m(\u001b[0m\u001b[1;33m)\u001b[0m\u001b[1;33m\u001b[0m\u001b[1;33m\u001b[0m\u001b[0m\n\u001b[0;32m    256\u001b[0m                     \u001b[0mself\u001b[0m\u001b[1;33m.\u001b[0m\u001b[0mkwargs\u001b[0m\u001b[1;33m[\u001b[0m\u001b[0mwidget\u001b[0m\u001b[1;33m.\u001b[0m\u001b[0m_kwarg\u001b[0m\u001b[1;33m]\u001b[0m \u001b[1;33m=\u001b[0m \u001b[0mvalue\u001b[0m\u001b[1;33m\u001b[0m\u001b[1;33m\u001b[0m\u001b[0m\n\u001b[1;32m--> 257\u001b[1;33m                 \u001b[0mself\u001b[0m\u001b[1;33m.\u001b[0m\u001b[0mresult\u001b[0m \u001b[1;33m=\u001b[0m \u001b[0mself\u001b[0m\u001b[1;33m.\u001b[0m\u001b[0mf\u001b[0m\u001b[1;33m(\u001b[0m\u001b[1;33m**\u001b[0m\u001b[0mself\u001b[0m\u001b[1;33m.\u001b[0m\u001b[0mkwargs\u001b[0m\u001b[1;33m)\u001b[0m\u001b[1;33m\u001b[0m\u001b[1;33m\u001b[0m\u001b[0m\n\u001b[0m\u001b[0;32m    258\u001b[0m                 \u001b[0mshow_inline_matplotlib_plots\u001b[0m\u001b[1;33m(\u001b[0m\u001b[1;33m)\u001b[0m\u001b[1;33m\u001b[0m\u001b[1;33m\u001b[0m\u001b[0m\n\u001b[0;32m    259\u001b[0m                 \u001b[1;32mif\u001b[0m \u001b[0mself\u001b[0m\u001b[1;33m.\u001b[0m\u001b[0mauto_display\u001b[0m \u001b[1;32mand\u001b[0m \u001b[0mself\u001b[0m\u001b[1;33m.\u001b[0m\u001b[0mresult\u001b[0m \u001b[1;32mis\u001b[0m \u001b[1;32mnot\u001b[0m \u001b[1;32mNone\u001b[0m\u001b[1;33m:\u001b[0m\u001b[1;33m\u001b[0m\u001b[1;33m\u001b[0m\u001b[0m\n",
          "\u001b[1;32m~\\AppData\\Local\\Temp\\ipykernel_22728\\1111679494.py\u001b[0m in \u001b[0;36mrun\u001b[1;34m(n_particles, height, Ew, Ww, Nw, Sw)\u001b[0m\n\u001b[0;32m     26\u001b[0m \u001b[1;33m\u001b[0m\u001b[0m\n\u001b[0;32m     27\u001b[0m     \u001b[1;31m# Show the elapsed time (for all particles to reach the ground)\u001b[0m\u001b[1;33m\u001b[0m\u001b[1;33m\u001b[0m\u001b[0m\n\u001b[1;32m---> 28\u001b[1;33m     \u001b[1;32mreturn\u001b[0m\u001b[1;33m(\u001b[0m\u001b[1;34m\"All particles touch the ground after \"\u001b[0m\u001b[1;33m+\u001b[0m\u001b[0mstr\u001b[0m\u001b[1;33m(\u001b[0m\u001b[0mmax_its\u001b[0m\u001b[1;33m)\u001b[0m\u001b[1;33m+\u001b[0m\u001b[1;34m\" s (Model Runtime \"\u001b[0m\u001b[1;33m+\u001b[0m\u001b[0mstr\u001b[0m\u001b[1;33m(\u001b[0m\u001b[0mend\u001b[0m \u001b[1;33m-\u001b[0m \u001b[0mstart\u001b[0m\u001b[1;33m)\u001b[0m\u001b[1;33m+\u001b[0m\u001b[1;34m\" s)\"\u001b[0m\u001b[1;33m)\u001b[0m\u001b[1;33m\u001b[0m\u001b[1;33m\u001b[0m\u001b[0m\n\u001b[0m\u001b[0;32m     29\u001b[0m \u001b[1;33m\u001b[0m\u001b[0m\n",
          "\u001b[1;31mNameError\u001b[0m: name 'max_its' is not defined"
         ]
        }
       ]
      }
     },
     "33b82b45565e4bcabed4fc3c89b5ec38": {
      "model_module": "@jupyter-widgets/controls",
      "model_module_version": "1.5.0",
      "model_name": "ButtonModel",
      "state": {
       "description": "Run Interact",
       "layout": "IPY_MODEL_028fd2a7970b494984ada70c144b669a",
       "style": "IPY_MODEL_ab453ac3343e4fa395d7b8d8e6954c2f"
      }
     },
     "33c90fca035a4e8684968e0bff3ae98f": {
      "model_module": "@jupyter-widgets/controls",
      "model_module_version": "1.5.0",
      "model_name": "SliderStyleModel",
      "state": {
       "description_width": ""
      }
     },
     "34e8fd3cdb1f4be0bde96b1545cfb2cf": {
      "model_module": "@jupyter-widgets/controls",
      "model_module_version": "1.5.0",
      "model_name": "FloatSliderModel",
      "state": {
       "description": "Probability S:",
       "layout": "IPY_MODEL_2bac01fbbef54b19b0fdc1c33b9c7c47",
       "max": 1,
       "min": 0.01,
       "step": 0.01,
       "style": "IPY_MODEL_98406d5abafc46b19470503a543f04e2",
       "value": 0.25
      }
     },
     "356ff49528c84cd097b5d48fc35aaec4": {
      "model_module": "@jupyter-widgets/controls",
      "model_module_version": "1.5.0",
      "model_name": "ButtonStyleModel",
      "state": {}
     },
     "36c80186dffb44a290ea4858dfa8b08b": {
      "model_module": "@jupyter-widgets/base",
      "model_module_version": "1.2.0",
      "model_name": "LayoutModel",
      "state": {}
     },
     "39283b7d44e54be2950ef35247406f85": {
      "model_module": "@jupyter-widgets/controls",
      "model_module_version": "1.5.0",
      "model_name": "IntSliderModel",
      "state": {
       "description": "Particles (N):",
       "layout": "IPY_MODEL_b04aba8237564b54a97fa0d2b2da1088",
       "max": 10000,
       "min": 1,
       "style": "IPY_MODEL_39aa67629c7c4c2b824bc083ce0e7e24",
       "value": 5000
      }
     },
     "39aa67629c7c4c2b824bc083ce0e7e24": {
      "model_module": "@jupyter-widgets/controls",
      "model_module_version": "1.5.0",
      "model_name": "SliderStyleModel",
      "state": {
       "description_width": ""
      }
     },
     "39ba19ec32f747a3b4a476d9e2a5e4a2": {
      "model_module": "@jupyter-widgets/base",
      "model_module_version": "1.2.0",
      "model_name": "LayoutModel",
      "state": {}
     },
     "3a9197e62dcb444390c34b5a1d21ae0b": {
      "model_module": "@jupyter-widgets/controls",
      "model_module_version": "1.5.0",
      "model_name": "IntSliderModel",
      "state": {
       "description": "Height (m):",
       "layout": "IPY_MODEL_c133368b78dc44208ac047c361e86750",
       "min": 1,
       "style": "IPY_MODEL_4799a240d1ab4e23855631a5305faba3",
       "value": 75
      }
     },
     "3af71ee719df48228a9b8df9365008ed": {
      "model_module": "@jupyter-widgets/controls",
      "model_module_version": "1.5.0",
      "model_name": "SliderStyleModel",
      "state": {
       "description_width": ""
      }
     },
     "3b095199d9b5465d9a4fb120ba8e5e94": {
      "model_module": "@jupyter-widgets/controls",
      "model_module_version": "1.5.0",
      "model_name": "SliderStyleModel",
      "state": {
       "description_width": ""
      }
     },
     "3ba00c7cc2f047c4b9ddc46554b00dd1": {
      "model_module": "@jupyter-widgets/base",
      "model_module_version": "1.2.0",
      "model_name": "LayoutModel",
      "state": {}
     },
     "3c1a377c04be458e80d8d90c2f14da2f": {
      "model_module": "@jupyter-widgets/base",
      "model_module_version": "1.2.0",
      "model_name": "LayoutModel",
      "state": {}
     },
     "3db0ed6b5a414d99877b7892249128e9": {
      "model_module": "@jupyter-widgets/controls",
      "model_module_version": "1.5.0",
      "model_name": "SliderStyleModel",
      "state": {
       "description_width": ""
      }
     },
     "3dc91611947f475085453a4ee98c5ca4": {
      "model_module": "@jupyter-widgets/controls",
      "model_module_version": "1.5.0",
      "model_name": "SliderStyleModel",
      "state": {
       "description_width": ""
      }
     },
     "3f439b8fabad4fd994fb2f4aaafe20da": {
      "model_module": "@jupyter-widgets/controls",
      "model_module_version": "1.5.0",
      "model_name": "SliderStyleModel",
      "state": {
       "description_width": ""
      }
     },
     "40b8f6f9f16647f0aba9781cd526772b": {
      "model_module": "@jupyter-widgets/controls",
      "model_module_version": "1.5.0",
      "model_name": "SliderStyleModel",
      "state": {
       "description_width": ""
      }
     },
     "418a8ec905c24051bf1ede82ea494b96": {
      "model_module": "@jupyter-widgets/base",
      "model_module_version": "1.2.0",
      "model_name": "LayoutModel",
      "state": {}
     },
     "41930f9c07fb4920a72f1aae6a51d188": {
      "model_module": "@jupyter-widgets/controls",
      "model_module_version": "1.5.0",
      "model_name": "SliderStyleModel",
      "state": {
       "description_width": ""
      }
     },
     "4200a4e5b8a54f2a94a0ee4b94f2adac": {
      "model_module": "@jupyter-widgets/base",
      "model_module_version": "1.2.0",
      "model_name": "LayoutModel",
      "state": {}
     },
     "421cc08d4a174ba38a0cbd563b48c84d": {
      "model_module": "@jupyter-widgets/controls",
      "model_module_version": "1.5.0",
      "model_name": "FloatSliderModel",
      "state": {
       "description": "Probability S:",
       "layout": "IPY_MODEL_de0c00f2fbfc4c959cafd13a727fb6b3",
       "max": 1,
       "min": 0.01,
       "step": 0.01,
       "style": "IPY_MODEL_906ccc53893d4dbfb5cd071af44cc396",
       "value": 0.1
      }
     },
     "44473aaeb6754b279a4af314c53a1368": {
      "model_module": "@jupyter-widgets/controls",
      "model_module_version": "1.5.0",
      "model_name": "SliderStyleModel",
      "state": {
       "description_width": ""
      }
     },
     "44e88db558f049ed80e8f941b702343f": {
      "model_module": "@jupyter-widgets/base",
      "model_module_version": "1.2.0",
      "model_name": "LayoutModel",
      "state": {}
     },
     "4799a240d1ab4e23855631a5305faba3": {
      "model_module": "@jupyter-widgets/controls",
      "model_module_version": "1.5.0",
      "model_name": "SliderStyleModel",
      "state": {
       "description_width": ""
      }
     },
     "48687f425d374fc7b7e82486d1648fa8": {
      "model_module": "@jupyter-widgets/controls",
      "model_module_version": "1.5.0",
      "model_name": "SliderStyleModel",
      "state": {
       "description_width": ""
      }
     },
     "494495e94ef345008ebbc36d96f9156b": {
      "model_module": "@jupyter-widgets/controls",
      "model_module_version": "1.5.0",
      "model_name": "ButtonModel",
      "state": {
       "description": "Run Interact",
       "layout": "IPY_MODEL_c869ca5a7a214c19bd8f6090abc4abe0",
       "style": "IPY_MODEL_201e4c86307e4f348de84c0a3bcb6f62"
      }
     },
     "4c826b8258214423bb292df1c17b09b2": {
      "model_module": "@jupyter-widgets/base",
      "model_module_version": "1.2.0",
      "model_name": "LayoutModel",
      "state": {}
     },
     "4cbb03f7cafd40d198950522ef795ed2": {
      "model_module": "@jupyter-widgets/base",
      "model_module_version": "1.2.0",
      "model_name": "LayoutModel",
      "state": {}
     },
     "4ea792c32ad94bbfb46c3bbea724dceb": {
      "model_module": "@jupyter-widgets/base",
      "model_module_version": "1.2.0",
      "model_name": "LayoutModel",
      "state": {}
     },
     "4fd3a90a06d6456da28c537bbeb49339": {
      "model_module": "@jupyter-widgets/base",
      "model_module_version": "1.2.0",
      "model_name": "LayoutModel",
      "state": {}
     },
     "52509f5a64e34b6f81986add1bd865ac": {
      "model_module": "@jupyter-widgets/base",
      "model_module_version": "1.2.0",
      "model_name": "LayoutModel",
      "state": {}
     },
     "52d7d3bb5b67444ebfcf0ea03f5ffca0": {
      "model_module": "@jupyter-widgets/controls",
      "model_module_version": "1.5.0",
      "model_name": "VBoxModel",
      "state": {
       "_dom_classes": [
        "widget-interact"
       ],
       "children": [
        "IPY_MODEL_39283b7d44e54be2950ef35247406f85",
        "IPY_MODEL_cf1acabb4eeb413c93e2dc437d1ca3a8",
        "IPY_MODEL_e2da6f3a70444d6892b6212ffa48b0f3",
        "IPY_MODEL_fea85731e2ae4a05a890152010273a29",
        "IPY_MODEL_8b4f56a0e7c84562835e8803d4a5ce70",
        "IPY_MODEL_421cc08d4a174ba38a0cbd563b48c84d",
        "IPY_MODEL_33b82b45565e4bcabed4fc3c89b5ec38",
        "IPY_MODEL_8542378d11144eafb2051a908aec635c"
       ],
       "layout": "IPY_MODEL_69f87d6df4a3443baa86e4f7ba5ad8d8"
      }
     },
     "54379ef3f3f84766a9db7aa2fb4a8934": {
      "model_module": "@jupyter-widgets/controls",
      "model_module_version": "1.5.0",
      "model_name": "SliderStyleModel",
      "state": {
       "description_width": ""
      }
     },
     "54b0fb436af449ab834b8cbe9ca2ca80": {
      "model_module": "@jupyter-widgets/base",
      "model_module_version": "1.2.0",
      "model_name": "LayoutModel",
      "state": {}
     },
     "54c0726a37f9439b862ada2319e3fdfc": {
      "model_module": "@jupyter-widgets/output",
      "model_module_version": "1.0.0",
      "model_name": "OutputModel",
      "state": {
       "layout": "IPY_MODEL_96a0b476312c4090a75597f36bbd61d2",
       "outputs": [
        {
         "data": {
          "image/png": "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\n",
          "text/plain": "<Figure size 1000x1000 with 2 Axes>"
         },
         "metadata": {},
         "output_type": "display_data"
        },
        {
         "ename": "NameError",
         "evalue": "name 'max_its' is not defined",
         "output_type": "error",
         "traceback": [
          "\u001b[1;31m---------------------------------------------------------------------------\u001b[0m",
          "\u001b[1;31mNameError\u001b[0m                                 Traceback (most recent call last)",
          "\u001b[1;32m~\\Anaconda3\\lib\\site-packages\\ipywidgets\\widgets\\interaction.py\u001b[0m in \u001b[0;36mupdate\u001b[1;34m(self, *args)\u001b[0m\n\u001b[0;32m    255\u001b[0m                     \u001b[0mvalue\u001b[0m \u001b[1;33m=\u001b[0m \u001b[0mwidget\u001b[0m\u001b[1;33m.\u001b[0m\u001b[0mget_interact_value\u001b[0m\u001b[1;33m(\u001b[0m\u001b[1;33m)\u001b[0m\u001b[1;33m\u001b[0m\u001b[1;33m\u001b[0m\u001b[0m\n\u001b[0;32m    256\u001b[0m                     \u001b[0mself\u001b[0m\u001b[1;33m.\u001b[0m\u001b[0mkwargs\u001b[0m\u001b[1;33m[\u001b[0m\u001b[0mwidget\u001b[0m\u001b[1;33m.\u001b[0m\u001b[0m_kwarg\u001b[0m\u001b[1;33m]\u001b[0m \u001b[1;33m=\u001b[0m \u001b[0mvalue\u001b[0m\u001b[1;33m\u001b[0m\u001b[1;33m\u001b[0m\u001b[0m\n\u001b[1;32m--> 257\u001b[1;33m                 \u001b[0mself\u001b[0m\u001b[1;33m.\u001b[0m\u001b[0mresult\u001b[0m \u001b[1;33m=\u001b[0m \u001b[0mself\u001b[0m\u001b[1;33m.\u001b[0m\u001b[0mf\u001b[0m\u001b[1;33m(\u001b[0m\u001b[1;33m**\u001b[0m\u001b[0mself\u001b[0m\u001b[1;33m.\u001b[0m\u001b[0mkwargs\u001b[0m\u001b[1;33m)\u001b[0m\u001b[1;33m\u001b[0m\u001b[1;33m\u001b[0m\u001b[0m\n\u001b[0m\u001b[0;32m    258\u001b[0m                 \u001b[0mshow_inline_matplotlib_plots\u001b[0m\u001b[1;33m(\u001b[0m\u001b[1;33m)\u001b[0m\u001b[1;33m\u001b[0m\u001b[1;33m\u001b[0m\u001b[0m\n\u001b[0;32m    259\u001b[0m                 \u001b[1;32mif\u001b[0m \u001b[0mself\u001b[0m\u001b[1;33m.\u001b[0m\u001b[0mauto_display\u001b[0m \u001b[1;32mand\u001b[0m \u001b[0mself\u001b[0m\u001b[1;33m.\u001b[0m\u001b[0mresult\u001b[0m \u001b[1;32mis\u001b[0m \u001b[1;32mnot\u001b[0m \u001b[1;32mNone\u001b[0m\u001b[1;33m:\u001b[0m\u001b[1;33m\u001b[0m\u001b[1;33m\u001b[0m\u001b[0m\n",
          "\u001b[1;32m~\\AppData\\Local\\Temp\\ipykernel_16500\\3493751762.py\u001b[0m in \u001b[0;36mrun\u001b[1;34m(n_particles, height, Ew, Ww, Nw, Sw)\u001b[0m\n\u001b[0;32m     26\u001b[0m \u001b[1;33m\u001b[0m\u001b[0m\n\u001b[0;32m     27\u001b[0m     \u001b[1;31m# Show the elapsed time (for all particles to reach the ground)\u001b[0m\u001b[1;33m\u001b[0m\u001b[1;33m\u001b[0m\u001b[0m\n\u001b[1;32m---> 28\u001b[1;33m     \u001b[1;32mreturn\u001b[0m\u001b[1;33m(\u001b[0m\u001b[1;34m\"All particles touch the ground after \"\u001b[0m\u001b[1;33m+\u001b[0m\u001b[0mstr\u001b[0m\u001b[1;33m(\u001b[0m\u001b[0mmax_its\u001b[0m\u001b[1;33m)\u001b[0m\u001b[1;33m+\u001b[0m\u001b[1;34m\" s (Model Runtime \"\u001b[0m\u001b[1;33m+\u001b[0m\u001b[0mstr\u001b[0m\u001b[1;33m(\u001b[0m\u001b[0mend\u001b[0m \u001b[1;33m-\u001b[0m \u001b[0mstart\u001b[0m\u001b[1;33m)\u001b[0m\u001b[1;33m+\u001b[0m\u001b[1;34m\" s)\"\u001b[0m\u001b[1;33m)\u001b[0m\u001b[1;33m\u001b[0m\u001b[1;33m\u001b[0m\u001b[0m\n\u001b[0m\u001b[0;32m     29\u001b[0m \u001b[1;33m\u001b[0m\u001b[0m\n",
          "\u001b[1;31mNameError\u001b[0m: name 'max_its' is not defined"
         ]
        }
       ]
      }
     },
     "573278db99314620b096af8f13838f49": {
      "model_module": "@jupyter-widgets/controls",
      "model_module_version": "1.5.0",
      "model_name": "SliderStyleModel",
      "state": {
       "description_width": ""
      }
     },
     "5827e45757d4432eaaf4451fe498fa8e": {
      "model_module": "@jupyter-widgets/base",
      "model_module_version": "1.2.0",
      "model_name": "LayoutModel",
      "state": {}
     },
     "587a340c73ae417b81e8849e7d310d72": {
      "model_module": "@jupyter-widgets/base",
      "model_module_version": "1.2.0",
      "model_name": "LayoutModel",
      "state": {}
     },
     "5907db5cef284b439d73ca47c85d5402": {
      "model_module": "@jupyter-widgets/controls",
      "model_module_version": "1.5.0",
      "model_name": "ButtonModel",
      "state": {
       "description": "Run Interact",
       "layout": "IPY_MODEL_6773997069bb4de2bf955af1bf4b998c",
       "style": "IPY_MODEL_1b60f2d72e3d4a8282a1f726c594aab8"
      }
     },
     "591212f925594b8998cb16aac5a87a11": {
      "model_module": "@jupyter-widgets/base",
      "model_module_version": "1.2.0",
      "model_name": "LayoutModel",
      "state": {}
     },
     "599b6e03f1da4410b0fc19a48d8547eb": {
      "model_module": "@jupyter-widgets/controls",
      "model_module_version": "1.5.0",
      "model_name": "SliderStyleModel",
      "state": {
       "description_width": ""
      }
     },
     "59ed2bb22ba742fba4c58bbf68a46a6c": {
      "model_module": "@jupyter-widgets/controls",
      "model_module_version": "1.5.0",
      "model_name": "SliderStyleModel",
      "state": {
       "description_width": ""
      }
     },
     "5c1ae3051e4f446db5a47c92162df279": {
      "model_module": "@jupyter-widgets/base",
      "model_module_version": "1.2.0",
      "model_name": "LayoutModel",
      "state": {}
     },
     "5c383a8f336842e1874ad324025b1a9c": {
      "model_module": "@jupyter-widgets/controls",
      "model_module_version": "1.5.0",
      "model_name": "SliderStyleModel",
      "state": {
       "description_width": ""
      }
     },
     "5d043cb242b64078b3ca96809726f00f": {
      "model_module": "@jupyter-widgets/base",
      "model_module_version": "1.2.0",
      "model_name": "LayoutModel",
      "state": {}
     },
     "5d7a2f67fbe54b9aba9f3d0118355462": {
      "model_module": "@jupyter-widgets/base",
      "model_module_version": "1.2.0",
      "model_name": "LayoutModel",
      "state": {}
     },
     "5df0fe2801724455ab905d1d105b4a32": {
      "model_module": "@jupyter-widgets/controls",
      "model_module_version": "1.5.0",
      "model_name": "SliderStyleModel",
      "state": {
       "description_width": ""
      }
     },
     "5fe5493a2204472d9fb739ffed7739e1": {
      "model_module": "@jupyter-widgets/controls",
      "model_module_version": "1.5.0",
      "model_name": "SliderStyleModel",
      "state": {
       "description_width": ""
      }
     },
     "600738ecd154493c9e63fcb07a1d1f02": {
      "model_module": "@jupyter-widgets/base",
      "model_module_version": "1.2.0",
      "model_name": "LayoutModel",
      "state": {}
     },
     "60e43d54350847a2a8bb1929e875c22a": {
      "model_module": "@jupyter-widgets/base",
      "model_module_version": "1.2.0",
      "model_name": "LayoutModel",
      "state": {}
     },
     "6194fca22e6f4e3db152d76734e967b5": {
      "model_module": "@jupyter-widgets/base",
      "model_module_version": "1.2.0",
      "model_name": "LayoutModel",
      "state": {}
     },
     "6197d0e3a7f4406baafdfbeb609742b5": {
      "model_module": "@jupyter-widgets/controls",
      "model_module_version": "1.5.0",
      "model_name": "IntSliderModel",
      "state": {
       "description": "Particles (N):",
       "layout": "IPY_MODEL_9769c7c630684644b13e630e4d174a9b",
       "max": 10000,
       "min": 1,
       "style": "IPY_MODEL_ce3ac6f14d354a849332e9aaeea2a867",
       "value": 5000
      }
     },
     "61fb93688f5b4f42b7e329ca968dde55": {
      "model_module": "@jupyter-widgets/base",
      "model_module_version": "1.2.0",
      "model_name": "LayoutModel",
      "state": {}
     },
     "6393eddef1ff4f9484a1d0df6a27ae2f": {
      "model_module": "@jupyter-widgets/output",
      "model_module_version": "1.0.0",
      "model_name": "OutputModel",
      "state": {
       "layout": "IPY_MODEL_03bfef0c0a6d49ee950d5050f144b353",
       "outputs": [
        {
         "data": {
          "image/png": "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\n",
          "text/plain": "<Figure size 1000x1000 with 2 Axes>"
         },
         "metadata": {},
         "output_type": "display_data"
        },
        {
         "data": {
          "text/plain": "'All particles touch the ground after 161 s (Model Runtime 4.1875 s)'"
         },
         "metadata": {},
         "output_type": "display_data"
        }
       ]
      }
     },
     "6480804611964fde8f845366b065931a": {
      "model_module": "@jupyter-widgets/controls",
      "model_module_version": "1.5.0",
      "model_name": "SliderStyleModel",
      "state": {
       "description_width": ""
      }
     },
     "64b726ef96e14f9598f4a925e4a55732": {
      "model_module": "@jupyter-widgets/controls",
      "model_module_version": "1.5.0",
      "model_name": "SliderStyleModel",
      "state": {
       "description_width": ""
      }
     },
     "650910e0df7a4f79a620226a55e3fe0d": {
      "model_module": "@jupyter-widgets/controls",
      "model_module_version": "1.5.0",
      "model_name": "SliderStyleModel",
      "state": {
       "description_width": ""
      }
     },
     "6633a45be92346c8a1cd1c040832a0de": {
      "model_module": "@jupyter-widgets/controls",
      "model_module_version": "1.5.0",
      "model_name": "ButtonModel",
      "state": {
       "description": "Run Interact",
       "layout": "IPY_MODEL_f1bf11d078694ba1a498da63d916d3ec",
       "style": "IPY_MODEL_356ff49528c84cd097b5d48fc35aaec4"
      }
     },
     "664854a331a8472b9e0a5e141a8270a6": {
      "model_module": "@jupyter-widgets/controls",
      "model_module_version": "1.5.0",
      "model_name": "SliderStyleModel",
      "state": {
       "description_width": ""
      }
     },
     "6773997069bb4de2bf955af1bf4b998c": {
      "model_module": "@jupyter-widgets/base",
      "model_module_version": "1.2.0",
      "model_name": "LayoutModel",
      "state": {}
     },
     "67a35cff02ee469dbd574555b37e7718": {
      "model_module": "@jupyter-widgets/base",
      "model_module_version": "1.2.0",
      "model_name": "LayoutModel",
      "state": {}
     },
     "67e1c7da54e94565b9a303bedc572710": {
      "model_module": "@jupyter-widgets/controls",
      "model_module_version": "1.5.0",
      "model_name": "IntSliderModel",
      "state": {
       "description": "Height (m):",
       "layout": "IPY_MODEL_300d6bd4cd9b47a99eec1341cd0c8f29",
       "min": 1,
       "style": "IPY_MODEL_c09a693262fb4d52b604833768ec647d",
       "value": 75
      }
     },
     "691904decef0415b8d2ebbe24bc3765f": {
      "model_module": "@jupyter-widgets/controls",
      "model_module_version": "1.5.0",
      "model_name": "FloatSliderModel",
      "state": {
       "description": "Probability N:",
       "layout": "IPY_MODEL_b0483414a2ec434f8019c820d7a150e0",
       "max": 1,
       "min": 0.01,
       "step": 0.01,
       "style": "IPY_MODEL_5fe5493a2204472d9fb739ffed7739e1",
       "value": 0.1
      }
     },
     "69508e24b6254b62bfd4c104f8f45a20": {
      "model_module": "@jupyter-widgets/base",
      "model_module_version": "1.2.0",
      "model_name": "LayoutModel",
      "state": {}
     },
     "69cc8be7ee7d4335a48c5b85cc89df3e": {
      "model_module": "@jupyter-widgets/controls",
      "model_module_version": "1.5.0",
      "model_name": "IntSliderModel",
      "state": {
       "description": "Particles (N):",
       "layout": "IPY_MODEL_60e43d54350847a2a8bb1929e875c22a",
       "max": 10000,
       "min": 1,
       "style": "IPY_MODEL_33c90fca035a4e8684968e0bff3ae98f",
       "value": 5000
      }
     },
     "69f87d6df4a3443baa86e4f7ba5ad8d8": {
      "model_module": "@jupyter-widgets/base",
      "model_module_version": "1.2.0",
      "model_name": "LayoutModel",
      "state": {}
     },
     "6bcd00c248f84e5c8719f533657d1d57": {
      "model_module": "@jupyter-widgets/base",
      "model_module_version": "1.2.0",
      "model_name": "LayoutModel",
      "state": {}
     },
     "6c4fdb7c1acd44b58d6679fced2b9422": {
      "model_module": "@jupyter-widgets/controls",
      "model_module_version": "1.5.0",
      "model_name": "SliderStyleModel",
      "state": {
       "description_width": ""
      }
     },
     "6cc4513a23f24e9580f38178cad99422": {
      "model_module": "@jupyter-widgets/controls",
      "model_module_version": "1.5.0",
      "model_name": "IntSliderModel",
      "state": {
       "description": "Height (m):",
       "layout": "IPY_MODEL_00edf4962a27487d92d0d290dafddd2a",
       "min": 1,
       "style": "IPY_MODEL_737397f5adc24b688f943592c33460ee",
       "value": 75
      }
     },
     "6d55f85eec594efb94c5b8fc21bc5317": {
      "model_module": "@jupyter-widgets/controls",
      "model_module_version": "1.5.0",
      "model_name": "IntSliderModel",
      "state": {
       "description": "Particles (N):",
       "layout": "IPY_MODEL_5d043cb242b64078b3ca96809726f00f",
       "max": 10000,
       "min": 1,
       "style": "IPY_MODEL_77a50161efe44c688db0ed4017132b97",
       "value": 5000
      }
     },
     "6dbeaa88d1bf45c18aa53099fd9ebdbf": {
      "model_module": "@jupyter-widgets/controls",
      "model_module_version": "1.5.0",
      "model_name": "SliderStyleModel",
      "state": {
       "description_width": ""
      }
     },
     "7171507b945b42139080c9c98bf0eb9f": {
      "model_module": "@jupyter-widgets/base",
      "model_module_version": "1.2.0",
      "model_name": "LayoutModel",
      "state": {}
     },
     "7175f7f271634fd68e680676c5834578": {
      "model_module": "@jupyter-widgets/base",
      "model_module_version": "1.2.0",
      "model_name": "LayoutModel",
      "state": {}
     },
     "7251fb26adbe4ed694dc8d8a321db4d0": {
      "model_module": "@jupyter-widgets/controls",
      "model_module_version": "1.5.0",
      "model_name": "SliderStyleModel",
      "state": {
       "description_width": ""
      }
     },
     "737397f5adc24b688f943592c33460ee": {
      "model_module": "@jupyter-widgets/controls",
      "model_module_version": "1.5.0",
      "model_name": "SliderStyleModel",
      "state": {
       "description_width": ""
      }
     },
     "741bb147f425459ca864a8bedc5bf620": {
      "model_module": "@jupyter-widgets/controls",
      "model_module_version": "1.5.0",
      "model_name": "SliderStyleModel",
      "state": {
       "description_width": ""
      }
     },
     "76ee1c26c1fd46bb9be6ecd3d98b6d89": {
      "model_module": "@jupyter-widgets/controls",
      "model_module_version": "1.5.0",
      "model_name": "ButtonStyleModel",
      "state": {}
     },
     "77a50161efe44c688db0ed4017132b97": {
      "model_module": "@jupyter-widgets/controls",
      "model_module_version": "1.5.0",
      "model_name": "SliderStyleModel",
      "state": {
       "description_width": ""
      }
     },
     "791924400c5142c1bb8615ed0e049686": {
      "model_module": "@jupyter-widgets/base",
      "model_module_version": "1.2.0",
      "model_name": "LayoutModel",
      "state": {}
     },
     "7a389090025640f4944cd54a52921b26": {
      "model_module": "@jupyter-widgets/controls",
      "model_module_version": "1.5.0",
      "model_name": "FloatSliderModel",
      "state": {
       "description": "Probability N:",
       "layout": "IPY_MODEL_fd34021d4bff4e2192e8c67070168f75",
       "max": 1,
       "min": 0.01,
       "step": 0.01,
       "style": "IPY_MODEL_741bb147f425459ca864a8bedc5bf620",
       "value": 0.1
      }
     },
     "7b905f3543df400fa4623767c1360c61": {
      "model_module": "@jupyter-widgets/base",
      "model_module_version": "1.2.0",
      "model_name": "LayoutModel",
      "state": {}
     },
     "7bc5a63b0ddb438686199fb3a780b146": {
      "model_module": "@jupyter-widgets/base",
      "model_module_version": "1.2.0",
      "model_name": "LayoutModel",
      "state": {}
     },
     "7c3c762efa7545caa83fb973e222b7de": {
      "model_module": "@jupyter-widgets/controls",
      "model_module_version": "1.5.0",
      "model_name": "FloatSliderModel",
      "state": {
       "description": "Probability S:",
       "layout": "IPY_MODEL_08151f7df31c4811ae9894afde6c05fa",
       "max": 1,
       "min": 0.01,
       "step": 0.01,
       "style": "IPY_MODEL_08ed4907d01147d29c6955671a290849",
       "value": 0.25
      }
     },
     "7c54e7851efa423581f2b864a0cb78d0": {
      "model_module": "@jupyter-widgets/controls",
      "model_module_version": "1.5.0",
      "model_name": "ButtonStyleModel",
      "state": {}
     },
     "7d4e262662a643b0aeeedc378e614b92": {
      "model_module": "@jupyter-widgets/base",
      "model_module_version": "1.2.0",
      "model_name": "LayoutModel",
      "state": {}
     },
     "7da3b05260904fcb8a04946495f17677": {
      "model_module": "@jupyter-widgets/base",
      "model_module_version": "1.2.0",
      "model_name": "LayoutModel",
      "state": {}
     },
     "7ebab2a5ca5f45acbba4afb1c1060a2d": {
      "model_module": "@jupyter-widgets/controls",
      "model_module_version": "1.5.0",
      "model_name": "FloatSliderModel",
      "state": {
       "description": "Probability N:",
       "layout": "IPY_MODEL_bfa1f5639e3f4edb839af3893d7f1331",
       "max": 1,
       "min": 0.01,
       "step": 0.01,
       "style": "IPY_MODEL_fee43711d6b04efea5266de8d3d5757a",
       "value": 0.1
      }
     },
     "800001b7a9e447e8b6702b1d7651efc8": {
      "model_module": "@jupyter-widgets/base",
      "model_module_version": "1.2.0",
      "model_name": "LayoutModel",
      "state": {}
     },
     "80b229333a5e4cb0b97ee626b09ef4dd": {
      "model_module": "@jupyter-widgets/controls",
      "model_module_version": "1.5.0",
      "model_name": "IntSliderModel",
      "state": {
       "description": "Particles (N):",
       "layout": "IPY_MODEL_69508e24b6254b62bfd4c104f8f45a20",
       "max": 10000,
       "min": 1,
       "style": "IPY_MODEL_05752017342a44cd9a88abb5505809b2",
       "value": 5000
      }
     },
     "80f18e69a910418990784cf6fe21498a": {
      "model_module": "@jupyter-widgets/base",
      "model_module_version": "1.2.0",
      "model_name": "LayoutModel",
      "state": {}
     },
     "825e38f6add2444c88a131b76d871442": {
      "model_module": "@jupyter-widgets/controls",
      "model_module_version": "1.5.0",
      "model_name": "FloatSliderModel",
      "state": {
       "description": "Probability E:",
       "layout": "IPY_MODEL_a9af7d93f705407c9b6588c8dcd1d865",
       "max": 1,
       "min": 0.01,
       "step": 0.01,
       "style": "IPY_MODEL_bb8b0e83fea049e6a988296231d588ad",
       "value": 0.75
      }
     },
     "8542378d11144eafb2051a908aec635c": {
      "model_module": "@jupyter-widgets/output",
      "model_module_version": "1.0.0",
      "model_name": "OutputModel",
      "state": {
       "layout": "IPY_MODEL_cc3a919e8b0b484fbba5c8ec7e3fa9f1",
       "outputs": [
        {
         "data": {
          "image/png": "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\n",
          "text/plain": "<Figure size 720x720 with 2 Axes>"
         },
         "metadata": {
          "needs_background": "light"
         },
         "output_type": "display_data"
        },
        {
         "data": {
          "text/plain": "'All particles touch the ground after 156 s (Model Runtime 1.609375 s)'"
         },
         "metadata": {},
         "output_type": "display_data"
        }
       ]
      }
     },
     "8553c7bc80ec4295a6cac48bb0f07d2c": {
      "model_module": "@jupyter-widgets/controls",
      "model_module_version": "1.5.0",
      "model_name": "VBoxModel",
      "state": {
       "_dom_classes": [
        "widget-interact"
       ],
       "children": [
        "IPY_MODEL_6d55f85eec594efb94c5b8fc21bc5317",
        "IPY_MODEL_c2214e92255d4a199450d52756af2176",
        "IPY_MODEL_825e38f6add2444c88a131b76d871442",
        "IPY_MODEL_8c4b97a55c654024980d3267dd8cbcfa",
        "IPY_MODEL_691904decef0415b8d2ebbe24bc3765f",
        "IPY_MODEL_0063dcef6e37496f862002f21806aad2",
        "IPY_MODEL_26861e1a7f5940a3896ebc6ae4458627",
        "IPY_MODEL_314b570350554af99f43215c19d987fa"
       ],
       "layout": "IPY_MODEL_4cbb03f7cafd40d198950522ef795ed2"
      }
     },
     "8554a2ab3a024ca2bb99723ce0d1c0f5": {
      "model_module": "@jupyter-widgets/controls",
      "model_module_version": "1.5.0",
      "model_name": "IntSliderModel",
      "state": {
       "description": "Particles (N):",
       "layout": "IPY_MODEL_2a91ceb363944e709d50271fc632acec",
       "max": 10000,
       "min": 1,
       "style": "IPY_MODEL_573278db99314620b096af8f13838f49",
       "value": 5000
      }
     },
     "85a6949c33464b128c3c47a823097d89": {
      "model_module": "@jupyter-widgets/controls",
      "model_module_version": "1.5.0",
      "model_name": "SliderStyleModel",
      "state": {
       "description_width": ""
      }
     },
     "86684675271d492e8019093373f2b4d2": {
      "model_module": "@jupyter-widgets/controls",
      "model_module_version": "1.5.0",
      "model_name": "ButtonStyleModel",
      "state": {}
     },
     "8761b399e65e4691a2f2547912351ffd": {
      "model_module": "@jupyter-widgets/controls",
      "model_module_version": "1.5.0",
      "model_name": "SliderStyleModel",
      "state": {
       "description_width": ""
      }
     },
     "87f6f4c156464f3884919f097c41fb63": {
      "model_module": "@jupyter-widgets/controls",
      "model_module_version": "1.5.0",
      "model_name": "FloatSliderModel",
      "state": {
       "description": "Probability N:",
       "layout": "IPY_MODEL_b27fe9209345475c8ff263033f4a1bc5",
       "max": 1,
       "min": 0.01,
       "step": 0.01,
       "style": "IPY_MODEL_e15bc919bd984b2aa46356e4fed4ae21",
       "value": 0.25
      }
     },
     "8a8c4e7276dd4ad88546b7ade412e154": {
      "model_module": "@jupyter-widgets/controls",
      "model_module_version": "1.5.0",
      "model_name": "SliderStyleModel",
      "state": {
       "description_width": ""
      }
     },
     "8ab4229ce33a48e0bccbd3b6ac454921": {
      "model_module": "@jupyter-widgets/controls",
      "model_module_version": "1.5.0",
      "model_name": "FloatSliderModel",
      "state": {
       "description": "Probability S:",
       "layout": "IPY_MODEL_0a8db0a136d84aae9f8de27c48af5de7",
       "max": 1,
       "min": 0.01,
       "step": 0.01,
       "style": "IPY_MODEL_054dca217e7548e1b6705658b447cdc2",
       "value": 0.1
      }
     },
     "8ae8cc5d5a4f47a4be36864d1c46be99": {
      "model_module": "@jupyter-widgets/base",
      "model_module_version": "1.2.0",
      "model_name": "LayoutModel",
      "state": {}
     },
     "8b4f56a0e7c84562835e8803d4a5ce70": {
      "model_module": "@jupyter-widgets/controls",
      "model_module_version": "1.5.0",
      "model_name": "FloatSliderModel",
      "state": {
       "description": "Probability N:",
       "layout": "IPY_MODEL_cd75b19114c941efbd88d4e7664008e7",
       "max": 1,
       "min": 0.01,
       "step": 0.01,
       "style": "IPY_MODEL_3b095199d9b5465d9a4fb120ba8e5e94",
       "value": 0.1
      }
     },
     "8c4b97a55c654024980d3267dd8cbcfa": {
      "model_module": "@jupyter-widgets/controls",
      "model_module_version": "1.5.0",
      "model_name": "FloatSliderModel",
      "state": {
       "description": "Probability W:",
       "layout": "IPY_MODEL_28fcdfcba54a4b27bfe4bc89c2385473",
       "max": 1,
       "min": 0.01,
       "step": 0.01,
       "style": "IPY_MODEL_5c383a8f336842e1874ad324025b1a9c",
       "value": 0.05
      }
     },
     "8cbd3f1d42524c0bb04c6d4dfe275111": {
      "model_module": "@jupyter-widgets/controls",
      "model_module_version": "1.5.0",
      "model_name": "IntSliderModel",
      "state": {
       "description": "Height (m):",
       "layout": "IPY_MODEL_eac03c4809c040b2802a09eda3dbe45d",
       "min": 1,
       "style": "IPY_MODEL_f592d5fb41f94f4195be3ce2c8a45eeb",
       "value": 75
      }
     },
     "906ccc53893d4dbfb5cd071af44cc396": {
      "model_module": "@jupyter-widgets/controls",
      "model_module_version": "1.5.0",
      "model_name": "SliderStyleModel",
      "state": {
       "description_width": ""
      }
     },
     "91ac8788e78c4850a153d7c1d9c16d5c": {
      "model_module": "@jupyter-widgets/controls",
      "model_module_version": "1.5.0",
      "model_name": "VBoxModel",
      "state": {
       "_dom_classes": [
        "widget-interact"
       ],
       "children": [
        "IPY_MODEL_8554a2ab3a024ca2bb99723ce0d1c0f5",
        "IPY_MODEL_085394fd4c4d456cbc00cd6f249d54db",
        "IPY_MODEL_27dbee3dff3049cc88c03cb488a20b92",
        "IPY_MODEL_ce612e91f30c41fcb52549cb9eaab6a8",
        "IPY_MODEL_ac8b782c1d844e59a2d32815dcc7a58a",
        "IPY_MODEL_34e8fd3cdb1f4be0bde96b1545cfb2cf",
        "IPY_MODEL_a97b3d9324ed4bf1a3d2456919e5d586",
        "IPY_MODEL_32dc7aef415c4184a5fe90b719c39766"
       ],
       "layout": "IPY_MODEL_e86d0c006b6a4ac99803ad525cab7df6"
      }
     },
     "935e553408db48888159f45743f06c86": {
      "model_module": "@jupyter-widgets/base",
      "model_module_version": "1.2.0",
      "model_name": "LayoutModel",
      "state": {}
     },
     "94eaba9962b9497a9b5a3869104f0bde": {
      "model_module": "@jupyter-widgets/base",
      "model_module_version": "1.2.0",
      "model_name": "LayoutModel",
      "state": {}
     },
     "968061b7dd174b8c869d2a712479a052": {
      "model_module": "@jupyter-widgets/controls",
      "model_module_version": "1.5.0",
      "model_name": "SliderStyleModel",
      "state": {
       "description_width": ""
      }
     },
     "96a0b476312c4090a75597f36bbd61d2": {
      "model_module": "@jupyter-widgets/base",
      "model_module_version": "1.2.0",
      "model_name": "LayoutModel",
      "state": {}
     },
     "9769c7c630684644b13e630e4d174a9b": {
      "model_module": "@jupyter-widgets/base",
      "model_module_version": "1.2.0",
      "model_name": "LayoutModel",
      "state": {}
     },
     "98257f70a4c6436db5634baf827edafe": {
      "model_module": "@jupyter-widgets/controls",
      "model_module_version": "1.5.0",
      "model_name": "IntSliderModel",
      "state": {
       "description": "Particles (N):",
       "layout": "IPY_MODEL_4ea792c32ad94bbfb46c3bbea724dceb",
       "max": 10000,
       "min": 1,
       "style": "IPY_MODEL_9ba12da3e0e4474684acaf51f3944587",
       "value": 5000
      }
     },
     "98406d5abafc46b19470503a543f04e2": {
      "model_module": "@jupyter-widgets/controls",
      "model_module_version": "1.5.0",
      "model_name": "SliderStyleModel",
      "state": {
       "description_width": ""
      }
     },
     "98a7a18b82c84bf9bdad9a858cb4a476": {
      "model_module": "@jupyter-widgets/controls",
      "model_module_version": "1.5.0",
      "model_name": "FloatSliderModel",
      "state": {
       "description": "Probability N:",
       "layout": "IPY_MODEL_44e88db558f049ed80e8f941b702343f",
       "max": 1,
       "min": 0.01,
       "step": 0.01,
       "style": "IPY_MODEL_41930f9c07fb4920a72f1aae6a51d188",
       "value": 0.1
      }
     },
     "99defb3b9ccd4ada8cdbb89d8cdbd728": {
      "model_module": "@jupyter-widgets/controls",
      "model_module_version": "1.5.0",
      "model_name": "SliderStyleModel",
      "state": {
       "description_width": ""
      }
     },
     "9a2999b306e948daa9958815d465ec3b": {
      "model_module": "@jupyter-widgets/controls",
      "model_module_version": "1.5.0",
      "model_name": "IntSliderModel",
      "state": {
       "description": "Particles (N):",
       "layout": "IPY_MODEL_5827e45757d4432eaaf4451fe498fa8e",
       "max": 10000,
       "min": 1,
       "style": "IPY_MODEL_968061b7dd174b8c869d2a712479a052",
       "value": 5000
      }
     },
     "9b7589d5f1694b8d8ee565695c5e442e": {
      "model_module": "@jupyter-widgets/controls",
      "model_module_version": "1.5.0",
      "model_name": "ButtonStyleModel",
      "state": {}
     },
     "9ba12da3e0e4474684acaf51f3944587": {
      "model_module": "@jupyter-widgets/controls",
      "model_module_version": "1.5.0",
      "model_name": "SliderStyleModel",
      "state": {
       "description_width": ""
      }
     },
     "9e123f4a79d04340be3180e58de8b352": {
      "model_module": "@jupyter-widgets/controls",
      "model_module_version": "1.5.0",
      "model_name": "FloatSliderModel",
      "state": {
       "description": "Probability S:",
       "layout": "IPY_MODEL_7d4e262662a643b0aeeedc378e614b92",
       "max": 1,
       "min": 0.01,
       "step": 0.01,
       "style": "IPY_MODEL_3f439b8fabad4fd994fb2f4aaafe20da",
       "value": 0.1
      }
     },
     "9ea28c817bf94c87850f2193cfc4a625": {
      "model_module": "@jupyter-widgets/controls",
      "model_module_version": "1.5.0",
      "model_name": "SliderStyleModel",
      "state": {
       "description_width": ""
      }
     },
     "9ee4f39f7ad9426dba2f1130f68958cc": {
      "model_module": "@jupyter-widgets/controls",
      "model_module_version": "1.5.0",
      "model_name": "FloatSliderModel",
      "state": {
       "description": "Probability N:",
       "layout": "IPY_MODEL_591212f925594b8998cb16aac5a87a11",
       "max": 1,
       "min": 0.01,
       "step": 0.01,
       "style": "IPY_MODEL_ed48340fef3e49d68c441dfd499a10eb",
       "value": 0.1
      }
     },
     "9f6824e2d14f4dde846bf5772217aef0": {
      "model_module": "@jupyter-widgets/controls",
      "model_module_version": "1.5.0",
      "model_name": "SliderStyleModel",
      "state": {
       "description_width": ""
      }
     },
     "a0e709e2f1f14baea82cb0bff5d684f9": {
      "model_module": "@jupyter-widgets/base",
      "model_module_version": "1.2.0",
      "model_name": "LayoutModel",
      "state": {}
     },
     "a3fd57bbe4754491b037b44fa2be716d": {
      "model_module": "@jupyter-widgets/controls",
      "model_module_version": "1.5.0",
      "model_name": "FloatSliderModel",
      "state": {
       "description": "Probability S:",
       "layout": "IPY_MODEL_94eaba9962b9497a9b5a3869104f0bde",
       "max": 1,
       "min": 0.01,
       "step": 0.01,
       "style": "IPY_MODEL_ab19e2bf7ad94116a2f66f8af52d7fa4",
       "value": 0.1
      }
     },
     "a620d490e87a4a1b823cd7d01a7347df": {
      "model_module": "@jupyter-widgets/base",
      "model_module_version": "1.2.0",
      "model_name": "LayoutModel",
      "state": {}
     },
     "a876f8ff5b2b4405a27173923fffc0a9": {
      "model_module": "@jupyter-widgets/controls",
      "model_module_version": "1.5.0",
      "model_name": "FloatSliderModel",
      "state": {
       "description": "Probability S:",
       "layout": "IPY_MODEL_bb7982be6ede411dbb4280d0a9d654c2",
       "max": 1,
       "min": 0.01,
       "step": 0.01,
       "style": "IPY_MODEL_e54c14dc0be740c8a6953d9d6886c8c5",
       "value": 0.1
      }
     },
     "a97b3d9324ed4bf1a3d2456919e5d586": {
      "model_module": "@jupyter-widgets/controls",
      "model_module_version": "1.5.0",
      "model_name": "ButtonModel",
      "state": {
       "description": "Run Interact",
       "layout": "IPY_MODEL_b4ccb8b05b254fc081c61a3675c81f19",
       "style": "IPY_MODEL_de628258bb9d40c7b7bf5c784ac1c148"
      }
     },
     "a9af7d93f705407c9b6588c8dcd1d865": {
      "model_module": "@jupyter-widgets/base",
      "model_module_version": "1.2.0",
      "model_name": "LayoutModel",
      "state": {}
     },
     "ab19e2bf7ad94116a2f66f8af52d7fa4": {
      "model_module": "@jupyter-widgets/controls",
      "model_module_version": "1.5.0",
      "model_name": "SliderStyleModel",
      "state": {
       "description_width": ""
      }
     },
     "ab3dd27240124a1780eb5b5c7a2757b1": {
      "model_module": "@jupyter-widgets/controls",
      "model_module_version": "1.5.0",
      "model_name": "FloatSliderModel",
      "state": {
       "description": "Probability W:",
       "layout": "IPY_MODEL_80f18e69a910418990784cf6fe21498a",
       "max": 1,
       "min": 0.01,
       "step": 0.01,
       "style": "IPY_MODEL_b138e4d7501c4691a6bd0f682980c8f4",
       "value": 0.05
      }
     },
     "ab453ac3343e4fa395d7b8d8e6954c2f": {
      "model_module": "@jupyter-widgets/controls",
      "model_module_version": "1.5.0",
      "model_name": "ButtonStyleModel",
      "state": {}
     },
     "abce508be20f41b3bf6833fb445dd258": {
      "model_module": "@jupyter-widgets/controls",
      "model_module_version": "1.5.0",
      "model_name": "SliderStyleModel",
      "state": {
       "description_width": ""
      }
     },
     "abd3efabcc504f51b70bfdec73322482": {
      "model_module": "@jupyter-widgets/controls",
      "model_module_version": "1.5.0",
      "model_name": "SliderStyleModel",
      "state": {
       "description_width": ""
      }
     },
     "ac8b782c1d844e59a2d32815dcc7a58a": {
      "model_module": "@jupyter-widgets/controls",
      "model_module_version": "1.5.0",
      "model_name": "FloatSliderModel",
      "state": {
       "description": "Probability N:",
       "layout": "IPY_MODEL_7da3b05260904fcb8a04946495f17677",
       "max": 1,
       "min": 0.01,
       "step": 0.01,
       "style": "IPY_MODEL_f6f029eb19d248d3abe2f7ffaa35a9a7",
       "value": 0.25
      }
     },
     "adf1b27228d7434584362fe559504940": {
      "model_module": "@jupyter-widgets/controls",
      "model_module_version": "1.5.0",
      "model_name": "FloatSliderModel",
      "state": {
       "description": "Probability N:",
       "layout": "IPY_MODEL_600738ecd154493c9e63fcb07a1d1f02",
       "max": 1,
       "min": 0.01,
       "step": 0.01,
       "style": "IPY_MODEL_44473aaeb6754b279a4af314c53a1368",
       "value": 0.1
      }
     },
     "af0d316caa9148a8ab37e22efe182fc8": {
      "model_module": "@jupyter-widgets/controls",
      "model_module_version": "1.5.0",
      "model_name": "VBoxModel",
      "state": {
       "_dom_classes": [
        "widget-interact"
       ],
       "children": [
        "IPY_MODEL_69cc8be7ee7d4335a48c5b85cc89df3e",
        "IPY_MODEL_c0ea75ab681e438b9749054461f16256",
        "IPY_MODEL_f63018446d424cd7acbbaacdd56b0b46",
        "IPY_MODEL_0155d9b4ae0443a6ada00c0139fe47a1",
        "IPY_MODEL_dceac3007e6642c8b54bf8cdc053bb14",
        "IPY_MODEL_a876f8ff5b2b4405a27173923fffc0a9",
        "IPY_MODEL_b1566a7c757042d9b7aaf550271ea960",
        "IPY_MODEL_fd761fcb3354493eaee18c184a983974"
       ],
       "layout": "IPY_MODEL_31b52fd3d7a44d638275ffa1f2b484c7"
      }
     },
     "af293c791ea34607af11f834a11fbca8": {
      "model_module": "@jupyter-widgets/controls",
      "model_module_version": "1.5.0",
      "model_name": "SliderStyleModel",
      "state": {
       "description_width": ""
      }
     },
     "afbb49628540485f9cfbe443d1647c33": {
      "model_module": "@jupyter-widgets/output",
      "model_module_version": "1.0.0",
      "model_name": "OutputModel",
      "state": {
       "layout": "IPY_MODEL_187fc59208914eefac13a054e94cc4ae",
       "outputs": [
        {
         "data": {
          "image/png": "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\n",
          "text/plain": "<Figure size 1000x1000 with 2 Axes>"
         },
         "metadata": {},
         "output_type": "display_data"
        },
        {
         "ename": "NameError",
         "evalue": "name 'max_its' is not defined",
         "output_type": "error",
         "traceback": [
          "\u001b[1;31m---------------------------------------------------------------------------\u001b[0m",
          "\u001b[1;31mNameError\u001b[0m                                 Traceback (most recent call last)",
          "\u001b[1;32m~\\Anaconda3\\lib\\site-packages\\ipywidgets\\widgets\\interaction.py\u001b[0m in \u001b[0;36mupdate\u001b[1;34m(self, *args)\u001b[0m\n\u001b[0;32m    255\u001b[0m                     \u001b[0mvalue\u001b[0m \u001b[1;33m=\u001b[0m \u001b[0mwidget\u001b[0m\u001b[1;33m.\u001b[0m\u001b[0mget_interact_value\u001b[0m\u001b[1;33m(\u001b[0m\u001b[1;33m)\u001b[0m\u001b[1;33m\u001b[0m\u001b[1;33m\u001b[0m\u001b[0m\n\u001b[0;32m    256\u001b[0m                     \u001b[0mself\u001b[0m\u001b[1;33m.\u001b[0m\u001b[0mkwargs\u001b[0m\u001b[1;33m[\u001b[0m\u001b[0mwidget\u001b[0m\u001b[1;33m.\u001b[0m\u001b[0m_kwarg\u001b[0m\u001b[1;33m]\u001b[0m \u001b[1;33m=\u001b[0m \u001b[0mvalue\u001b[0m\u001b[1;33m\u001b[0m\u001b[1;33m\u001b[0m\u001b[0m\n\u001b[1;32m--> 257\u001b[1;33m                 \u001b[0mself\u001b[0m\u001b[1;33m.\u001b[0m\u001b[0mresult\u001b[0m \u001b[1;33m=\u001b[0m \u001b[0mself\u001b[0m\u001b[1;33m.\u001b[0m\u001b[0mf\u001b[0m\u001b[1;33m(\u001b[0m\u001b[1;33m**\u001b[0m\u001b[0mself\u001b[0m\u001b[1;33m.\u001b[0m\u001b[0mkwargs\u001b[0m\u001b[1;33m)\u001b[0m\u001b[1;33m\u001b[0m\u001b[1;33m\u001b[0m\u001b[0m\n\u001b[0m\u001b[0;32m    258\u001b[0m                 \u001b[0mshow_inline_matplotlib_plots\u001b[0m\u001b[1;33m(\u001b[0m\u001b[1;33m)\u001b[0m\u001b[1;33m\u001b[0m\u001b[1;33m\u001b[0m\u001b[0m\n\u001b[0;32m    259\u001b[0m                 \u001b[1;32mif\u001b[0m \u001b[0mself\u001b[0m\u001b[1;33m.\u001b[0m\u001b[0mauto_display\u001b[0m \u001b[1;32mand\u001b[0m \u001b[0mself\u001b[0m\u001b[1;33m.\u001b[0m\u001b[0mresult\u001b[0m \u001b[1;32mis\u001b[0m \u001b[1;32mnot\u001b[0m \u001b[1;32mNone\u001b[0m\u001b[1;33m:\u001b[0m\u001b[1;33m\u001b[0m\u001b[1;33m\u001b[0m\u001b[0m\n",
          "\u001b[1;32m~\\AppData\\Local\\Temp\\ipykernel_21600\\3928389478.py\u001b[0m in \u001b[0;36mrun\u001b[1;34m(n_particles, height, Ew, Ww, Nw, Sw)\u001b[0m\n\u001b[0;32m     25\u001b[0m \u001b[1;33m\u001b[0m\u001b[0m\n\u001b[0;32m     26\u001b[0m     \u001b[1;31m# Show the elapsed time (for all particles to reach the ground)\u001b[0m\u001b[1;33m\u001b[0m\u001b[1;33m\u001b[0m\u001b[0m\n\u001b[1;32m---> 27\u001b[1;33m     \u001b[1;32mreturn\u001b[0m\u001b[1;33m(\u001b[0m\u001b[1;34m\"All particles touch the ground after \"\u001b[0m\u001b[1;33m+\u001b[0m\u001b[0mstr\u001b[0m\u001b[1;33m(\u001b[0m\u001b[0mmax_its\u001b[0m\u001b[1;33m)\u001b[0m\u001b[1;33m+\u001b[0m\u001b[1;34m\" s (Model Runtime \"\u001b[0m\u001b[1;33m+\u001b[0m\u001b[0mstr\u001b[0m\u001b[1;33m(\u001b[0m\u001b[0mend\u001b[0m \u001b[1;33m-\u001b[0m \u001b[0mstart\u001b[0m\u001b[1;33m)\u001b[0m\u001b[1;33m+\u001b[0m\u001b[1;34m\" s)\"\u001b[0m\u001b[1;33m)\u001b[0m\u001b[1;33m\u001b[0m\u001b[1;33m\u001b[0m\u001b[0m\n\u001b[0m\u001b[0;32m     28\u001b[0m \u001b[1;33m\u001b[0m\u001b[0m\n",
          "\u001b[1;31mNameError\u001b[0m: name 'max_its' is not defined"
         ]
        }
       ]
      }
     },
     "afd33ca579b047fab0ac5589a264a4ff": {
      "model_module": "@jupyter-widgets/controls",
      "model_module_version": "1.5.0",
      "model_name": "FloatSliderModel",
      "state": {
       "description": "Probability W:",
       "layout": "IPY_MODEL_eac658b5115d4a829681f8fa90767b72",
       "max": 1,
       "min": 0.01,
       "step": 0.01,
       "style": "IPY_MODEL_650910e0df7a4f79a620226a55e3fe0d",
       "value": 0.05
      }
     },
     "b0483414a2ec434f8019c820d7a150e0": {
      "model_module": "@jupyter-widgets/base",
      "model_module_version": "1.2.0",
      "model_name": "LayoutModel",
      "state": {}
     },
     "b04aba8237564b54a97fa0d2b2da1088": {
      "model_module": "@jupyter-widgets/base",
      "model_module_version": "1.2.0",
      "model_name": "LayoutModel",
      "state": {}
     },
     "b138e4d7501c4691a6bd0f682980c8f4": {
      "model_module": "@jupyter-widgets/controls",
      "model_module_version": "1.5.0",
      "model_name": "SliderStyleModel",
      "state": {
       "description_width": ""
      }
     },
     "b1566a7c757042d9b7aaf550271ea960": {
      "model_module": "@jupyter-widgets/controls",
      "model_module_version": "1.5.0",
      "model_name": "ButtonModel",
      "state": {
       "description": "Run Interact",
       "layout": "IPY_MODEL_e0e1f3ef160d424f81adf946f6815fb2",
       "style": "IPY_MODEL_9b7589d5f1694b8d8ee565695c5e442e"
      }
     },
     "b27fe9209345475c8ff263033f4a1bc5": {
      "model_module": "@jupyter-widgets/base",
      "model_module_version": "1.2.0",
      "model_name": "LayoutModel",
      "state": {}
     },
     "b4ccb8b05b254fc081c61a3675c81f19": {
      "model_module": "@jupyter-widgets/base",
      "model_module_version": "1.2.0",
      "model_name": "LayoutModel",
      "state": {}
     },
     "b5c3263073214871be4486f29fe90f6b": {
      "model_module": "@jupyter-widgets/controls",
      "model_module_version": "1.5.0",
      "model_name": "SliderStyleModel",
      "state": {
       "description_width": ""
      }
     },
     "b878106b25d94a77a72dbebbba3687b5": {
      "model_module": "@jupyter-widgets/base",
      "model_module_version": "1.2.0",
      "model_name": "LayoutModel",
      "state": {}
     },
     "ba962534c54d4bba8300a4afe259f3af": {
      "model_module": "@jupyter-widgets/controls",
      "model_module_version": "1.5.0",
      "model_name": "FloatSliderModel",
      "state": {
       "description": "Probability W:",
       "layout": "IPY_MODEL_67a35cff02ee469dbd574555b37e7718",
       "max": 1,
       "min": 0.01,
       "step": 0.01,
       "style": "IPY_MODEL_e893a2092031429282069f9e485c8da4",
       "value": 0.05
      }
     },
     "bb7982be6ede411dbb4280d0a9d654c2": {
      "model_module": "@jupyter-widgets/base",
      "model_module_version": "1.2.0",
      "model_name": "LayoutModel",
      "state": {}
     },
     "bb8b0e83fea049e6a988296231d588ad": {
      "model_module": "@jupyter-widgets/controls",
      "model_module_version": "1.5.0",
      "model_name": "SliderStyleModel",
      "state": {
       "description_width": ""
      }
     },
     "bbe98c45c6384536ad0fe96b19274e25": {
      "model_module": "@jupyter-widgets/controls",
      "model_module_version": "1.5.0",
      "model_name": "FloatSliderModel",
      "state": {
       "description": "Probability E:",
       "layout": "IPY_MODEL_39ba19ec32f747a3b4a476d9e2a5e4a2",
       "max": 1,
       "min": 0.01,
       "step": 0.01,
       "style": "IPY_MODEL_3dc91611947f475085453a4ee98c5ca4",
       "value": 0.75
      }
     },
     "bf09e1a008264d2d83dc7f84232cde5f": {
      "model_module": "@jupyter-widgets/base",
      "model_module_version": "1.2.0",
      "model_name": "LayoutModel",
      "state": {}
     },
     "bf70001aacdd497cbda384d437c2b887": {
      "model_module": "@jupyter-widgets/output",
      "model_module_version": "1.0.0",
      "model_name": "OutputModel",
      "state": {
       "layout": "IPY_MODEL_52509f5a64e34b6f81986add1bd865ac",
       "outputs": [
        {
         "ename": "NameError",
         "evalue": "name 'time' is not defined",
         "output_type": "error",
         "traceback": [
          "\u001b[1;31m---------------------------------------------------------------------------\u001b[0m",
          "\u001b[1;31mNameError\u001b[0m                                 Traceback (most recent call last)",
          "\u001b[1;32mC:\\ProgramData\\Anaconda3\\lib\\site-packages\\ipywidgets\\widgets\\interaction.py\u001b[0m in \u001b[0;36mupdate\u001b[1;34m(self, *args)\u001b[0m\n\u001b[0;32m    254\u001b[0m                     \u001b[0mvalue\u001b[0m \u001b[1;33m=\u001b[0m \u001b[0mwidget\u001b[0m\u001b[1;33m.\u001b[0m\u001b[0mget_interact_value\u001b[0m\u001b[1;33m(\u001b[0m\u001b[1;33m)\u001b[0m\u001b[1;33m\u001b[0m\u001b[1;33m\u001b[0m\u001b[0m\n\u001b[0;32m    255\u001b[0m                     \u001b[0mself\u001b[0m\u001b[1;33m.\u001b[0m\u001b[0mkwargs\u001b[0m\u001b[1;33m[\u001b[0m\u001b[0mwidget\u001b[0m\u001b[1;33m.\u001b[0m\u001b[0m_kwarg\u001b[0m\u001b[1;33m]\u001b[0m \u001b[1;33m=\u001b[0m \u001b[0mvalue\u001b[0m\u001b[1;33m\u001b[0m\u001b[1;33m\u001b[0m\u001b[0m\n\u001b[1;32m--> 256\u001b[1;33m                 \u001b[0mself\u001b[0m\u001b[1;33m.\u001b[0m\u001b[0mresult\u001b[0m \u001b[1;33m=\u001b[0m \u001b[0mself\u001b[0m\u001b[1;33m.\u001b[0m\u001b[0mf\u001b[0m\u001b[1;33m(\u001b[0m\u001b[1;33m**\u001b[0m\u001b[0mself\u001b[0m\u001b[1;33m.\u001b[0m\u001b[0mkwargs\u001b[0m\u001b[1;33m)\u001b[0m\u001b[1;33m\u001b[0m\u001b[1;33m\u001b[0m\u001b[0m\n\u001b[0m\u001b[0;32m    257\u001b[0m                 \u001b[0mshow_inline_matplotlib_plots\u001b[0m\u001b[1;33m(\u001b[0m\u001b[1;33m)\u001b[0m\u001b[1;33m\u001b[0m\u001b[1;33m\u001b[0m\u001b[0m\n\u001b[0;32m    258\u001b[0m                 \u001b[1;32mif\u001b[0m \u001b[0mself\u001b[0m\u001b[1;33m.\u001b[0m\u001b[0mauto_display\u001b[0m \u001b[1;32mand\u001b[0m \u001b[0mself\u001b[0m\u001b[1;33m.\u001b[0m\u001b[0mresult\u001b[0m \u001b[1;32mis\u001b[0m \u001b[1;32mnot\u001b[0m \u001b[1;32mNone\u001b[0m\u001b[1;33m:\u001b[0m\u001b[1;33m\u001b[0m\u001b[1;33m\u001b[0m\u001b[0m\n",
          "\u001b[1;32m<ipython-input-20-74a70a656390>\u001b[0m in \u001b[0;36mrun\u001b[1;34m(n_particles, height, Ew, Ww, Nw, Sw)\u001b[0m\n\u001b[0;32m      1\u001b[0m \u001b[1;32mdef\u001b[0m \u001b[0mrun\u001b[0m\u001b[1;33m(\u001b[0m\u001b[0mn_particles\u001b[0m\u001b[1;33m,\u001b[0m\u001b[0mheight\u001b[0m\u001b[1;33m,\u001b[0m\u001b[0mEw\u001b[0m\u001b[1;33m,\u001b[0m\u001b[0mWw\u001b[0m\u001b[1;33m,\u001b[0m\u001b[0mNw\u001b[0m\u001b[1;33m,\u001b[0m\u001b[0mSw\u001b[0m\u001b[1;33m)\u001b[0m\u001b[1;33m:\u001b[0m\u001b[1;33m\u001b[0m\u001b[1;33m\u001b[0m\u001b[0m\n\u001b[0;32m      2\u001b[0m     \u001b[1;31m# Record start time for timing\u001b[0m\u001b[1;33m\u001b[0m\u001b[1;33m\u001b[0m\u001b[1;33m\u001b[0m\u001b[0m\n\u001b[1;32m----> 3\u001b[1;33m     \u001b[0mstart\u001b[0m \u001b[1;33m=\u001b[0m \u001b[0mtime\u001b[0m\u001b[1;33m.\u001b[0m\u001b[0mprocess_time\u001b[0m\u001b[1;33m(\u001b[0m\u001b[1;33m)\u001b[0m\u001b[1;33m\u001b[0m\u001b[1;33m\u001b[0m\u001b[0m\n\u001b[0m\u001b[0;32m      4\u001b[0m \u001b[1;33m\u001b[0m\u001b[0m\n\u001b[0;32m      5\u001b[0m     \u001b[1;31m#Update values in sliders before using them\u001b[0m\u001b[1;33m\u001b[0m\u001b[1;33m\u001b[0m\u001b[1;33m\u001b[0m\u001b[0m\n",
          "\u001b[1;31mNameError\u001b[0m: name 'time' is not defined"
         ]
        }
       ]
      }
     },
     "bfa1f5639e3f4edb839af3893d7f1331": {
      "model_module": "@jupyter-widgets/base",
      "model_module_version": "1.2.0",
      "model_name": "LayoutModel",
      "state": {}
     },
     "bffe63a84a15448ea8801b1e859e40cc": {
      "model_module": "@jupyter-widgets/controls",
      "model_module_version": "1.5.0",
      "model_name": "VBoxModel",
      "state": {
       "_dom_classes": [
        "widget-interact"
       ],
       "children": [
        "IPY_MODEL_9a2999b306e948daa9958815d465ec3b",
        "IPY_MODEL_d878602fa0ff4e7ba912f7f5c71308ed",
        "IPY_MODEL_1d7a4ec8d26741f9b96e2303615a6e83",
        "IPY_MODEL_c7ecc787839f4d86a10232b03ba63074",
        "IPY_MODEL_adf1b27228d7434584362fe559504940",
        "IPY_MODEL_dc20a02eeb0a430fbc829d3602150175",
        "IPY_MODEL_f9211274e01f4a04acd6036b9542789b",
        "IPY_MODEL_afbb49628540485f9cfbe443d1647c33"
       ],
       "layout": "IPY_MODEL_fa8bba8ee1924500b585cb1a1d42ed69"
      }
     },
     "c028fe001425441bb862edc7ba595194": {
      "model_module": "@jupyter-widgets/base",
      "model_module_version": "1.2.0",
      "model_name": "LayoutModel",
      "state": {}
     },
     "c09a693262fb4d52b604833768ec647d": {
      "model_module": "@jupyter-widgets/controls",
      "model_module_version": "1.5.0",
      "model_name": "SliderStyleModel",
      "state": {
       "description_width": ""
      }
     },
     "c0ea75ab681e438b9749054461f16256": {
      "model_module": "@jupyter-widgets/controls",
      "model_module_version": "1.5.0",
      "model_name": "IntSliderModel",
      "state": {
       "description": "Height (m):",
       "layout": "IPY_MODEL_7bc5a63b0ddb438686199fb3a780b146",
       "min": 1,
       "style": "IPY_MODEL_abce508be20f41b3bf6833fb445dd258",
       "value": 75
      }
     },
     "c133368b78dc44208ac047c361e86750": {
      "model_module": "@jupyter-widgets/base",
      "model_module_version": "1.2.0",
      "model_name": "LayoutModel",
      "state": {}
     },
     "c1c444575f5b4f9287173b0bf1c14833": {
      "model_module": "@jupyter-widgets/controls",
      "model_module_version": "1.5.0",
      "model_name": "IntSliderModel",
      "state": {
       "description": "Particles (N):",
       "layout": "IPY_MODEL_e36b4a3a587e4fa98ce00021ec8d90d0",
       "max": 10000,
       "min": 1,
       "style": "IPY_MODEL_599b6e03f1da4410b0fc19a48d8547eb",
       "value": 5757
      }
     },
     "c2214e92255d4a199450d52756af2176": {
      "model_module": "@jupyter-widgets/controls",
      "model_module_version": "1.5.0",
      "model_name": "IntSliderModel",
      "state": {
       "description": "Height (m):",
       "layout": "IPY_MODEL_e94e1530730f431e8d22bdf25a2d1606",
       "min": 1,
       "style": "IPY_MODEL_59ed2bb22ba742fba4c58bbf68a46a6c",
       "value": 75
      }
     },
     "c2757c06679e4deabc2c63fef561a017": {
      "model_module": "@jupyter-widgets/controls",
      "model_module_version": "1.5.0",
      "model_name": "SliderStyleModel",
      "state": {
       "description_width": ""
      }
     },
     "c3692efd8721419eb152141e60724af4": {
      "model_module": "@jupyter-widgets/output",
      "model_module_version": "1.0.0",
      "model_name": "OutputModel",
      "state": {
       "layout": "IPY_MODEL_3ba00c7cc2f047c4b9ddc46554b00dd1",
       "outputs": [
        {
         "data": {
          "image/png": "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\n",
          "text/plain": "<Figure size 720x720 with 2 Axes>"
         },
         "metadata": {
          "needs_background": "light"
         },
         "output_type": "display_data"
        },
        {
         "data": {
          "text/plain": "'All particles touch the ground after 141s'"
         },
         "metadata": {},
         "output_type": "display_data"
        }
       ]
      }
     },
     "c477272ae2a74a04ae6d231b7fdb836e": {
      "model_module": "@jupyter-widgets/controls",
      "model_module_version": "1.5.0",
      "model_name": "FloatSliderModel",
      "state": {
       "description": "Probability E:",
       "layout": "IPY_MODEL_2a91fa31d92743c6895c5ca007769d6b",
       "max": 1,
       "min": 0.01,
       "step": 0.01,
       "style": "IPY_MODEL_8a8c4e7276dd4ad88546b7ade412e154",
       "value": 0.75
      }
     },
     "c4d1a2877108429c8915361aa38615ea": {
      "model_module": "@jupyter-widgets/controls",
      "model_module_version": "1.5.0",
      "model_name": "FloatSliderModel",
      "state": {
       "description": "Probability S:",
       "layout": "IPY_MODEL_0aa8e48ae476498580f712c00fe00719",
       "max": 1,
       "min": 0.01,
       "step": 0.01,
       "style": "IPY_MODEL_226af84ef7a740bf98579f76db9f04f9",
       "value": 0.1
      }
     },
     "c74bfee03dbe4ed19a2b98c4743235b3": {
      "model_module": "@jupyter-widgets/controls",
      "model_module_version": "1.5.0",
      "model_name": "IntSliderModel",
      "state": {
       "description": "Height (m):",
       "layout": "IPY_MODEL_5d7a2f67fbe54b9aba9f3d0118355462",
       "min": 1,
       "style": "IPY_MODEL_2b9377eecf49439dbb1d1c50d1d03b07",
       "value": 75
      }
     },
     "c7ecc787839f4d86a10232b03ba63074": {
      "model_module": "@jupyter-widgets/controls",
      "model_module_version": "1.5.0",
      "model_name": "FloatSliderModel",
      "state": {
       "description": "Probability W:",
       "layout": "IPY_MODEL_935e553408db48888159f45743f06c86",
       "max": 1,
       "min": 0.01,
       "step": 0.01,
       "style": "IPY_MODEL_0be5b87c1e0a486d8c5365e5cea6e27e",
       "value": 0.05
      }
     },
     "c869ca5a7a214c19bd8f6090abc4abe0": {
      "model_module": "@jupyter-widgets/base",
      "model_module_version": "1.2.0",
      "model_name": "LayoutModel",
      "state": {}
     },
     "c8826c73a9974c03aaf9042cf4de1016": {
      "model_module": "@jupyter-widgets/base",
      "model_module_version": "1.2.0",
      "model_name": "LayoutModel",
      "state": {}
     },
     "cc3a919e8b0b484fbba5c8ec7e3fa9f1": {
      "model_module": "@jupyter-widgets/base",
      "model_module_version": "1.2.0",
      "model_name": "LayoutModel",
      "state": {}
     },
     "cc3bf5302ab34b13a1937e2a21071aa5": {
      "model_module": "@jupyter-widgets/base",
      "model_module_version": "1.2.0",
      "model_name": "LayoutModel",
      "state": {}
     },
     "cc401efdecb64d00968b35961506dcfe": {
      "model_module": "@jupyter-widgets/controls",
      "model_module_version": "1.5.0",
      "model_name": "ButtonModel",
      "state": {
       "description": "Run Interact",
       "layout": "IPY_MODEL_800001b7a9e447e8b6702b1d7651efc8",
       "style": "IPY_MODEL_86684675271d492e8019093373f2b4d2"
      }
     },
     "cd19a563ebf446d4896d7f9d8e93daa0": {
      "model_module": "@jupyter-widgets/controls",
      "model_module_version": "1.5.0",
      "model_name": "SliderStyleModel",
      "state": {
       "description_width": ""
      }
     },
     "cd75b19114c941efbd88d4e7664008e7": {
      "model_module": "@jupyter-widgets/base",
      "model_module_version": "1.2.0",
      "model_name": "LayoutModel",
      "state": {}
     },
     "cd79a59c8b5e45539a015d76edfba62f": {
      "model_module": "@jupyter-widgets/output",
      "model_module_version": "1.0.0",
      "model_name": "OutputModel",
      "state": {
       "layout": "IPY_MODEL_b878106b25d94a77a72dbebbba3687b5",
       "outputs": [
        {
         "data": {
          "image/png": "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\n",
          "text/plain": "<Figure size 720x720 with 2 Axes>"
         },
         "metadata": {
          "needs_background": "light"
         },
         "output_type": "display_data"
        },
        {
         "data": {
          "text/plain": "'All particles touch the ground after 143 s (Model Runtime 1.609375 s)'"
         },
         "metadata": {},
         "output_type": "display_data"
        }
       ]
      }
     },
     "cdc0ae2cee4b4a1193c610641aeb0e75": {
      "model_module": "@jupyter-widgets/controls",
      "model_module_version": "1.5.0",
      "model_name": "FloatSliderModel",
      "state": {
       "description": "Probability E:",
       "layout": "IPY_MODEL_6194fca22e6f4e3db152d76734e967b5",
       "max": 1,
       "min": 0.01,
       "step": 0.01,
       "style": "IPY_MODEL_40b8f6f9f16647f0aba9781cd526772b",
       "value": 0.75
      }
     },
     "ce3ac6f14d354a849332e9aaeea2a867": {
      "model_module": "@jupyter-widgets/controls",
      "model_module_version": "1.5.0",
      "model_name": "SliderStyleModel",
      "state": {
       "description_width": ""
      }
     },
     "ce612e91f30c41fcb52549cb9eaab6a8": {
      "model_module": "@jupyter-widgets/controls",
      "model_module_version": "1.5.0",
      "model_name": "FloatSliderModel",
      "state": {
       "description": "Probability W:",
       "layout": "IPY_MODEL_dc8c1c4e0b5f45ccb9e4cd6ef6a0ada2",
       "max": 1,
       "min": 0.01,
       "step": 0.01,
       "style": "IPY_MODEL_133fe848fcee482ebaf8590fe7649519",
       "value": 0.25
      }
     },
     "cf1acabb4eeb413c93e2dc437d1ca3a8": {
      "model_module": "@jupyter-widgets/controls",
      "model_module_version": "1.5.0",
      "model_name": "IntSliderModel",
      "state": {
       "description": "Height (m):",
       "layout": "IPY_MODEL_4c826b8258214423bb292df1c17b09b2",
       "min": 1,
       "style": "IPY_MODEL_5df0fe2801724455ab905d1d105b4a32",
       "value": 75
      }
     },
     "d024e7734c4748ee9653ebe38e442c25": {
      "model_module": "@jupyter-widgets/base",
      "model_module_version": "1.2.0",
      "model_name": "LayoutModel",
      "state": {}
     },
     "d3eedfc6b7094833862b1e51b920e45e": {
      "model_module": "@jupyter-widgets/controls",
      "model_module_version": "1.5.0",
      "model_name": "VBoxModel",
      "state": {
       "_dom_classes": [
        "widget-interact"
       ],
       "children": [
        "IPY_MODEL_c1c444575f5b4f9287173b0bf1c14833",
        "IPY_MODEL_8cbd3f1d42524c0bb04c6d4dfe275111",
        "IPY_MODEL_cdc0ae2cee4b4a1193c610641aeb0e75",
        "IPY_MODEL_1cdd062235a94781bd206b10b17c3ffd",
        "IPY_MODEL_db61f242e03f494b8d41e01caf742899",
        "IPY_MODEL_22ae010e96a04ac7a605f827c94244fa",
        "IPY_MODEL_0ad3ff97ba3b41d39be22a1244ac74c0",
        "IPY_MODEL_e8ffeeacc7d94e4fab0b5a0408b1bf7e"
       ],
       "layout": "IPY_MODEL_418a8ec905c24051bf1ede82ea494b96"
      }
     },
     "d3f8269d7487446c91af939248eb4903": {
      "model_module": "@jupyter-widgets/controls",
      "model_module_version": "1.5.0",
      "model_name": "VBoxModel",
      "state": {
       "_dom_classes": [
        "widget-interact"
       ],
       "children": [
        "IPY_MODEL_80b229333a5e4cb0b97ee626b09ef4dd",
        "IPY_MODEL_0b6d34047b52443a89fc87a05c8c3f41",
        "IPY_MODEL_e3bf716cf05e45dfb9c8a9489d908e9b",
        "IPY_MODEL_2657372b354f48c986404d6e3d6654b1",
        "IPY_MODEL_7ebab2a5ca5f45acbba4afb1c1060a2d",
        "IPY_MODEL_c4d1a2877108429c8915361aa38615ea",
        "IPY_MODEL_6633a45be92346c8a1cd1c040832a0de",
        "IPY_MODEL_cd79a59c8b5e45539a015d76edfba62f"
       ],
       "layout": "IPY_MODEL_a620d490e87a4a1b823cd7d01a7347df"
      }
     },
     "d481a6843f9d43b7a1b318629832b4f5": {
      "model_module": "@jupyter-widgets/base",
      "model_module_version": "1.2.0",
      "model_name": "LayoutModel",
      "state": {}
     },
     "d63bad6878d2447083b63a60bb1ce7f6": {
      "model_module": "@jupyter-widgets/controls",
      "model_module_version": "1.5.0",
      "model_name": "SliderStyleModel",
      "state": {
       "description_width": ""
      }
     },
     "d6832d5d579c4d23a842122742952e46": {
      "model_module": "@jupyter-widgets/controls",
      "model_module_version": "1.5.0",
      "model_name": "SliderStyleModel",
      "state": {
       "description_width": ""
      }
     },
     "d878602fa0ff4e7ba912f7f5c71308ed": {
      "model_module": "@jupyter-widgets/controls",
      "model_module_version": "1.5.0",
      "model_name": "IntSliderModel",
      "state": {
       "description": "Height (m):",
       "layout": "IPY_MODEL_bf09e1a008264d2d83dc7f84232cde5f",
       "min": 1,
       "style": "IPY_MODEL_1cb5082bded140d795aa1e8c240e41d6",
       "value": 75
      }
     },
     "dad0224b969243abb3534675212b4e82": {
      "model_module": "@jupyter-widgets/controls",
      "model_module_version": "1.5.0",
      "model_name": "VBoxModel",
      "state": {
       "_dom_classes": [
        "widget-interact"
       ],
       "children": [
        "IPY_MODEL_e536bd0552744a86b79de524e57058d8",
        "IPY_MODEL_67e1c7da54e94565b9a303bedc572710",
        "IPY_MODEL_1b8c160085a549aaac0b468615d2f072",
        "IPY_MODEL_afd33ca579b047fab0ac5589a264a4ff",
        "IPY_MODEL_f99bd6d133234bdfac0ef9b553a2c434",
        "IPY_MODEL_8ab4229ce33a48e0bccbd3b6ac454921",
        "IPY_MODEL_cc401efdecb64d00968b35961506dcfe",
        "IPY_MODEL_bf70001aacdd497cbda384d437c2b887"
       ],
       "layout": "IPY_MODEL_0f691a27aa7c48538187e69d5977de02"
      }
     },
     "db61f242e03f494b8d41e01caf742899": {
      "model_module": "@jupyter-widgets/controls",
      "model_module_version": "1.5.0",
      "model_name": "FloatSliderModel",
      "state": {
       "description": "Probability N:",
       "layout": "IPY_MODEL_2b6d91aed5d841469ba97fea0ba7b974",
       "max": 1,
       "min": 0.01,
       "step": 0.01,
       "style": "IPY_MODEL_d6832d5d579c4d23a842122742952e46",
       "value": 0.1
      }
     },
     "dc20a02eeb0a430fbc829d3602150175": {
      "model_module": "@jupyter-widgets/controls",
      "model_module_version": "1.5.0",
      "model_name": "FloatSliderModel",
      "state": {
       "description": "Probability S:",
       "layout": "IPY_MODEL_0121630285e6456b998ba965a2883a9e",
       "max": 1,
       "min": 0.01,
       "step": 0.01,
       "style": "IPY_MODEL_e8a840319278419fa835d92266cb76c8",
       "value": 0.1
      }
     },
     "dc8c1c4e0b5f45ccb9e4cd6ef6a0ada2": {
      "model_module": "@jupyter-widgets/base",
      "model_module_version": "1.2.0",
      "model_name": "LayoutModel",
      "state": {}
     },
     "dceac3007e6642c8b54bf8cdc053bb14": {
      "model_module": "@jupyter-widgets/controls",
      "model_module_version": "1.5.0",
      "model_name": "FloatSliderModel",
      "state": {
       "description": "Probability N:",
       "layout": "IPY_MODEL_2bfa572e1a0c4276ab0df44dacc8269c",
       "max": 1,
       "min": 0.01,
       "step": 0.01,
       "style": "IPY_MODEL_e8e230ad201e4776b6da5ab16916a16e",
       "value": 0.1
      }
     },
     "dd6c0c62021d44389c5185c55f436dbc": {
      "model_module": "@jupyter-widgets/controls",
      "model_module_version": "1.5.0",
      "model_name": "IntSliderModel",
      "state": {
       "description": "Particles (N):",
       "layout": "IPY_MODEL_067ef3b3b863413cb0272fbe96ac4a3a",
       "max": 10000,
       "min": 1,
       "style": "IPY_MODEL_85a6949c33464b128c3c47a823097d89",
       "value": 5000
      }
     },
     "de0c00f2fbfc4c959cafd13a727fb6b3": {
      "model_module": "@jupyter-widgets/base",
      "model_module_version": "1.2.0",
      "model_name": "LayoutModel",
      "state": {}
     },
     "de628258bb9d40c7b7bf5c784ac1c148": {
      "model_module": "@jupyter-widgets/controls",
      "model_module_version": "1.5.0",
      "model_name": "ButtonStyleModel",
      "state": {}
     },
     "de9a8fa226304f53abd0ea18dcd2863b": {
      "model_module": "@jupyter-widgets/base",
      "model_module_version": "1.2.0",
      "model_name": "LayoutModel",
      "state": {}
     },
     "df502f08730147e2bb3f73ad1e0397b8": {
      "model_module": "@jupyter-widgets/base",
      "model_module_version": "1.2.0",
      "model_name": "LayoutModel",
      "state": {}
     },
     "e0e1f3ef160d424f81adf946f6815fb2": {
      "model_module": "@jupyter-widgets/base",
      "model_module_version": "1.2.0",
      "model_name": "LayoutModel",
      "state": {}
     },
     "e15bc919bd984b2aa46356e4fed4ae21": {
      "model_module": "@jupyter-widgets/controls",
      "model_module_version": "1.5.0",
      "model_name": "SliderStyleModel",
      "state": {
       "description_width": ""
      }
     },
     "e2516c2245304c338910bf589cfd164c": {
      "model_module": "@jupyter-widgets/base",
      "model_module_version": "1.2.0",
      "model_name": "LayoutModel",
      "state": {}
     },
     "e2da6f3a70444d6892b6212ffa48b0f3": {
      "model_module": "@jupyter-widgets/controls",
      "model_module_version": "1.5.0",
      "model_name": "FloatSliderModel",
      "state": {
       "description": "Probability E:",
       "layout": "IPY_MODEL_d024e7734c4748ee9653ebe38e442c25",
       "max": 1,
       "min": 0.01,
       "step": 0.01,
       "style": "IPY_MODEL_3af71ee719df48228a9b8df9365008ed",
       "value": 0.75
      }
     },
     "e36b4a3a587e4fa98ce00021ec8d90d0": {
      "model_module": "@jupyter-widgets/base",
      "model_module_version": "1.2.0",
      "model_name": "LayoutModel",
      "state": {}
     },
     "e3bf716cf05e45dfb9c8a9489d908e9b": {
      "model_module": "@jupyter-widgets/controls",
      "model_module_version": "1.5.0",
      "model_name": "FloatSliderModel",
      "state": {
       "description": "Probability E:",
       "layout": "IPY_MODEL_23b9e3ab8c96475d999bd2d5502342e2",
       "max": 1,
       "min": 0.01,
       "step": 0.01,
       "style": "IPY_MODEL_9f6824e2d14f4dde846bf5772217aef0",
       "value": 0.75
      }
     },
     "e536bd0552744a86b79de524e57058d8": {
      "model_module": "@jupyter-widgets/controls",
      "model_module_version": "1.5.0",
      "model_name": "IntSliderModel",
      "state": {
       "description": "Particles (N):",
       "layout": "IPY_MODEL_0418a3f80eb54b9e9026a59803f77dcb",
       "max": 10000,
       "min": 1,
       "style": "IPY_MODEL_9ea28c817bf94c87850f2193cfc4a625",
       "value": 5000
      }
     },
     "e54c14dc0be740c8a6953d9d6886c8c5": {
      "model_module": "@jupyter-widgets/controls",
      "model_module_version": "1.5.0",
      "model_name": "SliderStyleModel",
      "state": {
       "description_width": ""
      }
     },
     "e817f20845bd401a8456c9217dc9f48c": {
      "model_module": "@jupyter-widgets/base",
      "model_module_version": "1.2.0",
      "model_name": "LayoutModel",
      "state": {}
     },
     "e86d0c006b6a4ac99803ad525cab7df6": {
      "model_module": "@jupyter-widgets/base",
      "model_module_version": "1.2.0",
      "model_name": "LayoutModel",
      "state": {}
     },
     "e893a2092031429282069f9e485c8da4": {
      "model_module": "@jupyter-widgets/controls",
      "model_module_version": "1.5.0",
      "model_name": "SliderStyleModel",
      "state": {
       "description_width": ""
      }
     },
     "e8a840319278419fa835d92266cb76c8": {
      "model_module": "@jupyter-widgets/controls",
      "model_module_version": "1.5.0",
      "model_name": "SliderStyleModel",
      "state": {
       "description_width": ""
      }
     },
     "e8e230ad201e4776b6da5ab16916a16e": {
      "model_module": "@jupyter-widgets/controls",
      "model_module_version": "1.5.0",
      "model_name": "SliderStyleModel",
      "state": {
       "description_width": ""
      }
     },
     "e8ffeeacc7d94e4fab0b5a0408b1bf7e": {
      "model_module": "@jupyter-widgets/output",
      "model_module_version": "1.0.0",
      "model_name": "OutputModel",
      "state": {
       "layout": "IPY_MODEL_ff29280ee69546679a8307a61b41a78b"
      }
     },
     "e94e1530730f431e8d22bdf25a2d1606": {
      "model_module": "@jupyter-widgets/base",
      "model_module_version": "1.2.0",
      "model_name": "LayoutModel",
      "state": {}
     },
     "eac03c4809c040b2802a09eda3dbe45d": {
      "model_module": "@jupyter-widgets/base",
      "model_module_version": "1.2.0",
      "model_name": "LayoutModel",
      "state": {}
     },
     "eac658b5115d4a829681f8fa90767b72": {
      "model_module": "@jupyter-widgets/base",
      "model_module_version": "1.2.0",
      "model_name": "LayoutModel",
      "state": {}
     },
     "ed48340fef3e49d68c441dfd499a10eb": {
      "model_module": "@jupyter-widgets/controls",
      "model_module_version": "1.5.0",
      "model_name": "SliderStyleModel",
      "state": {
       "description_width": ""
      }
     },
     "eead180abbc8497fb9fc9fa2c8af6fea": {
      "model_module": "@jupyter-widgets/controls",
      "model_module_version": "1.5.0",
      "model_name": "VBoxModel",
      "state": {
       "_dom_classes": [
        "widget-interact"
       ],
       "children": [
        "IPY_MODEL_98257f70a4c6436db5634baf827edafe",
        "IPY_MODEL_19f675d81a5b45b78c457c7dbb1e0647",
        "IPY_MODEL_c477272ae2a74a04ae6d231b7fdb836e",
        "IPY_MODEL_ba962534c54d4bba8300a4afe259f3af",
        "IPY_MODEL_7a389090025640f4944cd54a52921b26",
        "IPY_MODEL_15f2007006ba4c42971a2633150bafed",
        "IPY_MODEL_2f896d12a720411eba0377eeac4ba6b7",
        "IPY_MODEL_1d569ddb59c341d68854ea148928d9ce"
       ],
       "layout": "IPY_MODEL_5c1ae3051e4f446db5a47c92162df279"
      }
     },
     "ef1df80300c744fd9f6390b0004db4e2": {
      "model_module": "@jupyter-widgets/base",
      "model_module_version": "1.2.0",
      "model_name": "LayoutModel",
      "state": {}
     },
     "eff4ea7ae0964e53a2c626a3fd9b95d0": {
      "model_module": "@jupyter-widgets/base",
      "model_module_version": "1.2.0",
      "model_name": "LayoutModel",
      "state": {}
     },
     "f1ac3a7cb38e439996138dbb22f97bd4": {
      "model_module": "@jupyter-widgets/base",
      "model_module_version": "1.2.0",
      "model_name": "LayoutModel",
      "state": {}
     },
     "f1bf11d078694ba1a498da63d916d3ec": {
      "model_module": "@jupyter-widgets/base",
      "model_module_version": "1.2.0",
      "model_name": "LayoutModel",
      "state": {}
     },
     "f2b4707f41dd400b9d10bbb7c91e1b23": {
      "model_module": "@jupyter-widgets/base",
      "model_module_version": "1.2.0",
      "model_name": "LayoutModel",
      "state": {}
     },
     "f55e9c8bb1c148278daee5bffa59967f": {
      "model_module": "@jupyter-widgets/controls",
      "model_module_version": "1.5.0",
      "model_name": "SliderStyleModel",
      "state": {
       "description_width": ""
      }
     },
     "f592d5fb41f94f4195be3ce2c8a45eeb": {
      "model_module": "@jupyter-widgets/controls",
      "model_module_version": "1.5.0",
      "model_name": "SliderStyleModel",
      "state": {
       "description_width": ""
      }
     },
     "f63018446d424cd7acbbaacdd56b0b46": {
      "model_module": "@jupyter-widgets/controls",
      "model_module_version": "1.5.0",
      "model_name": "FloatSliderModel",
      "state": {
       "description": "Probability E:",
       "layout": "IPY_MODEL_31c5ce7ec5cb4d8682abcb6f9dbcd0ad",
       "max": 1,
       "min": 0.01,
       "step": 0.01,
       "style": "IPY_MODEL_2a446b24215f443e9c103db44ca51ac7",
       "value": 0.75
      }
     },
     "f6f029eb19d248d3abe2f7ffaa35a9a7": {
      "model_module": "@jupyter-widgets/controls",
      "model_module_version": "1.5.0",
      "model_name": "SliderStyleModel",
      "state": {
       "description_width": ""
      }
     },
     "f912d1cd65594ea9ae82e8913e0cb6b4": {
      "model_module": "@jupyter-widgets/controls",
      "model_module_version": "1.5.0",
      "model_name": "ButtonStyleModel",
      "state": {}
     },
     "f9211274e01f4a04acd6036b9542789b": {
      "model_module": "@jupyter-widgets/controls",
      "model_module_version": "1.5.0",
      "model_name": "ButtonModel",
      "state": {
       "description": "Run Interact",
       "layout": "IPY_MODEL_7175f7f271634fd68e680676c5834578",
       "style": "IPY_MODEL_7c54e7851efa423581f2b864a0cb78d0"
      }
     },
     "f99bd6d133234bdfac0ef9b553a2c434": {
      "model_module": "@jupyter-widgets/controls",
      "model_module_version": "1.5.0",
      "model_name": "FloatSliderModel",
      "state": {
       "description": "Probability N:",
       "layout": "IPY_MODEL_4200a4e5b8a54f2a94a0ee4b94f2adac",
       "max": 1,
       "min": 0.01,
       "step": 0.01,
       "style": "IPY_MODEL_af293c791ea34607af11f834a11fbca8",
       "value": 0.1
      }
     },
     "fa8bba8ee1924500b585cb1a1d42ed69": {
      "model_module": "@jupyter-widgets/base",
      "model_module_version": "1.2.0",
      "model_name": "LayoutModel",
      "state": {}
     },
     "fbb474f0e70d4318855f506c585746de": {
      "model_module": "@jupyter-widgets/controls",
      "model_module_version": "1.5.0",
      "model_name": "VBoxModel",
      "state": {
       "_dom_classes": [
        "widget-interact"
       ],
       "children": [
        "IPY_MODEL_319c13b9f3944e48a29c7ac1ce6af7dc",
        "IPY_MODEL_3a9197e62dcb444390c34b5a1d21ae0b",
        "IPY_MODEL_07691708b3ed4c16a0cefa751f580bb3",
        "IPY_MODEL_ab3dd27240124a1780eb5b5c7a2757b1",
        "IPY_MODEL_9ee4f39f7ad9426dba2f1130f68958cc",
        "IPY_MODEL_a3fd57bbe4754491b037b44fa2be716d",
        "IPY_MODEL_494495e94ef345008ebbc36d96f9156b",
        "IPY_MODEL_6393eddef1ff4f9484a1d0df6a27ae2f"
       ],
       "layout": "IPY_MODEL_54b0fb436af449ab834b8cbe9ca2ca80"
      }
     },
     "fd34021d4bff4e2192e8c67070168f75": {
      "model_module": "@jupyter-widgets/base",
      "model_module_version": "1.2.0",
      "model_name": "LayoutModel",
      "state": {}
     },
     "fd761fcb3354493eaee18c184a983974": {
      "model_module": "@jupyter-widgets/output",
      "model_module_version": "1.0.0",
      "model_name": "OutputModel",
      "state": {
       "layout": "IPY_MODEL_791924400c5142c1bb8615ed0e049686"
      }
     },
     "fd9ca394161b4218b0f235a65e15fcf8": {
      "model_module": "@jupyter-widgets/controls",
      "model_module_version": "1.5.0",
      "model_name": "ButtonStyleModel",
      "state": {}
     },
     "fea85731e2ae4a05a890152010273a29": {
      "model_module": "@jupyter-widgets/controls",
      "model_module_version": "1.5.0",
      "model_name": "FloatSliderModel",
      "state": {
       "description": "Probability W:",
       "layout": "IPY_MODEL_cc3bf5302ab34b13a1937e2a21071aa5",
       "max": 1,
       "min": 0.01,
       "step": 0.01,
       "style": "IPY_MODEL_b5c3263073214871be4486f29fe90f6b",
       "value": 0.05
      }
     },
     "fee43711d6b04efea5266de8d3d5757a": {
      "model_module": "@jupyter-widgets/controls",
      "model_module_version": "1.5.0",
      "model_name": "SliderStyleModel",
      "state": {
       "description_width": ""
      }
     },
     "ff29280ee69546679a8307a61b41a78b": {
      "model_module": "@jupyter-widgets/base",
      "model_module_version": "1.2.0",
      "model_name": "LayoutModel",
      "state": {}
     },
     "fffc9afaf58745d1a05cc02e95741fd6": {
      "model_module": "@jupyter-widgets/controls",
      "model_module_version": "1.5.0",
      "model_name": "VBoxModel",
      "state": {
       "_dom_classes": [
        "widget-interact"
       ],
       "children": [
        "IPY_MODEL_6197d0e3a7f4406baafdfbeb609742b5",
        "IPY_MODEL_6cc4513a23f24e9580f38178cad99422",
        "IPY_MODEL_008dec95a7be43f4be7daf2368c04d8d",
        "IPY_MODEL_1eb02c974d94499f9c0972440d9d32b0",
        "IPY_MODEL_87f6f4c156464f3884919f097c41fb63",
        "IPY_MODEL_7c3c762efa7545caa83fb973e222b7de",
        "IPY_MODEL_5907db5cef284b439d73ca47c85d5402",
        "IPY_MODEL_54c0726a37f9439b862ada2319e3fdfc"
       ],
       "layout": "IPY_MODEL_e817f20845bd401a8456c9217dc9f48c"
      }
     }
    },
    "version_major": 2,
    "version_minor": 0
   }
  }
 },
 "nbformat": 4,
 "nbformat_minor": 4
}
