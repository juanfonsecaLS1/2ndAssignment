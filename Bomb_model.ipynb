{
 "cells": [
  {
   "cell_type": "markdown",
   "metadata": {},
   "source": [
    "# Assignment 2 - Tracking biological weapon fallout\n",
    "*GOEG5995M - 201189627*\n",
    "***"
   ]
  },
  {
   "cell_type": "markdown",
   "metadata": {},
   "source": [
    "This Jupyter notebook describes the steps of delevopment of a model to estimate the spread of bacteria from biological bomb. It is assumed that the bomb has been activated on the top of a building and wind is the only element affecting the dispersion of the particles. The output of this simulation is an estimated concentration of bacteria at ground level. In the final section, an interactive version of the model is presented.\n",
    "***\n",
    "__IMPORTANT!!! *To run the interactive SECTION, this notebook has to be downloaded in a local machine. Python 3.7 and the dependencies below must be installed. Finally, open the file using Jupyter Notebooks or equivalent*__\n",
    "***"
   ]
  },
  {
   "cell_type": "code",
   "execution_count": 1,
   "metadata": {},
   "outputs": [],
   "source": [
    "import random\n",
    "import csv\n",
    "import matplotlib.pyplot\n",
    "import requests\n",
    "import codecs\n",
    "# Modules for interactive section\n",
    "import time\n",
    "import ipywidgets"
   ]
  },
  {
   "cell_type": "markdown",
   "metadata": {},
   "source": [
    "As the code uses some randomisation, the following line of code can be run to produce consistent results for testing purposes"
   ]
  },
  {
   "cell_type": "code",
   "execution_count": 2,
   "metadata": {},
   "outputs": [],
   "source": [
    "# random.seed(1)"
   ]
  },
  {
   "cell_type": "markdown",
   "metadata": {},
   "source": [
    "## Bomb drop location\n",
    "The first step is to determine the drop location using the data provided in a 300x300 raster file. The following blocks of code read the raster and show the point where biological bomb start the spread of particles."
   ]
  },
  {
   "cell_type": "code",
   "execution_count": 3,
   "metadata": {},
   "outputs": [],
   "source": [
    "bomb_location = []\n",
    "#This line silences a warning linked to the certificate of the original URL\n",
    "requests.packages.urllib3.disable_warnings(\n",
    "    requests.packages.urllib3.exceptions.InsecureRequestWarning)\n",
    "res = requests.get(\"https://www.geog.leeds.ac.uk/courses/\\\n",
    "computing/study/core-python-phd/assessment2/wind.raster\", verify = False)"
   ]
  },
  {
   "cell_type": "code",
   "execution_count": 4,
   "metadata": {},
   "outputs": [],
   "source": [
    "lines_iterator = res.iter_lines()\n",
    "# create a CSV reader object and encode the content using the codecs module\n",
    "data = csv.reader(codecs.iterdecode(lines_iterator, encoding=\"utf-8\"), delimiter=\",\")\n",
    "# loop through the rows on the \"data\" list\n",
    "for index, row in enumerate(data):\n",
    "    # Initialise the rowist\n",
    "            rowlist = []\n",
    "            # Loop for the values\n",
    "            for value in row:\n",
    "                rowlist.append(int(value))\n",
    "            bomb_location.append(rowlist)"
   ]
  },
  {
   "cell_type": "code",
   "execution_count": 5,
   "metadata": {},
   "outputs": [
    {
     "data": {
      "text/plain": [
       "<matplotlib.image.AxesImage at 0x25846fb4e48>"
      ]
     },
     "execution_count": 5,
     "metadata": {},
     "output_type": "execute_result"
    },
    {
     "data": {
      "image/png": "[encoded data removed]",
      "text/plain": [
       "<Figure size 432x432 with 1 Axes>"
      ]
     },
     "metadata": {
      "needs_background": "light"
     },
     "output_type": "display_data"
    }
   ],
   "source": [
    "matplotlib.pyplot.figure(figsize = (6,6))\n",
    "matplotlib.pyplot.imshow(bomb_location, cmap='OrRd', aspect='auto')"
   ]
  },
  {
   "cell_type": "markdown",
   "metadata": {},
   "source": [
    "The coordinates of the drop point are extracted using the code below and stored in ```x0``` and ```y0```."
   ]
  },
  {
   "cell_type": "code",
   "execution_count": 6,
   "metadata": {},
   "outputs": [
    {
     "name": "stdout",
     "output_type": "stream",
     "text": [
      "Drop point coordinates---> x: 50  y: 150\n"
     ]
    }
   ],
   "source": [
    "for i, row in enumerate(bomb_location):\n",
    "    for j, value in enumerate(row):\n",
    "        if (value==255):\n",
    "            x0=j\n",
    "            y0=i\n",
    "            break\n",
    "    if (value==255):\n",
    "        break\n",
    "print(\"Drop point coordinates---> x:\",x0,\" y:\",y0)"
   ]
  },
  {
   "cell_type": "markdown",
   "metadata": {},
   "source": [
    "# Static Model\n",
    "## Particles\n",
    "To recreate the movement of a particle/bacteria from the top of the building to the ground, a class with three properties was defined. The properties are the position of the particle/bateria on each axis (units in metres), i.e. ```x``` represents the West-East position, ```y``` represents the North-South position and ```z``` the height measured from the ground. The ```x-y``` origin is consistent with the coordinates of the raster file which contained the drop point coordinates."
   ]
  },
  {
   "cell_type": "code",
   "execution_count": 7,
   "metadata": {},
   "outputs": [],
   "source": [
    "class Particle():\n",
    "    def __init__ (self, x, y, z):\n",
    "        self.x = x\n",
    "        self.y = y\n",
    "        self.z = z\n",
    "    \n",
    "    @property\n",
    "    def x (self):\n",
    "        return (self._x)\n",
    "    \n",
    "    @property\n",
    "    def y (self):\n",
    "        return (self._y)\n",
    "    \n",
    "    @property\n",
    "    def z (self):\n",
    "        return (self._z)\n",
    "    \n",
    "    @x.setter\n",
    "    def x (self,n):\n",
    "        self._x=n\n",
    "      \n",
    "    @y.setter\n",
    "    def y (self,n):\n",
    "        self._y=n\n",
    "        \n",
    "    @z.setter\n",
    "    def z (self,n):\n",
    "        self._z=n"
   ]
  },
  {
   "cell_type": "markdown",
   "metadata": {},
   "source": [
    "## Particle movement\n",
    "\n",
    "\n",
    "Each particle will change its coordinates (i.e. move) maximum by 1 metre following a set of simple rules which use pre-defined proabilities. The movement in the space (3D) is split into horizontal or planar (```x-y```), and vertical (```z```) movements. \n",
    "\n",
    "For the ```xy``` movement the propabilities are:\n",
    "- 5% chance of blowing west,\n",
    "- 10% chance of blowing north\n",
    "- 10% chance of blowing south,\n",
    "- and a 75% chance of blowing east.\n",
    "\n",
    "For the vertical (```z```) movement the propabilities are:\n",
    "- 20% chance of going up (elevating),\n",
    "- 10% change of staying at the same level,\n",
    "- and 70% of falling.\n",
    "\n",
    "### Sampling numbers from random distribution\n",
    "It is important to ensure that the sampling function does not produce the wrong type of distribution which could result in an incorrect application of the probilities. A visual test was undertaken to check that the numbers between 0 and 1 which are generated by the ```random.uniform```. As shown in the plot below the function is suitable as it produces a distribution without any skewness:  "
   ]
  },
  {
   "cell_type": "code",
   "execution_count": 8,
   "metadata": {},
   "outputs": [
    {
     "data": {
      "image/png": "[encoded data removed]",
      "text/plain": [
       "<Figure size 432x288 with 1 Axes>"
      ]
     },
     "metadata": {
      "needs_background": "light"
     },
     "output_type": "display_data"
    }
   ],
   "source": [
    "for i in range(2000):\n",
    "    matplotlib.pyplot.scatter(i,random.uniform(0,1))"
   ]
  },
  {
   "cell_type": "markdown",
   "metadata": {},
   "source": [
    "### A function for the movement"
   ]
  },
  {
   "cell_type": "markdown",
   "metadata": {},
   "source": [
    "The following function was defined to recreate the movement of a particle/bacteria in any given second. It takes two arguments as inputs: the current particle and a list with the probabilities. Default values for the probabilities have been assigned based on values shown before."
   ]
  },
  {
   "cell_type": "code",
   "execution_count": 9,
   "metadata": {},
   "outputs": [],
   "source": [
    "def move(Particle, prob2D = [0.05,0.75,0.1,0.1]):\n",
    "    randxy = random.uniform(0,1)\n",
    "    #print(\"xy\",randxy)\n",
    "    randz = random.uniform(0,1)\n",
    "    #print(\"z\",randz)\n",
    "\n",
    "    #Planar/horizonal movement\n",
    "    if randxy <= sum(prob2D[0:1]):\n",
    "        Particle.x = Particle.x - 1 # Move to the East\n",
    "    if sum(prob2D[0:1]) < randxy <= sum(prob2D[0:2]):\n",
    "        Particle.x = Particle.x + 1 # Move to the West\n",
    "    if  sum(prob2D[0:2]) < randxy <= sum(prob2D[0:3]):\n",
    "        Particle.y = Particle.y - 1 # Move to the South\n",
    "    if sum(prob2D[0:3]) < randxy <= sum(prob2D[0:4]):\n",
    "        Particle.y = Particle.y + 1 # Move to the North\n",
    "\n",
    "    # Vertical movement\n",
    "    if randz <= 0.2:\n",
    "        Particle.z = Particle.z + 1 # Move up\n",
    "    if 0.2 < randz <= 0.90:\n",
    "        Particle.z = Particle.z - 1 # Move down"
   ]
  },
  {
   "cell_type": "markdown",
   "metadata": {},
   "source": [
    "The following code shows an example of the movement of a particle with initial coordinates ```x = 20```,```y = 50```, and ```z = 30```."
   ]
  },
  {
   "cell_type": "code",
   "execution_count": 10,
   "metadata": {},
   "outputs": [
    {
     "name": "stdout",
     "output_type": "stream",
     "text": [
      "Initial coordinates----> x: 20  y: 50  z: 30\n",
      "Final coordinates  ----> x: 21  y: 50  z: 29\n"
     ]
    }
   ],
   "source": [
    "particle1=Particle(x = 20, y = 50, z = 30)\n",
    "print(\"Initial coordinates----> x:\",particle1.x,\" y:\", particle1.y,\" z:\",particle1.z)\n",
    "move(particle1)\n",
    "print(\"Final coordinates  ----> x:\",particle1.x,\" y:\", particle1.y,\" z:\",particle1.z)"
   ]
  },
  {
   "cell_type": "markdown",
   "metadata": {},
   "source": [
    "### Full movement of a particle to the ground\n",
    "Now that we have a class for the particles and a function to recreate the movement, it is possible to simulate the full trajectory of a single particle from the top of the building where the biological bomb was  set off.\n",
    "\n",
    "Assuming that the height of the bulding is 75 m, every particle/bacteria in the bomb will start with the same coordinates. The definition of any  ```particle```'s  initial conditions (t<sub>0</sub>) will be:"
   ]
  },
  {
   "cell_type": "code",
   "execution_count": 11,
   "metadata": {},
   "outputs": [],
   "source": [
    "particle = Particle(x = x0, y = y0, z = 75)"
   ]
  },
  {
   "cell_type": "markdown",
   "metadata": {},
   "source": [
    "#### Control Statement\n",
    "We are interested in the final ```xy``` coordinates of all particles when they touch the ground. For this purpose, a ```while``` loop can be defined to apply the ```move``` function until the particle ```z``` coordinate is ```0```."
   ]
  },
  {
   "cell_type": "code",
   "execution_count": 12,
   "metadata": {},
   "outputs": [
    {
     "name": "stdout",
     "output_type": "stream",
     "text": [
      "141 159 0\n"
     ]
    }
   ],
   "source": [
    "while particle.z>0 :\n",
    "    move(particle)\n",
    "    # print(particle.x,particle.y,particle.z)\n",
    "\n",
    "print(particle.x,particle.y,particle.z)"
   ]
  },
  {
   "cell_type": "markdown",
   "metadata": {},
   "source": [
    "However, the previous definition of the loop might result in an error if a particle moves outside the boundaires of the defined space. Two apporaches can be used in that case, expand the area as required or ignore the particles that move out of the 300x300 square. The latter was used for this exercise adding an ```if``` statement to validate the ```x``` and ```y``` coordinates."
   ]
  },
  {
   "cell_type": "code",
   "execution_count": 13,
   "metadata": {},
   "outputs": [],
   "source": [
    "while particle.z>0 :\n",
    "    particle.move()\n",
    "    # Apply boundary restrictions, if met the while loop stops\n",
    "    if not(particle.x in range(len(bomb_location[0]))) or not(particle.y in range(len(bomb_location))):\n",
    "        break"
   ]
  },
  {
   "cell_type": "markdown",
   "metadata": {},
   "source": []
  },
  {
   "cell_type": "code",
   "execution_count": 129,
   "metadata": {},
   "outputs": [
    {
     "name": "stdout",
     "output_type": "stream",
     "text": [
      "[76, 75, 74, 74, 74, 73, 72, 71, 70, 69, 68, 67, 66, 66, 65, 64, 63, 62, 63, 64, 63, 62, 61, 60, 59, 58, 59, 58, 57, 56, 55, 55, 54, 53, 52, 51, 50, 50, 49, 48, 47, 48, 47, 48, 47, 46, 45, 46, 45, 44, 43, 42, 43, 42, 41, 40, 39, 38, 37, 38, 37, 36, 35, 34, 34, 34, 35, 36, 35, 34, 33, 32, 31, 32, 31, 32, 32, 31, 30, 29, 30, 29, 28, 27, 27, 28, 27, 26, 25, 24, 25, 25, 26, 25, 24, 23, 22, 23, 22, 21, 22, 22, 21, 20, 19, 18, 19, 18, 17, 18, 17, 16, 15, 14, 13, 13, 12, 13, 12, 11, 10, 9, 10, 9, 8, 7, 6, 6, 5, 4, 5, 4, 3, 2, 1, 0]\n"
     ]
    },
    {
     "data": {
      "image/png": "[encoded data removed]",
      "text/plain": [
       "<Figure size 432x288 with 2 Axes>"
      ]
     },
     "metadata": {
      "needs_background": "light"
     },
     "output_type": "display_data"
    }
   ],
   "source": [
    "particle = Particle(x = x0, y = y0, z = 75)\n",
    "part_path_x=[]\n",
    "part_path_y=[]\n",
    "part_path_z=[]\n",
    "while particle.z>0 :\n",
    "    move(particle)\n",
    "    part_path_x.append(particle.x)\n",
    "    part_path_y.append(particle.y)\n",
    "    part_path_z.append(particle.z)\n",
    "    # Apply boundary restrictions, if met the while loop stops\n",
    "    if not(particle.x in range(len(bomb_location[0]))) or not(particle.y in range(len(bomb_location))):\n",
    "        break\n",
    "\n",
    "# define subplots\n",
    "fig, ax = matplotlib.pyplot.subplots(2, 1, gridspec_kw={'height_ratios': [4, 1]},)\n",
    "\n",
    "\n",
    "print(part_path_z)\n",
    "\n",
    "# create subplots\n",
    "ax[0].scatter(part_path_x, part_path_y, color='black')\n",
    "ax[1].scatter(part_path_x, part_path_z, color='green')\n",
    "# display the plot\n",
    "matplotlib.pyplot.show()\n",
    "\n"
   ]
  },
  {
   "cell_type": "markdown",
   "metadata": {},
   "source": [
    "## A clear ground\n",
    "The following function creates an object to represent the ground and to store the particle density, namely, the number of particles that touched the ground in each coordinate. The size of the ground is consistent with the original input file (300x300)"
   ]
  },
  {
   "cell_type": "code",
   "execution_count": 16,
   "metadata": {},
   "outputs": [],
   "source": [
    "def clear_ground():\n",
    "    ground=[]\n",
    "    for i in range(len(bomb_location)):\n",
    "        tmp_row = []\n",
    "        for j in range(len(bomb_location[0])):\n",
    "            tmp_row.append(0)\n",
    "        ground.append(tmp_row)\n",
    "    return(ground)\n",
    "# Produce the clear ground object\n",
    "myground = clear_ground()"
   ]
  },
  {
   "cell_type": "markdown",
   "metadata": {},
   "source": [
    "## All particles\n",
    "All the elements are put into a ```for``` loop that simulates the full movement of each particle for a total of 5000 particles."
   ]
  },
  {
   "cell_type": "code",
   "execution_count": 17,
   "metadata": {},
   "outputs": [],
   "source": [
    "# Define the number of particles\n",
    "n_particles = 5000\n",
    "# Run simulation with n_particles\n",
    "for i in range(n_particles):\n",
    "    # Initial conditions\n",
    "    particle = Particle(x = x0, y = y0, z = 75)\n",
    "    \n",
    "    # Movement until it reaches the gound\n",
    "    while particle.z>0 :\n",
    "        move(particle)\n",
    "        if not(particle.x in range(len(myground[0])-1)) or not(particle.y in range(len(myground)-1)):\n",
    "            break\n",
    "    \n",
    "    # Update the ground density object  \n",
    "    if particle.z==0:\n",
    "        myground[particle.y][particle.x] += 1"
   ]
  },
  {
   "cell_type": "markdown",
   "metadata": {},
   "source": [
    "The following lines produce a plot with the resulting density. The drop point is annotated with black **```+```**"
   ]
  },
  {
   "cell_type": "code",
   "execution_count": 18,
   "metadata": {},
   "outputs": [
    {
     "data": {
      "image/png": "[encoded data removed]",
      "text/plain": [
       "<Figure size 720x720 with 2 Axes>"
      ]
     },
     "metadata": {
      "needs_background": "light"
     },
     "output_type": "display_data"
    }
   ],
   "source": [
    "matplotlib.pyplot.figure(figsize = (10,10))\n",
    "matplotlib.pyplot.imshow(myground, cmap='Oranges')\n",
    "matplotlib.pyplot.colorbar(label=r'Particles per '+'$m^2$', orientation=\"horizontal\")\n",
    "matplotlib.pyplot.scatter(x0, y0, s = 50, c = 'black', marker = \"+\") # Drop point\n",
    "matplotlib.pyplot.show()"
   ]
  },
  {
   "cell_type": "markdown",
   "metadata": {},
   "source": [
    "Finally, a ```txt``` file is written in the folder where this Jupyter notebook is saved. The name of the file will contain the parameters of the simulation such as the number of particles, height of the building and wind-based probabilities. As an example, the results of the simulation above are saved as ```FinalGround_P5000_h75_E5_W75_S10_N10.txt```"
   ]
  },
  {
   "cell_type": "code",
   "execution_count": 19,
   "metadata": {},
   "outputs": [],
   "source": [
    "def final_ground(n_particles,height,Ew = 0.05, Ww = 0.7, Nw = 0.1, Sw = 0.1):\n",
    "    # Save the ground density\n",
    "    f = open(\"FinalGround\"+\n",
    "             \"_P\"+str(n_particles)+\n",
    "             \"_H\"+str(height)+\n",
    "             \"_E\"+str(int(100*Ew))+\n",
    "             \"_W\"+str(int(100*Ww))+\n",
    "             \"_N\"+str(int(100*Nw))+\n",
    "             \"_S\"+str(int(100*Sw))+\n",
    "             \".txt\", 'w+',   newline = \"\")\n",
    "    with f:\n",
    "        write = csv.writer(f) \n",
    "        write.writerows(myground)\n",
    "    f.close()\n",
    "final_ground(n_particles,height = 75,Ew = 0.05, Ww = 0.7, Nw = 0.1, Sw = 0.1)"
   ]
  },
  {
   "cell_type": "markdown",
   "metadata": {},
   "source": [
    "***\n",
    "# Interactive model \n",
    "This section includes an interactive version of the model that allows the user to specify customised parameters for:\n",
    "- Number of particles\n",
    "- Height of the building\n",
    "- A set of wind-based probabilities for the horizontal movement\n",
    "\n",
    "The inputs are captured using Sliders defined using the ```ipywidgets``` module. All sliders are initialised with the default values of the run shown before."
   ]
  },
  {
   "cell_type": "code",
   "execution_count": 20,
   "metadata": {},
   "outputs": [],
   "source": [
    "# Definition of all sliders for interactive inputs\n",
    "# Number of Particles\n",
    "part_slider = ipywidgets.IntSlider(value=5000, min=1, max=10000, step=1, description='Particles (N):', readout=True)\n",
    "# Height of the building\n",
    "h_slider = ipywidgets.IntSlider(value=75, min=1, max=100, step=1, description='Height (m):', readout=True)\n",
    "\n",
    "# Wind direction Probabilities\n",
    "W_widget = ipywidgets.FloatSlider(min=0.01, max=1, step=0.01, value=0.05,description='Probability W:')\n",
    "E_widget = ipywidgets.FloatSlider(min=0.01, max=1, step=0.01, value=0.75,description='Probability E:')\n",
    "N_widget = ipywidgets.FloatSlider(min=0.01, max=1, step=0.01, value=0.10,description='Probability N:')\n",
    "S_widget = ipywidgets.FloatSlider(min=0.01, max=1, step=0.01, value=0.10,description='Probability S:')"
   ]
  },
  {
   "cell_type": "markdown",
   "metadata": {},
   "source": [
    "As the values of the probabilities should add up to 1, the user inputs are normalised after clicking the button. "
   ]
  },
  {
   "cell_type": "code",
   "execution_count": 21,
   "metadata": {},
   "outputs": [],
   "source": [
    "def normProbs():\n",
    "    # Normalise the values of the probabilities\n",
    "    total = (W_widget.value+E_widget.value+N_widget.value+S_widget.value)\n",
    "    W_widget.value = W_widget.value/total\n",
    "    E_widget.value = E_widget.value/total\n",
    "    N_widget.value = N_widget.value/total\n",
    "    S_widget.value = S_widget.value/total"
   ]
  },
  {
   "cell_type": "markdown",
   "metadata": {},
   "source": [
    "All functions that were defined previously (i.e. producing a clear ground raster, run simulation, visualisation and producing an output file) are compiled into a main function that is executed when clicking the ```Run Interact``` button. Additionally, the time required for all particles to touch the ground is displayed below the colour scale legend."
   ]
  },
  {
   "cell_type": "code",
   "execution_count": 22,
   "metadata": {},
   "outputs": [],
   "source": [
    "def run(n_particles,height,Ew,Ww,Nw,Sw):\n",
    "    # Record start time for timing\n",
    "    start = time.process_time()\n",
    "    \n",
    "    #Update values in sliders before using them\n",
    "    normProbs()\n",
    "    \n",
    "    # Prepare Probability list for move method\n",
    "    probabilities = [W_widget.value,E_widget.value,N_widget.value,S_widget.value]\n",
    "    \n",
    "    # Clean the ground raster\n",
    "    myground = clear_ground()\n",
    "\n",
    "    # Run main loop\n",
    "    for i in range(n_particles):\n",
    "        particle = Particle(x = x0, y = y0, z = height)\n",
    "\n",
    "        max_its=0\n",
    "        while particle.z>0 :\n",
    "            move(particle,probabilities)\n",
    "            if not(particle.x in range(len(myground[0])-1)) or not(particle.y in range(len(myground)-1)):\n",
    "                break\n",
    "            max_its=max_its+1\n",
    "\n",
    "        if particle.z==0:\n",
    "            myground[particle.y][particle.x] += 1\n",
    "            \n",
    "\n",
    "    # Visualisation\n",
    "    matplotlib.pyplot.figure(figsize = (10,10))\n",
    "    matplotlib.pyplot.imshow(myground, cmap='Oranges')\n",
    "    matplotlib.pyplot.colorbar(label=r'Particles per '+'$m^2$', orientation=\"horizontal\")\n",
    "    matplotlib.pyplot.scatter(x0, y0, s = 50, c = 'black', marker = \"+\") # Drop point\n",
    "    matplotlib.pyplot.show()\n",
    "    \n",
    "    # Write the output file \n",
    "    final_ground(n_particles, height,Ew, Ww, Nw, Sw)\n",
    "    # Record end time for timing\n",
    "    end = time.process_time()\n",
    "    \n",
    "    # Show the elapsed time (for all particles to reach the ground)\n",
    "    return(\"All particles touch the ground after \"+str(max_its)+\" s (Model Runtime \"+str(end - start)+\" s)\")\n",
    "    "
   ]
  },
  {
   "cell_type": "code",
   "execution_count": 23,
   "metadata": {},
   "outputs": [
    {
     "data": {
      "application/vnd.jupyter.widget-view+json": {
       "model_id": "a3e828cbc44e440096c99de80b6161b6",
       "version_major": 2,
       "version_minor": 0
      },
      "text/plain": [
       "interactive(children=(IntSlider(value=5000, description='Particles (N):', max=10000, min=1), IntSlider(value=7…"
      ]
     },
     "metadata": {},
     "output_type": "display_data"
    },
    {
     "data": {
      "text/plain": [
       "<function __main__.run(n_particles, height, Ew, Ww, Nw, Sw)>"
      ]
     },
     "execution_count": 23,
     "metadata": {},
     "output_type": "execute_result"
    }
   ],
   "source": [
    "# Set up for the UI with slides and links values to values for functions run\n",
    "ipywidgets.interact_manual(run,\n",
    "                        n_particles = part_slider,\n",
    "                        height = h_slider,\n",
    "                        Ew = E_widget, Ww = W_widget, Nw = N_widget, Sw = S_widget\n",
    "                       )"
   ]
  },
  {
   "cell_type": "code",
   "execution_count": null,
   "metadata": {},
   "outputs": [],
   "source": []
  }
 ],
 "metadata": {
  "interpreter": {
   "hash": "b3ba2566441a7c06988d0923437866b63cedc61552a5af99d1f4fb67d367b25f"
  },
  "kernelspec": {
   "display_name": "Python 3",
   "language": "python",
   "name": "python3"
  },
  "language_info": {
   "codemirror_mode": {
    "name": "ipython",
    "version": 3
   },
   "file_extension": ".py",
   "mimetype": "text/x-python",
   "name": "python",
   "nbconvert_exporter": "python",
   "pygments_lexer": "ipython3",
   "version": "3.7.6"
  },
  "widgets": {
   "application/vnd.jupyter.widget-state+json": {
    "state": {
     "028fd2a7970b494984ada70c144b669a": {
      "model_module": "@jupyter-widgets/base",
      "model_module_version": "1.2.0",
      "model_name": "LayoutModel",
      "state": {}
     },
     "0418a3f80eb54b9e9026a59803f77dcb": {
      "model_module": "@jupyter-widgets/base",
      "model_module_version": "1.2.0",
      "model_name": "LayoutModel",
      "state": {}
     },
     "054dca217e7548e1b6705658b447cdc2": {
      "model_module": "@jupyter-widgets/controls",
      "model_module_version": "1.5.0",
      "model_name": "SliderStyleModel",
      "state": {
       "description_width": ""
      }
     },
     "05752017342a44cd9a88abb5505809b2": {
      "model_module": "@jupyter-widgets/controls",
      "model_module_version": "1.5.0",
      "model_name": "SliderStyleModel",
      "state": {
       "description_width": ""
      }
     },
     "067ef3b3b863413cb0272fbe96ac4a3a": {
      "model_module": "@jupyter-widgets/base",
      "model_module_version": "1.2.0",
      "model_name": "LayoutModel",
      "state": {}
     },
     "07e13d67151142d2855d7fc4f25ea310": {
      "model_module": "@jupyter-widgets/controls",
      "model_module_version": "1.5.0",
      "model_name": "ButtonModel",
      "state": {
       "description": "Run Interact",
       "layout": "IPY_MODEL_de9a8fa226304f53abd0ea18dcd2863b",
       "style": "IPY_MODEL_fd9ca394161b4218b0f235a65e15fcf8"
      }
     },
     "0a8db0a136d84aae9f8de27c48af5de7": {
      "model_module": "@jupyter-widgets/base",
      "model_module_version": "1.2.0",
      "model_name": "LayoutModel",
      "state": {}
     },
     "0aa8e48ae476498580f712c00fe00719": {
      "model_module": "@jupyter-widgets/base",
      "model_module_version": "1.2.0",
      "model_name": "LayoutModel",
      "state": {}
     },
     "0b6d34047b52443a89fc87a05c8c3f41": {
      "model_module": "@jupyter-widgets/controls",
      "model_module_version": "1.5.0",
      "model_name": "IntSliderModel",
      "state": {
       "description": "Height (m):",
       "layout": "IPY_MODEL_a0e709e2f1f14baea82cb0bff5d684f9",
       "min": 1,
       "style": "IPY_MODEL_6c4fdb7c1acd44b58d6679fced2b9422",
       "value": 75
      }
     },
     "0f691a27aa7c48538187e69d5977de02": {
      "model_module": "@jupyter-widgets/base",
      "model_module_version": "1.2.0",
      "model_name": "LayoutModel",
      "state": {}
     },
     "100bd7c87772474fbec4b39280770534": {
      "model_module": "@jupyter-widgets/controls",
      "model_module_version": "1.5.0",
      "model_name": "VBoxModel",
      "state": {
       "_dom_classes": [
        "widget-interact"
       ],
       "children": [
        "IPY_MODEL_dd6c0c62021d44389c5185c55f436dbc",
        "IPY_MODEL_c74bfee03dbe4ed19a2b98c4743235b3",
        "IPY_MODEL_bbe98c45c6384536ad0fe96b19274e25",
        "IPY_MODEL_27309a1a51a846a6ad57484e6de3dad0",
        "IPY_MODEL_98a7a18b82c84bf9bdad9a858cb4a476",
        "IPY_MODEL_9e123f4a79d04340be3180e58de8b352",
        "IPY_MODEL_07e13d67151142d2855d7fc4f25ea310",
        "IPY_MODEL_c3692efd8721419eb152141e60724af4"
       ],
       "layout": "IPY_MODEL_e2516c2245304c338910bf589cfd164c"
      }
     },
     "15f2007006ba4c42971a2633150bafed": {
      "model_module": "@jupyter-widgets/controls",
      "model_module_version": "1.5.0",
      "model_name": "FloatSliderModel",
      "state": {
       "description": "Probability S:",
       "layout": "IPY_MODEL_8ae8cc5d5a4f47a4be36864d1c46be99",
       "max": 1,
       "min": 0.01,
       "step": 0.01,
       "style": "IPY_MODEL_99defb3b9ccd4ada8cdbb89d8cdbd728",
       "value": 0.1
      }
     },
     "19f675d81a5b45b78c457c7dbb1e0647": {
      "model_module": "@jupyter-widgets/controls",
      "model_module_version": "1.5.0",
      "model_name": "IntSliderModel",
      "state": {
       "description": "Height (m):",
       "layout": "IPY_MODEL_6bcd00c248f84e5c8719f533657d1d57",
       "min": 1,
       "style": "IPY_MODEL_6480804611964fde8f845366b065931a",
       "value": 75
      }
     },
     "1b8c160085a549aaac0b468615d2f072": {
      "model_module": "@jupyter-widgets/controls",
      "model_module_version": "1.5.0",
      "model_name": "FloatSliderModel",
      "state": {
       "description": "Probability E:",
       "layout": "IPY_MODEL_d481a6843f9d43b7a1b318629832b4f5",
       "max": 1,
       "min": 0.01,
       "step": 0.01,
       "style": "IPY_MODEL_3db0ed6b5a414d99877b7892249128e9",
       "value": 0.75
      }
     },
     "1d569ddb59c341d68854ea148928d9ce": {
      "model_module": "@jupyter-widgets/output",
      "model_module_version": "1.0.0",
      "model_name": "OutputModel",
      "state": {
       "layout": "IPY_MODEL_f2b4707f41dd400b9d10bbb7c91e1b23",
       "outputs": [
        {
         "data": {
          "image/png": "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\n",
          "text/plain": "<Figure size 720x720 with 2 Axes>"
         },
         "metadata": {
          "needs_background": "light"
         },
         "output_type": "display_data"
        },
        {
         "data": {
          "text/plain": "'All particles touch the ground after 139 s (Model Runtime 1.640625 s)'"
         },
         "metadata": {},
         "output_type": "display_data"
        }
       ]
      }
     },
     "226af84ef7a740bf98579f76db9f04f9": {
      "model_module": "@jupyter-widgets/controls",
      "model_module_version": "1.5.0",
      "model_name": "SliderStyleModel",
      "state": {
       "description_width": ""
      }
     },
     "23b9e3ab8c96475d999bd2d5502342e2": {
      "model_module": "@jupyter-widgets/base",
      "model_module_version": "1.2.0",
      "model_name": "LayoutModel",
      "state": {}
     },
     "24f13b6287ff4d8fbecfaa5a2cb74cf6": {
      "model_module": "@jupyter-widgets/base",
      "model_module_version": "1.2.0",
      "model_name": "LayoutModel",
      "state": {}
     },
     "2657372b354f48c986404d6e3d6654b1": {
      "model_module": "@jupyter-widgets/controls",
      "model_module_version": "1.5.0",
      "model_name": "FloatSliderModel",
      "state": {
       "description": "Probability W:",
       "layout": "IPY_MODEL_61fb93688f5b4f42b7e329ca968dde55",
       "max": 1,
       "min": 0.01,
       "step": 0.01,
       "style": "IPY_MODEL_664854a331a8472b9e0a5e141a8270a6",
       "value": 0.05
      }
     },
     "27309a1a51a846a6ad57484e6de3dad0": {
      "model_module": "@jupyter-widgets/controls",
      "model_module_version": "1.5.0",
      "model_name": "FloatSliderModel",
      "state": {
       "description": "Probability W:",
       "layout": "IPY_MODEL_c028fe001425441bb862edc7ba595194",
       "max": 1,
       "min": 0.01,
       "step": 0.01,
       "style": "IPY_MODEL_cd19a563ebf446d4896d7f9d8e93daa0",
       "value": 0.05
      }
     },
     "2a91fa31d92743c6895c5ca007769d6b": {
      "model_module": "@jupyter-widgets/base",
      "model_module_version": "1.2.0",
      "model_name": "LayoutModel",
      "state": {}
     },
     "2b9377eecf49439dbb1d1c50d1d03b07": {
      "model_module": "@jupyter-widgets/controls",
      "model_module_version": "1.5.0",
      "model_name": "SliderStyleModel",
      "state": {
       "description_width": ""
      }
     },
     "2d76adbd5a6a46cdad27f3e0b6548da7": {
      "model_module": "@jupyter-widgets/controls",
      "model_module_version": "1.5.0",
      "model_name": "ButtonStyleModel",
      "state": {}
     },
     "2f896d12a720411eba0377eeac4ba6b7": {
      "model_module": "@jupyter-widgets/controls",
      "model_module_version": "1.5.0",
      "model_name": "ButtonModel",
      "state": {
       "description": "Run Interact",
       "layout": "IPY_MODEL_24f13b6287ff4d8fbecfaa5a2cb74cf6",
       "style": "IPY_MODEL_2d76adbd5a6a46cdad27f3e0b6548da7"
      }
     },
     "300d6bd4cd9b47a99eec1341cd0c8f29": {
      "model_module": "@jupyter-widgets/base",
      "model_module_version": "1.2.0",
      "model_name": "LayoutModel",
      "state": {}
     },
     "33b82b45565e4bcabed4fc3c89b5ec38": {
      "model_module": "@jupyter-widgets/controls",
      "model_module_version": "1.5.0",
      "model_name": "ButtonModel",
      "state": {
       "description": "Run Interact",
       "layout": "IPY_MODEL_028fd2a7970b494984ada70c144b669a",
       "style": "IPY_MODEL_ab453ac3343e4fa395d7b8d8e6954c2f"
      }
     },
     "356ff49528c84cd097b5d48fc35aaec4": {
      "model_module": "@jupyter-widgets/controls",
      "model_module_version": "1.5.0",
      "model_name": "ButtonStyleModel",
      "state": {}
     },
     "39283b7d44e54be2950ef35247406f85": {
      "model_module": "@jupyter-widgets/controls",
      "model_module_version": "1.5.0",
      "model_name": "IntSliderModel",
      "state": {
       "description": "Particles (N):",
       "layout": "IPY_MODEL_b04aba8237564b54a97fa0d2b2da1088",
       "max": 10000,
       "min": 1,
       "style": "IPY_MODEL_39aa67629c7c4c2b824bc083ce0e7e24",
       "value": 5000
      }
     },
     "39aa67629c7c4c2b824bc083ce0e7e24": {
      "model_module": "@jupyter-widgets/controls",
      "model_module_version": "1.5.0",
      "model_name": "SliderStyleModel",
      "state": {
       "description_width": ""
      }
     },
     "39ba19ec32f747a3b4a476d9e2a5e4a2": {
      "model_module": "@jupyter-widgets/base",
      "model_module_version": "1.2.0",
      "model_name": "LayoutModel",
      "state": {}
     },
     "3af71ee719df48228a9b8df9365008ed": {
      "model_module": "@jupyter-widgets/controls",
      "model_module_version": "1.5.0",
      "model_name": "SliderStyleModel",
      "state": {
       "description_width": ""
      }
     },
     "3b095199d9b5465d9a4fb120ba8e5e94": {
      "model_module": "@jupyter-widgets/controls",
      "model_module_version": "1.5.0",
      "model_name": "SliderStyleModel",
      "state": {
       "description_width": ""
      }
     },
     "3ba00c7cc2f047c4b9ddc46554b00dd1": {
      "model_module": "@jupyter-widgets/base",
      "model_module_version": "1.2.0",
      "model_name": "LayoutModel",
      "state": {}
     },
     "3db0ed6b5a414d99877b7892249128e9": {
      "model_module": "@jupyter-widgets/controls",
      "model_module_version": "1.5.0",
      "model_name": "SliderStyleModel",
      "state": {
       "description_width": ""
      }
     },
     "3dc91611947f475085453a4ee98c5ca4": {
      "model_module": "@jupyter-widgets/controls",
      "model_module_version": "1.5.0",
      "model_name": "SliderStyleModel",
      "state": {
       "description_width": ""
      }
     },
     "3f439b8fabad4fd994fb2f4aaafe20da": {
      "model_module": "@jupyter-widgets/controls",
      "model_module_version": "1.5.0",
      "model_name": "SliderStyleModel",
      "state": {
       "description_width": ""
      }
     },
     "41930f9c07fb4920a72f1aae6a51d188": {
      "model_module": "@jupyter-widgets/controls",
      "model_module_version": "1.5.0",
      "model_name": "SliderStyleModel",
      "state": {
       "description_width": ""
      }
     },
     "4200a4e5b8a54f2a94a0ee4b94f2adac": {
      "model_module": "@jupyter-widgets/base",
      "model_module_version": "1.2.0",
      "model_name": "LayoutModel",
      "state": {}
     },
     "421cc08d4a174ba38a0cbd563b48c84d": {
      "model_module": "@jupyter-widgets/controls",
      "model_module_version": "1.5.0",
      "model_name": "FloatSliderModel",
      "state": {
       "description": "Probability S:",
       "layout": "IPY_MODEL_de0c00f2fbfc4c959cafd13a727fb6b3",
       "max": 1,
       "min": 0.01,
       "step": 0.01,
       "style": "IPY_MODEL_906ccc53893d4dbfb5cd071af44cc396",
       "value": 0.1
      }
     },
     "44e88db558f049ed80e8f941b702343f": {
      "model_module": "@jupyter-widgets/base",
      "model_module_version": "1.2.0",
      "model_name": "LayoutModel",
      "state": {}
     },
     "4c826b8258214423bb292df1c17b09b2": {
      "model_module": "@jupyter-widgets/base",
      "model_module_version": "1.2.0",
      "model_name": "LayoutModel",
      "state": {}
     },
     "4ea792c32ad94bbfb46c3bbea724dceb": {
      "model_module": "@jupyter-widgets/base",
      "model_module_version": "1.2.0",
      "model_name": "LayoutModel",
      "state": {}
     },
     "52509f5a64e34b6f81986add1bd865ac": {
      "model_module": "@jupyter-widgets/base",
      "model_module_version": "1.2.0",
      "model_name": "LayoutModel",
      "state": {}
     },
     "52d7d3bb5b67444ebfcf0ea03f5ffca0": {
      "model_module": "@jupyter-widgets/controls",
      "model_module_version": "1.5.0",
      "model_name": "VBoxModel",
      "state": {
       "_dom_classes": [
        "widget-interact"
       ],
       "children": [
        "IPY_MODEL_39283b7d44e54be2950ef35247406f85",
        "IPY_MODEL_cf1acabb4eeb413c93e2dc437d1ca3a8",
        "IPY_MODEL_e2da6f3a70444d6892b6212ffa48b0f3",
        "IPY_MODEL_fea85731e2ae4a05a890152010273a29",
        "IPY_MODEL_8b4f56a0e7c84562835e8803d4a5ce70",
        "IPY_MODEL_421cc08d4a174ba38a0cbd563b48c84d",
        "IPY_MODEL_33b82b45565e4bcabed4fc3c89b5ec38",
        "IPY_MODEL_8542378d11144eafb2051a908aec635c"
       ],
       "layout": "IPY_MODEL_69f87d6df4a3443baa86e4f7ba5ad8d8"
      }
     },
     "5c1ae3051e4f446db5a47c92162df279": {
      "model_module": "@jupyter-widgets/base",
      "model_module_version": "1.2.0",
      "model_name": "LayoutModel",
      "state": {}
     },
     "5d7a2f67fbe54b9aba9f3d0118355462": {
      "model_module": "@jupyter-widgets/base",
      "model_module_version": "1.2.0",
      "model_name": "LayoutModel",
      "state": {}
     },
     "5df0fe2801724455ab905d1d105b4a32": {
      "model_module": "@jupyter-widgets/controls",
      "model_module_version": "1.5.0",
      "model_name": "SliderStyleModel",
      "state": {
       "description_width": ""
      }
     },
     "61fb93688f5b4f42b7e329ca968dde55": {
      "model_module": "@jupyter-widgets/base",
      "model_module_version": "1.2.0",
      "model_name": "LayoutModel",
      "state": {}
     },
     "6480804611964fde8f845366b065931a": {
      "model_module": "@jupyter-widgets/controls",
      "model_module_version": "1.5.0",
      "model_name": "SliderStyleModel",
      "state": {
       "description_width": ""
      }
     },
     "650910e0df7a4f79a620226a55e3fe0d": {
      "model_module": "@jupyter-widgets/controls",
      "model_module_version": "1.5.0",
      "model_name": "SliderStyleModel",
      "state": {
       "description_width": ""
      }
     },
     "6633a45be92346c8a1cd1c040832a0de": {
      "model_module": "@jupyter-widgets/controls",
      "model_module_version": "1.5.0",
      "model_name": "ButtonModel",
      "state": {
       "description": "Run Interact",
       "layout": "IPY_MODEL_f1bf11d078694ba1a498da63d916d3ec",
       "style": "IPY_MODEL_356ff49528c84cd097b5d48fc35aaec4"
      }
     },
     "664854a331a8472b9e0a5e141a8270a6": {
      "model_module": "@jupyter-widgets/controls",
      "model_module_version": "1.5.0",
      "model_name": "SliderStyleModel",
      "state": {
       "description_width": ""
      }
     },
     "67a35cff02ee469dbd574555b37e7718": {
      "model_module": "@jupyter-widgets/base",
      "model_module_version": "1.2.0",
      "model_name": "LayoutModel",
      "state": {}
     },
     "67e1c7da54e94565b9a303bedc572710": {
      "model_module": "@jupyter-widgets/controls",
      "model_module_version": "1.5.0",
      "model_name": "IntSliderModel",
      "state": {
       "description": "Height (m):",
       "layout": "IPY_MODEL_300d6bd4cd9b47a99eec1341cd0c8f29",
       "min": 1,
       "style": "IPY_MODEL_c09a693262fb4d52b604833768ec647d",
       "value": 75
      }
     },
     "69508e24b6254b62bfd4c104f8f45a20": {
      "model_module": "@jupyter-widgets/base",
      "model_module_version": "1.2.0",
      "model_name": "LayoutModel",
      "state": {}
     },
     "69f87d6df4a3443baa86e4f7ba5ad8d8": {
      "model_module": "@jupyter-widgets/base",
      "model_module_version": "1.2.0",
      "model_name": "LayoutModel",
      "state": {}
     },
     "6bcd00c248f84e5c8719f533657d1d57": {
      "model_module": "@jupyter-widgets/base",
      "model_module_version": "1.2.0",
      "model_name": "LayoutModel",
      "state": {}
     },
     "6c4fdb7c1acd44b58d6679fced2b9422": {
      "model_module": "@jupyter-widgets/controls",
      "model_module_version": "1.5.0",
      "model_name": "SliderStyleModel",
      "state": {
       "description_width": ""
      }
     },
     "741bb147f425459ca864a8bedc5bf620": {
      "model_module": "@jupyter-widgets/controls",
      "model_module_version": "1.5.0",
      "model_name": "SliderStyleModel",
      "state": {
       "description_width": ""
      }
     },
     "7a389090025640f4944cd54a52921b26": {
      "model_module": "@jupyter-widgets/controls",
      "model_module_version": "1.5.0",
      "model_name": "FloatSliderModel",
      "state": {
       "description": "Probability N:",
       "layout": "IPY_MODEL_fd34021d4bff4e2192e8c67070168f75",
       "max": 1,
       "min": 0.01,
       "step": 0.01,
       "style": "IPY_MODEL_741bb147f425459ca864a8bedc5bf620",
       "value": 0.1
      }
     },
     "7d4e262662a643b0aeeedc378e614b92": {
      "model_module": "@jupyter-widgets/base",
      "model_module_version": "1.2.0",
      "model_name": "LayoutModel",
      "state": {}
     },
     "7ebab2a5ca5f45acbba4afb1c1060a2d": {
      "model_module": "@jupyter-widgets/controls",
      "model_module_version": "1.5.0",
      "model_name": "FloatSliderModel",
      "state": {
       "description": "Probability N:",
       "layout": "IPY_MODEL_bfa1f5639e3f4edb839af3893d7f1331",
       "max": 1,
       "min": 0.01,
       "step": 0.01,
       "style": "IPY_MODEL_fee43711d6b04efea5266de8d3d5757a",
       "value": 0.1
      }
     },
     "800001b7a9e447e8b6702b1d7651efc8": {
      "model_module": "@jupyter-widgets/base",
      "model_module_version": "1.2.0",
      "model_name": "LayoutModel",
      "state": {}
     },
     "80b229333a5e4cb0b97ee626b09ef4dd": {
      "model_module": "@jupyter-widgets/controls",
      "model_module_version": "1.5.0",
      "model_name": "IntSliderModel",
      "state": {
       "description": "Particles (N):",
       "layout": "IPY_MODEL_69508e24b6254b62bfd4c104f8f45a20",
       "max": 10000,
       "min": 1,
       "style": "IPY_MODEL_05752017342a44cd9a88abb5505809b2",
       "value": 5000
      }
     },
     "8542378d11144eafb2051a908aec635c": {
      "model_module": "@jupyter-widgets/output",
      "model_module_version": "1.0.0",
      "model_name": "OutputModel",
      "state": {
       "layout": "IPY_MODEL_cc3a919e8b0b484fbba5c8ec7e3fa9f1",
       "outputs": [
        {
         "data": {
          "image/png": "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\n",
          "text/plain": "<Figure size 720x720 with 2 Axes>"
         },
         "metadata": {
          "needs_background": "light"
         },
         "output_type": "display_data"
        },
        {
         "data": {
          "text/plain": "'All particles touch the ground after 156 s (Model Runtime 1.609375 s)'"
         },
         "metadata": {},
         "output_type": "display_data"
        }
       ]
      }
     },
     "85a6949c33464b128c3c47a823097d89": {
      "model_module": "@jupyter-widgets/controls",
      "model_module_version": "1.5.0",
      "model_name": "SliderStyleModel",
      "state": {
       "description_width": ""
      }
     },
     "86684675271d492e8019093373f2b4d2": {
      "model_module": "@jupyter-widgets/controls",
      "model_module_version": "1.5.0",
      "model_name": "ButtonStyleModel",
      "state": {}
     },
     "8a8c4e7276dd4ad88546b7ade412e154": {
      "model_module": "@jupyter-widgets/controls",
      "model_module_version": "1.5.0",
      "model_name": "SliderStyleModel",
      "state": {
       "description_width": ""
      }
     },
     "8ab4229ce33a48e0bccbd3b6ac454921": {
      "model_module": "@jupyter-widgets/controls",
      "model_module_version": "1.5.0",
      "model_name": "FloatSliderModel",
      "state": {
       "description": "Probability S:",
       "layout": "IPY_MODEL_0a8db0a136d84aae9f8de27c48af5de7",
       "max": 1,
       "min": 0.01,
       "step": 0.01,
       "style": "IPY_MODEL_054dca217e7548e1b6705658b447cdc2",
       "value": 0.1
      }
     },
     "8ae8cc5d5a4f47a4be36864d1c46be99": {
      "model_module": "@jupyter-widgets/base",
      "model_module_version": "1.2.0",
      "model_name": "LayoutModel",
      "state": {}
     },
     "8b4f56a0e7c84562835e8803d4a5ce70": {
      "model_module": "@jupyter-widgets/controls",
      "model_module_version": "1.5.0",
      "model_name": "FloatSliderModel",
      "state": {
       "description": "Probability N:",
       "layout": "IPY_MODEL_cd75b19114c941efbd88d4e7664008e7",
       "max": 1,
       "min": 0.01,
       "step": 0.01,
       "style": "IPY_MODEL_3b095199d9b5465d9a4fb120ba8e5e94",
       "value": 0.1
      }
     },
     "906ccc53893d4dbfb5cd071af44cc396": {
      "model_module": "@jupyter-widgets/controls",
      "model_module_version": "1.5.0",
      "model_name": "SliderStyleModel",
      "state": {
       "description_width": ""
      }
     },
     "98257f70a4c6436db5634baf827edafe": {
      "model_module": "@jupyter-widgets/controls",
      "model_module_version": "1.5.0",
      "model_name": "IntSliderModel",
      "state": {
       "description": "Particles (N):",
       "layout": "IPY_MODEL_4ea792c32ad94bbfb46c3bbea724dceb",
       "max": 10000,
       "min": 1,
       "style": "IPY_MODEL_9ba12da3e0e4474684acaf51f3944587",
       "value": 5000
      }
     },
     "98a7a18b82c84bf9bdad9a858cb4a476": {
      "model_module": "@jupyter-widgets/controls",
      "model_module_version": "1.5.0",
      "model_name": "FloatSliderModel",
      "state": {
       "description": "Probability N:",
       "layout": "IPY_MODEL_44e88db558f049ed80e8f941b702343f",
       "max": 1,
       "min": 0.01,
       "step": 0.01,
       "style": "IPY_MODEL_41930f9c07fb4920a72f1aae6a51d188",
       "value": 0.1
      }
     },
     "99defb3b9ccd4ada8cdbb89d8cdbd728": {
      "model_module": "@jupyter-widgets/controls",
      "model_module_version": "1.5.0",
      "model_name": "SliderStyleModel",
      "state": {
       "description_width": ""
      }
     },
     "9ba12da3e0e4474684acaf51f3944587": {
      "model_module": "@jupyter-widgets/controls",
      "model_module_version": "1.5.0",
      "model_name": "SliderStyleModel",
      "state": {
       "description_width": ""
      }
     },
     "9e123f4a79d04340be3180e58de8b352": {
      "model_module": "@jupyter-widgets/controls",
      "model_module_version": "1.5.0",
      "model_name": "FloatSliderModel",
      "state": {
       "description": "Probability S:",
       "layout": "IPY_MODEL_7d4e262662a643b0aeeedc378e614b92",
       "max": 1,
       "min": 0.01,
       "step": 0.01,
       "style": "IPY_MODEL_3f439b8fabad4fd994fb2f4aaafe20da",
       "value": 0.1
      }
     },
     "9ea28c817bf94c87850f2193cfc4a625": {
      "model_module": "@jupyter-widgets/controls",
      "model_module_version": "1.5.0",
      "model_name": "SliderStyleModel",
      "state": {
       "description_width": ""
      }
     },
     "9f6824e2d14f4dde846bf5772217aef0": {
      "model_module": "@jupyter-widgets/controls",
      "model_module_version": "1.5.0",
      "model_name": "SliderStyleModel",
      "state": {
       "description_width": ""
      }
     },
     "a0e709e2f1f14baea82cb0bff5d684f9": {
      "model_module": "@jupyter-widgets/base",
      "model_module_version": "1.2.0",
      "model_name": "LayoutModel",
      "state": {}
     },
     "a620d490e87a4a1b823cd7d01a7347df": {
      "model_module": "@jupyter-widgets/base",
      "model_module_version": "1.2.0",
      "model_name": "LayoutModel",
      "state": {}
     },
     "ab453ac3343e4fa395d7b8d8e6954c2f": {
      "model_module": "@jupyter-widgets/controls",
      "model_module_version": "1.5.0",
      "model_name": "ButtonStyleModel",
      "state": {}
     },
     "af293c791ea34607af11f834a11fbca8": {
      "model_module": "@jupyter-widgets/controls",
      "model_module_version": "1.5.0",
      "model_name": "SliderStyleModel",
      "state": {
       "description_width": ""
      }
     },
     "afd33ca579b047fab0ac5589a264a4ff": {
      "model_module": "@jupyter-widgets/controls",
      "model_module_version": "1.5.0",
      "model_name": "FloatSliderModel",
      "state": {
       "description": "Probability W:",
       "layout": "IPY_MODEL_eac658b5115d4a829681f8fa90767b72",
       "max": 1,
       "min": 0.01,
       "step": 0.01,
       "style": "IPY_MODEL_650910e0df7a4f79a620226a55e3fe0d",
       "value": 0.05
      }
     },
     "b04aba8237564b54a97fa0d2b2da1088": {
      "model_module": "@jupyter-widgets/base",
      "model_module_version": "1.2.0",
      "model_name": "LayoutModel",
      "state": {}
     },
     "b5c3263073214871be4486f29fe90f6b": {
      "model_module": "@jupyter-widgets/controls",
      "model_module_version": "1.5.0",
      "model_name": "SliderStyleModel",
      "state": {
       "description_width": ""
      }
     },
     "b878106b25d94a77a72dbebbba3687b5": {
      "model_module": "@jupyter-widgets/base",
      "model_module_version": "1.2.0",
      "model_name": "LayoutModel",
      "state": {}
     },
     "ba962534c54d4bba8300a4afe259f3af": {
      "model_module": "@jupyter-widgets/controls",
      "model_module_version": "1.5.0",
      "model_name": "FloatSliderModel",
      "state": {
       "description": "Probability W:",
       "layout": "IPY_MODEL_67a35cff02ee469dbd574555b37e7718",
       "max": 1,
       "min": 0.01,
       "step": 0.01,
       "style": "IPY_MODEL_e893a2092031429282069f9e485c8da4",
       "value": 0.05
      }
     },
     "bbe98c45c6384536ad0fe96b19274e25": {
      "model_module": "@jupyter-widgets/controls",
      "model_module_version": "1.5.0",
      "model_name": "FloatSliderModel",
      "state": {
       "description": "Probability E:",
       "layout": "IPY_MODEL_39ba19ec32f747a3b4a476d9e2a5e4a2",
       "max": 1,
       "min": 0.01,
       "step": 0.01,
       "style": "IPY_MODEL_3dc91611947f475085453a4ee98c5ca4",
       "value": 0.75
      }
     },
     "bf70001aacdd497cbda384d437c2b887": {
      "model_module": "@jupyter-widgets/output",
      "model_module_version": "1.0.0",
      "model_name": "OutputModel",
      "state": {
       "layout": "IPY_MODEL_52509f5a64e34b6f81986add1bd865ac",
       "outputs": [
        {
         "ename": "NameError",
         "evalue": "name 'time' is not defined",
         "output_type": "error",
         "traceback": [
          "\u001b[1;31m---------------------------------------------------------------------------\u001b[0m",
          "\u001b[1;31mNameError\u001b[0m                                 Traceback (most recent call last)",
          "\u001b[1;32mC:\\ProgramData\\Anaconda3\\lib\\site-packages\\ipywidgets\\widgets\\interaction.py\u001b[0m in \u001b[0;36mupdate\u001b[1;34m(self, *args)\u001b[0m\n\u001b[0;32m    254\u001b[0m                     \u001b[0mvalue\u001b[0m \u001b[1;33m=\u001b[0m \u001b[0mwidget\u001b[0m\u001b[1;33m.\u001b[0m\u001b[0mget_interact_value\u001b[0m\u001b[1;33m(\u001b[0m\u001b[1;33m)\u001b[0m\u001b[1;33m\u001b[0m\u001b[1;33m\u001b[0m\u001b[0m\n\u001b[0;32m    255\u001b[0m                     \u001b[0mself\u001b[0m\u001b[1;33m.\u001b[0m\u001b[0mkwargs\u001b[0m\u001b[1;33m[\u001b[0m\u001b[0mwidget\u001b[0m\u001b[1;33m.\u001b[0m\u001b[0m_kwarg\u001b[0m\u001b[1;33m]\u001b[0m \u001b[1;33m=\u001b[0m \u001b[0mvalue\u001b[0m\u001b[1;33m\u001b[0m\u001b[1;33m\u001b[0m\u001b[0m\n\u001b[1;32m--> 256\u001b[1;33m                 \u001b[0mself\u001b[0m\u001b[1;33m.\u001b[0m\u001b[0mresult\u001b[0m \u001b[1;33m=\u001b[0m \u001b[0mself\u001b[0m\u001b[1;33m.\u001b[0m\u001b[0mf\u001b[0m\u001b[1;33m(\u001b[0m\u001b[1;33m**\u001b[0m\u001b[0mself\u001b[0m\u001b[1;33m.\u001b[0m\u001b[0mkwargs\u001b[0m\u001b[1;33m)\u001b[0m\u001b[1;33m\u001b[0m\u001b[1;33m\u001b[0m\u001b[0m\n\u001b[0m\u001b[0;32m    257\u001b[0m                 \u001b[0mshow_inline_matplotlib_plots\u001b[0m\u001b[1;33m(\u001b[0m\u001b[1;33m)\u001b[0m\u001b[1;33m\u001b[0m\u001b[1;33m\u001b[0m\u001b[0m\n\u001b[0;32m    258\u001b[0m                 \u001b[1;32mif\u001b[0m \u001b[0mself\u001b[0m\u001b[1;33m.\u001b[0m\u001b[0mauto_display\u001b[0m \u001b[1;32mand\u001b[0m \u001b[0mself\u001b[0m\u001b[1;33m.\u001b[0m\u001b[0mresult\u001b[0m \u001b[1;32mis\u001b[0m \u001b[1;32mnot\u001b[0m \u001b[1;32mNone\u001b[0m\u001b[1;33m:\u001b[0m\u001b[1;33m\u001b[0m\u001b[1;33m\u001b[0m\u001b[0m\n",
          "\u001b[1;32m<ipython-input-20-74a70a656390>\u001b[0m in \u001b[0;36mrun\u001b[1;34m(n_particles, height, Ew, Ww, Nw, Sw)\u001b[0m\n\u001b[0;32m      1\u001b[0m \u001b[1;32mdef\u001b[0m \u001b[0mrun\u001b[0m\u001b[1;33m(\u001b[0m\u001b[0mn_particles\u001b[0m\u001b[1;33m,\u001b[0m\u001b[0mheight\u001b[0m\u001b[1;33m,\u001b[0m\u001b[0mEw\u001b[0m\u001b[1;33m,\u001b[0m\u001b[0mWw\u001b[0m\u001b[1;33m,\u001b[0m\u001b[0mNw\u001b[0m\u001b[1;33m,\u001b[0m\u001b[0mSw\u001b[0m\u001b[1;33m)\u001b[0m\u001b[1;33m:\u001b[0m\u001b[1;33m\u001b[0m\u001b[1;33m\u001b[0m\u001b[0m\n\u001b[0;32m      2\u001b[0m     \u001b[1;31m# Record start time for timing\u001b[0m\u001b[1;33m\u001b[0m\u001b[1;33m\u001b[0m\u001b[1;33m\u001b[0m\u001b[0m\n\u001b[1;32m----> 3\u001b[1;33m     \u001b[0mstart\u001b[0m \u001b[1;33m=\u001b[0m \u001b[0mtime\u001b[0m\u001b[1;33m.\u001b[0m\u001b[0mprocess_time\u001b[0m\u001b[1;33m(\u001b[0m\u001b[1;33m)\u001b[0m\u001b[1;33m\u001b[0m\u001b[1;33m\u001b[0m\u001b[0m\n\u001b[0m\u001b[0;32m      4\u001b[0m \u001b[1;33m\u001b[0m\u001b[0m\n\u001b[0;32m      5\u001b[0m     \u001b[1;31m#Update values in sliders before using them\u001b[0m\u001b[1;33m\u001b[0m\u001b[1;33m\u001b[0m\u001b[1;33m\u001b[0m\u001b[0m\n",
          "\u001b[1;31mNameError\u001b[0m: name 'time' is not defined"
         ]
        }
       ]
      }
     },
     "bfa1f5639e3f4edb839af3893d7f1331": {
      "model_module": "@jupyter-widgets/base",
      "model_module_version": "1.2.0",
      "model_name": "LayoutModel",
      "state": {}
     },
     "c028fe001425441bb862edc7ba595194": {
      "model_module": "@jupyter-widgets/base",
      "model_module_version": "1.2.0",
      "model_name": "LayoutModel",
      "state": {}
     },
     "c09a693262fb4d52b604833768ec647d": {
      "model_module": "@jupyter-widgets/controls",
      "model_module_version": "1.5.0",
      "model_name": "SliderStyleModel",
      "state": {
       "description_width": ""
      }
     },
     "c3692efd8721419eb152141e60724af4": {
      "model_module": "@jupyter-widgets/output",
      "model_module_version": "1.0.0",
      "model_name": "OutputModel",
      "state": {
       "layout": "IPY_MODEL_3ba00c7cc2f047c4b9ddc46554b00dd1",
       "outputs": [
        {
         "data": {
          "image/png": "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\n",
          "text/plain": "<Figure size 720x720 with 2 Axes>"
         },
         "metadata": {
          "needs_background": "light"
         },
         "output_type": "display_data"
        },
        {
         "data": {
          "text/plain": "'All particles touch the ground after 141s'"
         },
         "metadata": {},
         "output_type": "display_data"
        }
       ]
      }
     },
     "c477272ae2a74a04ae6d231b7fdb836e": {
      "model_module": "@jupyter-widgets/controls",
      "model_module_version": "1.5.0",
      "model_name": "FloatSliderModel",
      "state": {
       "description": "Probability E:",
       "layout": "IPY_MODEL_2a91fa31d92743c6895c5ca007769d6b",
       "max": 1,
       "min": 0.01,
       "step": 0.01,
       "style": "IPY_MODEL_8a8c4e7276dd4ad88546b7ade412e154",
       "value": 0.75
      }
     },
     "c4d1a2877108429c8915361aa38615ea": {
      "model_module": "@jupyter-widgets/controls",
      "model_module_version": "1.5.0",
      "model_name": "FloatSliderModel",
      "state": {
       "description": "Probability S:",
       "layout": "IPY_MODEL_0aa8e48ae476498580f712c00fe00719",
       "max": 1,
       "min": 0.01,
       "step": 0.01,
       "style": "IPY_MODEL_226af84ef7a740bf98579f76db9f04f9",
       "value": 0.1
      }
     },
     "c74bfee03dbe4ed19a2b98c4743235b3": {
      "model_module": "@jupyter-widgets/controls",
      "model_module_version": "1.5.0",
      "model_name": "IntSliderModel",
      "state": {
       "description": "Height (m):",
       "layout": "IPY_MODEL_5d7a2f67fbe54b9aba9f3d0118355462",
       "min": 1,
       "style": "IPY_MODEL_2b9377eecf49439dbb1d1c50d1d03b07",
       "value": 75
      }
     },
     "cc3a919e8b0b484fbba5c8ec7e3fa9f1": {
      "model_module": "@jupyter-widgets/base",
      "model_module_version": "1.2.0",
      "model_name": "LayoutModel",
      "state": {}
     },
     "cc3bf5302ab34b13a1937e2a21071aa5": {
      "model_module": "@jupyter-widgets/base",
      "model_module_version": "1.2.0",
      "model_name": "LayoutModel",
      "state": {}
     },
     "cc401efdecb64d00968b35961506dcfe": {
      "model_module": "@jupyter-widgets/controls",
      "model_module_version": "1.5.0",
      "model_name": "ButtonModel",
      "state": {
       "description": "Run Interact",
       "layout": "IPY_MODEL_800001b7a9e447e8b6702b1d7651efc8",
       "style": "IPY_MODEL_86684675271d492e8019093373f2b4d2"
      }
     },
     "cd19a563ebf446d4896d7f9d8e93daa0": {
      "model_module": "@jupyter-widgets/controls",
      "model_module_version": "1.5.0",
      "model_name": "SliderStyleModel",
      "state": {
       "description_width": ""
      }
     },
     "cd75b19114c941efbd88d4e7664008e7": {
      "model_module": "@jupyter-widgets/base",
      "model_module_version": "1.2.0",
      "model_name": "LayoutModel",
      "state": {}
     },
     "cd79a59c8b5e45539a015d76edfba62f": {
      "model_module": "@jupyter-widgets/output",
      "model_module_version": "1.0.0",
      "model_name": "OutputModel",
      "state": {
       "layout": "IPY_MODEL_b878106b25d94a77a72dbebbba3687b5",
       "outputs": [
        {
         "data": {
          "image/png": "iVBORw0KGgoAAAANSUhEUgAAAkQAAAIgCAYAAABkhXYWAAAABHNCSVQICAgIfAhkiAAAAAlwSFlzAAALEgAACxIB0t1+/AAAADh0RVh0U29mdHdhcmUAbWF0cGxvdGxpYiB2ZXJzaW9uMy4xLjMsIGh0dHA6Ly9tYXRwbG90bGliLm9yZy+AADFEAAAgAElEQVR4nO3de7RdZXnv8d+TxIQ0Owd2TMIlBElpaBNbiJBBuVhBQxWwGuxQS0arKJzGtnjB2o6itdZjj6PtqVqHvXCKBw5QFcQbUIsXyKEoRS4hJ0YgAonBXAi5kAjZCOSQ/Zw/3neuNffac629kr33Wnvv5/sZI2OvNec753rnXGvv9cv7vvOd5u4CAACIbFK3KwAAANBtBCIAABAegQgAAIRHIAIAAOERiAAAQHgEIgAAEB6BqMPM7Dwze9TMNpjZFd2uDwAAkIx5iDrHzCZLekzSb0raKukBSSvc/ZGuVgwAgOBoIeqs0yRtcPefuPt+STdKWt7lOgEAEN6UblcgmHmStpSeb5X06602mD375X78cfNHtVIAgO57YvMW7d79tHW7HlERiDqr6oM+qM/SzFZKWilJx80/VqvvvmO06wUA6LKlrz6321UIjS6zztoqqdzcc6ykJxsLuftV7r7U3ZfOmf3yjlUOAICoCESd9YCkhWa2wMymSrpI0q1drhMAAOHRZdZB7v6Smb1X0nckTZZ0jbs/3OVqAQAQHoGow9z9Nkm3dbseAACgji4zAAAQHoEIAACERyACAADhEYgAAEB4BCIAABAegQgAAIRHIAIAAOERiAAAQHgEIgAAEB6BCAAAhEcgAgAA4RGIAABAeAQiAAAQHoEIAACERyACAADhEYgAAEB4BCIAABAegQgAAIRHIAIAAOERiAAAQHgEIgAAEB6BCAAAhEcgAgAA4RGIAABAeAQiAAAQHoEIAACERyACAADhEYgAAEB4BCIAABAegQgAAIRHIAIAAOERiAAAQHgEIgAAEB6BCAAAhEcgAgAA4RGIAABAeAQiAAAQHoEIAACERyACAADhEYgAAEB4BCIAABAegQgAAIRHIAIAAOERiAAAQHgEIgAAEB6BCAAAhEcgAgAA4RGIAABAeAQiAAAQHoEIAACERyACAADhEYgAAEB4BCIAABAegQgAAIRHIAIAAOFN6XYFJioze0LSPkkHJL3k7kvNbJakL0s6XtITkt7u7nu7VUcAAJDQQjS6XuvuS9x9aX5+haRV7r5Q0qr8HAAAdBmBqLOWS7ouP75O0oVdrAsAAMgIRKPHJX3XzB40s5V52ZHuvl2S8s+5VRua2UozW21mq3ftfrpD1QUAIC7GEI2es9z9STObK+l2M/txuxu6+1WSrpKkpacs8dGqIAAASGghGiXu/mT+uVPSNySdJmmHmR0tSfnnzu7VEAAAFAhEo8DMZpjZzOKxpNdLekjSrZIuzsUulnRLd2oIAADK6DIbHUdK+oaZSekcf8ndv21mD0i6ycwulbRZ0tu6WEcAAJARiEaBu/9E0skVy5+WtKzzNQIAAK3QZQYAAMIjEAEAgPAIRAAAIDwCEQAACI9ABAAAwiMQAQCA8AhEAAAgPAIRAAAIj0AEAADCIxABAIDwCEQAACA8AhEAAAiPQAQAAMIjEAEAgPAIRAAAIDwCEQAACI9ABAAAwiMQAQCA8AhEAAAgPAIRAAAIj0AEAADCIxABAIDwCEQAACA8AhEAAAiPQAQAAMIjEAEAgPAIRAAAIDwCEQAACI9ABAAAwiMQAQCA8AhEAAAgPAIRAAAIj0AEAADCIxABAIDwCEQAACA8AhEAAAiPQAQAAMIjEAEAgPAIRAAAIDwCEQAACI9ABAAAwiMQAQCA8AhEAAAgPAIRAAAIj0AEAADCIxABAIDwCEQAACA8AhEAAAiPQAQAAMIjEAEAgPAIRAAAIDwCEQAACI9ABAAAwiMQAQCA8AhEw2Bm15jZTjN7qLRslpndbmaP55+9ebmZ2efMbIOZrTOzU7pXcwAAUEYgGp5rJZ3XsOwKSavcfaGkVfm5JJ0vaWH+t1LSlR2qIwAAGAKBaBjc/XuS9jQsXi7puvz4OkkXlpZf78m9ko4ws6M7U1MAANAKgWjkHenu2yUp/5ybl8+TtKVUbmteBgAAuoxA1DlWscwrC5qtNLPVZrZ61+6nR7laAACAQDTydhRdYfnnzrx8q6T5pXLHSnqyagfufpW7L3X3pXNmv3xUKwsAAAhEo+FWSRfnxxdLuqW0/J35arPTJT1TdK0BAIDumtLtCoxnZnaDpHMkzTazrZL+UtLfSLrJzC6VtFnS23Lx2yRdIGmDpJ9LenfHKwwAACoRiIbB3Vc0WbWsoqxLumx0awQAAA4FXWYAACA8AhEAAAiPQAQAAMIjEAEAgPAIRAAAIDwCEQAACI9ABAAAwiMQAQCA8AhEAAAgPAIRAAAIj0AEAADCIxABAIDwCEQAACA8AhEAAAiPQAQAAMIjEAEAgPAIRAAAIDwCEQAACI9ABAAAwiMQAQCA8AhEAAAgPAIRAAAIj0AEAADCIxABAIDwCEQAACA8AhEAAAiPQAQAAMIjEAEAgPAIRAAAIDwCEQAACI9ABAAAwiMQAQCA8AhEAAAgPAIRgAnJ9z/X7SoAGEcIRAAAIDwCEYAxz/c/d9AtPjZ1xijVBsBERCACMKIOtauq1XY2dcZBB5xOd5nRRQeMbwQiACPqUFtmbOqMcR0qaJECxjcCEQBJ7bVwNCtTtbydbq7G9c1CxcF2mfn+5wbtq9X2h9IlN1rGSj2AaAhEAAAgPAIRAEntdfk0K1O1vJ1xP0Ot79+zse19Ve233PLTavuh9t/YanOwrVUHU56uN6A7pnS7AgA6r6pLaaS3ayeIDLW/SbNOOKj9loPHoR5f47ZFHQ913wQcYHwgEAEBtfMlXRVWmoWQxgDRuL7Z61eN8/G+p2pByPc/J+1/TtYzd8C+qgZgV7XyVAWbqro11sf7dqbnPXPbOgftONQQCqAz6DIDAADh0UIEoKbcitHqii8VLSu55aasPH6n1X4G7K+8bc9R6t+2ur5szqJ62V3rZYcfJ02dIe97KtfhKPmu9dKcRYNeu7FO/dtWa9K8pU3rULQ8+f596bnm1s5Jq9amdlp/2j0PtCIB3UEgAlAz4Eu+b2dl4ClrVqZ/z0ZZz1G1Mpo6oxaiJMn376uPDyqFq/49G9PyUggqd4/VwtD+52RTZ9bKFCGnCFJ2+HHy/fsG12F6b2XwGNBVNnVGbbvKY27RBVhVrt2Ac7ABC8DIIhABARzSF2xFa0vRUuKl51VlJs06obbMn9lca+WpjQXatjldQfb8Xml6b9qwT7KpM+V9O+UbV0mSJp28YmC42r9PykGn2Ff/no1ypZaiYl/WMze17uSxQMWx1FqTpFqL0oC6F/UrbVc1hqjZlWPDGXzduJ8yAhIw+ghEQACH0vrQauboortKPUeVWlfqyyTVW37mLEohZPfj8vmnpXXTe1P4kaS9m9L2kuzIk1IoOWGZJKl/4x1p3fN76y8+vVfe91RtmR1+nHzHOmnqTGnL/an81JkDWqH6N94hm3+GfNf6WmuS9+1Uf99T6fWPPKl+3D1zK8NgrYWrzSkAqsJRO61uzfY1FEITMDwMqgYAAOHRQgRMcI0tBwc7j1B5jE99XEwav+O71svmLZX3PVUar5NbiopWnem90gs/06STV9S6oopBy9q7Sdr+SHq84Ez59/9Bdv5f1df37ZL27dKkV79fUh4jVOx33S1pXyeeLR12RKrXojfX63X4cfWJHYsWoOm99XFGcxZJO9albUutXL5n36AxROVuwvL5abxMvzhPjdvWyle0Do1Uyw6tSMDwEIiACa6dGZiL7p1BY1dKQae8Ly91h/VvW526xUpByA4/rh4g9m6SHXnSgNCgvZvS+hxkJEmb7pEtu0L9d39O2rcrLZs5R3bapQOuOtPux9P6E89Oz/tSWZ/eK+WxR7Xnj/x7erz4jdIzm9Og7CK4bflBqteOdfXQl7vaWnWPlc9V41ijxpmxBwwInzqjNmi8cZ6jQ7lq7VAQhoDmCETABNRsxuXysqFajopL4Gvb5yuwBoWkw49LY4Re+Fl6XoSM3gXpeR67o+m90n3XpmW/8T75jnUpSBWDqp/fK9/ygxR2Tlqelu1+fMC+B7jrmvTzwr9KwWf7I9Jj96ZlZ1+SxhMtfmN6/si/S9sfk87/WD3s9C5IdTjypNogbvXMqbcmKbcYqd4iVjtvuaWnPAjb1XzCyEJ5sHkrBxNchpq5mxAEtIdABAQx1IzLzVqIVBq8bFNnSFNn1q7UmjRvqfr7ntKkeUvrV5XtWp9Cxtob0/MFZ6ad7d1Ua9Xxb31C2rdHrmukU9+U1j/4byncHLOrHoB65qTHuRVIPXOk2Qulfbtkb/9s2tdNl0szZ0lnvkuaOSeV2/6ItODMevfa0YulxW8cENRqA7B790nFYO+9mwZNETBp1gnpSrciFBVzGpWWlbvCBoXQUmtTbRbuJqG08f1o3F+Voe7RBqA9DKoGAADh0UI0DGZ2jaTfkrTT3X81L/u4pN+XlP9Lq4+4+2153YclXSrpgKT3u/t3Ol7pceSc81K3yX98+5Yu12T8OdgbqlZ149TGu5QnVCyPAyo979+2ut6q07sgjcM5evHAHa65WTrxrPR42Qdrl9vXWn8kvfhPv6dpr12hA3deJ0ma/NqLUxda7gp7cdsmTVt6rtS3Vy/cmT4f05aeKx2zOHXJFWOPHrs3vX4xRqlvl7TmZtn5H5M/s7lep57UolRr/cndZbUyL/xM/XlMlBrH+FR1JxZzHClPFtlwH7Zi/FDVwOtm91UD0BkEouG5VtI/Srq+Yfnfu/unygvMbLGkiyS9UtIxku4wsxPd/UAnKgoU2h1XZD1HDegWqoWETffUt1/cm7qlXvhZbeyNP7M5hZMi6BTdV0efKD32n2nZ7IW1K8iKbq4Dz+7RtHkL9Min/rsW/8lHU7kH/02aOUsvbkvhacejmzXr2a+q57RlmjYvd32deHYaT/TkI/WDPPVN9deV0uss+2DqMnvsrrTspOW1iRxrV7VJ6cqzolutpHarkOJ8bFxV62qzPB+TzVtaGwBejDUqX63n+5+rzbTd7H1pZ9wPY4OAkUeX2TC4+/ck7Wmz+HJJN7r7i+6+SdIGSaeNWuWANjTeo6u4EioFoXQLC9+/rxYYJs1bKlty0cCdTO+tDaT2Het04CsfrY/dkVLgmd6rvluuTKHo6BP14jXvS60zRWCRNPlNf6Ld99+rxe95j1688wa9eOcNOvDsHumUCzXttSs07bUr9As90yRJ3/vfN6XQc+qbUsvTzFmpleik5fUB2ft2pXFPhx+Xnm+5X7rrGtmyK2TLrkgtWlvuTwHn+b3p6rhiTNDUmelx0eo1dUZ9WXGu8uSRUgpLxSX+mt6bJ57M5zWPIypP+Fic96pQ06z1rmoG7MZgNaA1r43B2wDqaCEaHe81s3dKWi3pQ+6+V9I8SfeWymzNy1BSdJNJ0l3fv2fQMrrPRk/xBVq7x1hWPPf9z9Vuo2GnXZqWrb81/Zy9sNaqMuW/Xp9aiYrWk6kz5c9sVs/vfazWpTXtkn+QXviZDnzlo5r8X2alFzo6v27fXk37lVMlSQe2bdAn3vYO/fGy1PU1+y9uUt9n36HXfOSjtdamA9s2aNvqH2ne0g2aPO+X8r5OlGbOqQ3s3v2Fz2r2aadLZ18iv//qVGbBmdJjd8l75gy8/L93Qa01zI48qdYVVgtWqt+LzffklqXn96Yr5kpdaYMupc9dZY2X5jee/2aD39sZBH8o800BSGghGnlXSjpB0hJJ2yV9Oi+3irKNc72lgmYrzWy1ma3etfvp0aklAACoMffK72S0ycyOl/TNYlB1s3V5QLXc/a/zuu9I+ri7/6DV/peessRX333HCNd6fGBQ9ehpNhFg/7bV9Xt95a6eorvMeo5Kz0uDkm3OojR30PbS+J0FZ0q7H691KfnaG2VLLkpjbvI4nxdXp8/0tHkLUreY6gOo+265Uj2ve2ttdy+uvkPTXrsiPb7zhtR6dOJZaXyRlOYcuusa6Q1/LH3nM/Vla26WevIcR8Xl+LluNfNPS3MUlbruBgygLt2gtn7j2KPqLUblcsXl+i0GRReDrw9mvFAnjJV6RLf01edq9Zq1Vf95RgfQZTbCzOxod9+en75F0kP58a2SvmRmn1EaVL1Q0v1dqCImuAG3lGhzLpuaYpLEwtQZUhGAeo5KX+ZzFtWDQjHn0GFHSPdcm8rNTHMF1YLTzDm1MHTg0QckKYWanl6pb68mz8xdZj1zpAf/TdPnvULansfjnHi6pi09N40/ktSz6FWSpM+u/KAuf8/rUpneBWkM0T3Xpp/Kk0MuWzDwNh8nnp1+HpOvftu3K60vhSQ7YZl8xzpNOuHc2vnz/fvSoPFSl1njefJnNucus32aVLqqrHzuvRSWClVjgareu9GeyZowBBCIhsXMbpB0jqTZZrZV0l9KOsfMlih1hz0h6T2S5O4Pm9lNkh6R9JKky7jCDKOhnXEkTW9H0XNUfRBvnpG6aDGq3aKjdGm5HX5cCgOHHyc/5cK0bP4ZqdWodDm9euZIxyzW5GLA86Z76q02hcOOkE59kybv25VmlZbypful1qcceC7/0hdSC5Ak3fwXqXXohZ/VriDzmy5P686+JG83p16f4kq3M9+VtilfjSalMUTFPdc2rkotXUeeVAt4k+YtlRWXzxfn8fDj6pMuNpzTQc9bBKOqZUONFQIwMghEw+DuKyoWX92i/CclfXL0ajSx0FUGAOgUAhEQ1KCWh4Z5cxonZax1Gb3ws/p9ynrmDpzoUKWbph6Wl0/PcxWtuVmTTk7/h+jfdE+9paaYrPGea6VTLkxzFBX3JOvbpRfvvEE9y/8wPV/8xnQ/tMfuqo0P6rt/lXrOznXanu5vduDZPXpp3zOaVoxtmjkntfQsenO9hSvfEsSWXFS/lUYeG1SbTDFfKef799VayopzV/6pqTPqXWWlG7cOKKPcSlTxPpTRGgR0B4EICKJxTEqjAZMIFsvKMyjn9Tb/jNqXdLkbrTYx4451aeNi8HLPnNQtdea76nP1LDgzhZ5T3zRwQsUcYGoDrSVNe/P7azNKp5u0bkzb5bAys7hR7NSZ8nxftMn7dmnygjPTmKH8euku9qUJGHsXpOBWXn7PtdL5Hyudq5mD7nhfHEMxyHzA+Z06Y0B3WLPL6suPm8071M5l9gBGDoEICOJQxhb5/udqMzS78hVW+Q7wA7bLY4mkPIao76nU0iOlYFS+wauUWnPOviSNGyrKTe9Nt+647AtpHJEkW/TmNNdReTxSMV6o2NeRJ0mHHZGCWHGT1vuuTS1TeZxSeayTyrfc2PKDFIyKuYOWfbB2E9Z0Pkp3uc8tP7WWs4Yr8JoFmMbJEhtDUGPQ4a71QHcQiADUVH45FwGioiutCEblWZjTdjOl4hYX03trd5a3RW+u7ctzEKl1YW25P03Y+Pxe6dfflba95c9SN1rhyUdqXXa1W2iUWn1q9xf7jfel5aWB27UpAopJGIsZtp/ZXDtGmzqzNpi8Vs++p9Is1aUuseJ4TYO7xQacuxbPi+3aWU4YAkYfEzMCAIDwaCECMECzsUbWMzeNnyl3D+XH5Tu4F2NpapeNb9usSSevSDc9LVqWNq6qDbD2Yk6f+adJezfVW22kNOC6dKNVW3aG/P6rZfPPqO2raI3y6b31MT1TZ6Sp4XOLVFHHAfuaOrM2WLp8nMUd6YtjVp8G3Z2+dvl86dw0TrpYf52Db92hRQjoPAIRgJpWX+a+/7lB9zmrrS8CR+3xU7VuqEn5DvDl4FGbxbpv58BxOnn72k1V5w+8/7Gvv1V22qWpm62YOToPfJ5UhJJCMXO0Sl17uWxRd9PcgWFOAydQrLxBarkrqxyUmkyoOOhclRB8gLGDQASgLVVXTA0wICgMHGRchKHa1Wl9T0n7ZwwY/6Pn92rSCeeqf8/G+kzRudWlGOQ86eQV9dBTHlS9/7kBA71rrVPFgia31PDiLvTlco3HVOyr4XL6g5lcEcDYRyAC0FSzQb+tLglvtU35cvZiwLY1BI4B8x/lVp5BLVNzFg28xUVVQNPAYFR1m4xy/Wvb9MxN3XvSgPu6lbsEq26nUYWrw4Dxg0HVAAAgPFqIADTVOIlgo8oWkIp7dQ0qW/wsdXUNmBiyocWmvI+i1ag+LmjwPcL692wc0NLU9t3l874GtAzlgdKN+2rnZqvjoXWIViwgIRABaKnVl2VVOGi8ZUW5TOM4nMbZsRvH/jS9G3zjeKbG8Tw9Rw0YYD2gy6xUh2LiyXKXXLrDffMQ2Oo8tNJspurhGIkwQxgCEgIRAEkj31JQ2WJScfn6cMfhNAaatGzngLBVHvMzaJbt8szVLV6r3dDTzq04Ruo8E2aAkcMYIgAAEB6BCMCIKHc1tVu+2fKq+301K1+eSLFgDXMSlVtuGvc9Ui03aU6l6nFEtOQAYx9dZgAkHVoYaAwaI/F6A4JQadLE8usNutdXVVdcw7JmrzVSXYXtvB6AsYsWIgCHbCSChPftHNTCU9t/Q8hoFb6GmhW6WQvTsFqFDrJVDMDYRQsRgI6pHGDcoZaVQx0UPdx9AhgfaCECAADhEYgAdMxoDjA+1P0O1dUGIAYCEYDQCEEAJAIRAAAAgQgAhsKVZMDERyACAADhEYgAYAiMMwImPgIRADRBVxkQB4EIAJqgZQiIg0AEAADCIxABAIDwCEQAACA8AhEAAAiPQAQAAMIjEAEAgPAIRAAAIDwCEQAACI9ABAAAwiMQAQCA8AhEAAAgPAIRAAAIj0AEAADCIxABAIDwCEQAACA8AhEAAAiPQAQAAMIjEAEAgPAIRAAAIDwCEQAACI9ABAAAwiMQAQCA8AhEAAAgPAIRAAAIj0AEAADCIxABAIDwCEQAACA8AhEAAAiPQDQMZjbfzO40s/Vm9rCZfSAvn2Vmt5vZ4/lnb15uZvY5M9tgZuvM7JTuHgEAAJAIRMP1kqQPufsiSadLuszMFku6QtIqd18oaVV+LknnS1qY/62UdGXnqwwAABoRiIbB3be7+5r8eJ+k9ZLmSVou6bpc7DpJF+bHyyVd78m9ko4ws6M7XG0AANCAQDRCzOx4Sa+SdJ+kI919u5RCk6S5udg8SVtKm23Nyxr3tdLMVpvZ6l27nx7NagMAABGIRoSZ9Uj6mqTL3f3ZVkUrlvmgBe5XuftSd186Z/bLR6qaAACgCQLRMJnZy5TC0Bfd/et58Y6iKyz/3JmXb5U0v7T5sZKe7FRdAQBANQLRMJiZSbpa0np3/0xp1a2SLs6PL5Z0S2n5O/PVZqdLeqboWgMAAN0zpdsVGOfOkvQOST8ys7V52Uck/Y2km8zsUkmbJb0tr7tN0gWSNkj6uaR3d7a6AACgCoFoGNz9blWPC5KkZRXlXdJlo1opAABw0OgyAwAA4RGIAABAeAQiAAAQHoEIAACERyACAADhEYgAAEB4BCIAABAegQgAAIRHIAIAAOERiAAAQHgEIgAAEB6BCAAAhEcgAgAA4RGIAABAeAQiAAAQHoEIAACERyACAADhEYgAAEB4BCIAABAegQgAAIRHIAIAAOERiAAAQHgEIgAAEB6BCAAAhEcgAgAA4RGIAABAeAQiAAAQHoEIAACERyACAADhEYgAAEB4BCIAABAegQgAAIRHIAIAAOERiAAAQHgEIgAAEB6BCAAAhEcgAgAA4RGIAABAeAQiAAAQHoEIAACERyACAADhEYgAAEB4BCIAABAegQgAAIRHIAIAAOERiAAAQHgEIgAAEB6BCAAAhEcgAgAA4RGIAABAeAQiAAAQHoEIAACERyACAADhEYgAAEB4BKJhMLP5Znanma03s4fN7AN5+cfNbJuZrc3/Liht82Ez22Bmj5rZG7pXewAAUJjS7QqMcy9J+pC7rzGzmZIeNLPb87q/d/dPlQub2WJJF0l6paRjJN1hZie6+4GO1hoAAAxAC9EwuPt2d1+TH++TtF7SvBabLJd0o7u/6O6bJG2QdNro1xQAALRCIBohZna8pFdJui8veq+ZrTOza8ysNy+bJ2lLabOtah2gAABABxCIRoCZ9Uj6mqTL3f1ZSVdKOkHSEknbJX26KFqxuVfsb6WZrTaz1bt2Pz1KtQYAAAUC0TCZ2cuUwtAX3f3rkuTuO9z9gLv3S/q86t1iWyXNL21+rKQnG/fp7le5+1J3Xzpn9stH9wAAAACBaDjMzCRdLWm9u3+mtPzoUrG3SHooP75V0kVmNs3MFkhaKOn+TtUXAABU4yqz4TlL0jsk/cjM1uZlH5G0wsyWKHWHPSHpPZLk7g+b2U2SHlG6Qu0yrjADAKD7CETD4O53q3pc0G0ttvmkpE+OWqUAAMBBo8sMAACERyACAADhEYgAAEB4BCIAABAegQgAAIRHIAIAAOERiAAAQHgEIgAAEB6BCAAAhEcgAgAA4RGIAABAeAQiAAAQHoEIAACERyACAADhEYgAAEB4BCIAABAegQgAAIRHIAIAAOERiAAAQHgEIgAAEB6BCAAAhEcgAgAA4RGIAABAeAQiAAAQHoEIAACERyACAADhEYgAAEB4BCIAABAegQgAAIRHIAIAAOERiAAAQHgEIgAAEB6BCAAAhEcgAgAA4RGIAABAeAQiAAAQHoEIAACERyACAADhEYgAAEB4BCIAABAegQgAAIRHIAIAAOERiAAAQHgEIgAAEB6BCAAAhEcgAgAA4RGIAABAeAQiAAAQHoEIAACERyACAADhEYgAAEB4BCIAABAegQgAAIRHIAIAAOERiAAAQHgEIgAAEB6BCAAAhEcgAgAA4Zm7d7sOaMHM9kl6tNv16KLZknZ3uxJdEvnYpdjHH/nYpbjH/wp3n9PtSkQ1pdsVwJAedfel3a5Et5jZ6qjHH/nYpdjHH/nYJY4f3UGXGQAACI9ABAAAwiMQjX1XdbsCXRb5+CMfuxT7+CMfu8TxowsYVA0AAMKjhQgAAIRHIBrDzOw8M3vUzDaY2RXdrs9oM7MnzOxHZrbWzFbnZbPM7HYzezz/7O12PUeKmV1jZjvN7KHSssrjteRz+XxWvyIAABA3SURBVLOwzsxO6V7Nh6/JsX/czLbl93+tmV1QWvfhfOyPmtkbulPrkWFm883sTjNbb2YPm9kH8vIo732z4w/x/mPsIhCNUWY2WdI/STpf0mJJK8xscXdr1RGvdfclpUtur5C0yt0XSlqVn08U10o6r2FZs+M9X9LC/G+lpCs7VMfRcq0GH7sk/X1+/5e4+22SlD/3F0l6Zd7mn/Pvx3j1kqQPufsiSadLuiwfY5T3vtnxSzHef4xRBKKx6zRJG9z9J+6+X9KNkpZ3uU7dsFzSdfnxdZIu7GJdRpS7f0/SnobFzY53uaTrPblX0hFmdnRnajrymhx7M8sl3ejuL7r7JkkblH4/xiV33+7ua/LjfZLWS5qnOO99s+NvZkK9/xi7CERj1zxJW0rPt6r1H42JwCV918weNLOVedmR7r5dSn9IJc3tWu06o9nxRvk8vDd3C11T6h6dsMduZsdLepWk+xTwvW84finY+4+xhUA0dlnFsol+SeBZ7n6KUhfBZWb2mm5XaAyJ8Hm4UtIJkpZI2i7p03n5hDx2M+uR9DVJl7v7s62KViybiMcf6v3H2EMgGru2Sppfen6spCe7VJeOcPcn88+dkr6h1Cy+o+geyD93dq+GHdHseCf858Hdd7j7AXfvl/R51btFJtyxm9nLlMLAF93963lxmPe+6vgjvf8YmwhEY9cDkhaa2QIzm6o0qPDWLtdp1JjZDDObWTyW9HpJDykd88W52MWSbulODTum2fHeKumd+Yqj0yU9U3SvTBQN42LeovT+S+nYLzKzaWa2QGlw8f2drt9IMTOTdLWk9e7+mdKqEO99s+OP8v5j7OLmrmOUu79kZu+V9B1JkyVd4+4Pd7lao+lISd9Ifys1RdKX3P3bZvaApJvM7FJJmyW9rYt1HFFmdoOkcyTNNrOtkv5S0t+o+nhvk3SB0oDSn0t6d8crPIKaHPs5ZrZEqTvkCUnvkSR3f9jMbpL0iNIVSpe5+4Fu1HuEnCXpHZJ+ZGZr87KPKMh7r+bHvyLI+48xipmqAQBAeHSZAQCA8AhEAAAgPAIRAAAIj0AEAADCIxABAIDwCEQAACA8AhEAAAiPQAQAAMIjEAEAgPAIRAAAIDwCEQAACI9ABAAAwiMQAQCA8AhEAAAgPAIRAAAIj0AEAADCIxABAIDwCEQAACA8AhEAAAiPQAQAAMIjEAEAgPAIRAAAIDwCEQAACI9ABAAAwiMQAQCA8AhEAAAgPAIRAAAIj0AEAADCIxABAIDwCEQAACA8AhEAAAiPQAQAAMIjEAEAgPAIRAAAIDwCEQAACI9ABAAAwiMQAQCA8AhEAAAgPAIRAAAIj0AEAADCIxABAIDwCEQAACA8AhEAAAiPQAQAAMIjEAEAgPAIRAAAIDwCEQAACI9ABAAAwiMQAQCA8AhEAAAgPAIRAAAIj0AEAADCIxABAIDwCEQAACA8AhEAAAiPQAQAAMIjEAEAgPAIRAAAIDwCEQAACI9ABAAAwiMQAQCA8AhEAAAgPAIRAAAIj0AEAADCIxABAIDwpgxn4/N+83W+++k9FWu8/Z34oAcHs9FBbDoW9u9tFG22cgS2bbn9cOp/KNu22MZb7a/Ze9PGNkPV21usa7mvQ3nPmmzT8tiHKlOxvJ33ashzeCjHMdQ+D3K/g562+vy08dpDlalY3/xXZzjvWcWLtnOsQ+yu9eFVb9xWFVu8wKH8aRm8m3YKD1myxf6H3nbI366DeDvaep3hHFfVuqE+0oey33a+QobzOgf/EW/vdSoKbX9R33H386rKDysQ7X56j1bffUe9arVXb/J8wMOhtmmnjOenVadm5PZfeVbbOtb+6jLF8lbb1NY1PG9c3mKdN75eZb2HeL1DrstQx17eJj/ub1Kmqv6DyrSx/6G27a/aZgT3X7lNs21L53/QeRnieTtlvMVn7pC2GeE69Td+hgeWHbS89NgbPk+tfg+a7r9/8P69yTG33H//EPVuZ//F53LAoXpD0cY6NSwvv1STMo37bF22caet6tRk23KZ/sYyB1GXvLriLav9ZeofWJVBz9Mya6tsf8X+Gw6j/rxhecuyDfVor2zVcQxc1mwfVWWaHXPVNs3KDHjLGo5pqNdrVeZgjqOxTLlO/+3Rl2arCbrMAABAeAQiAAAQHoEIAACERyACAADhEYgAAEB4BCIAABAegQgAAIRHIAIAAOERiAAAQHgEIgAAEB6BCAAAhEcgAgAA4RGIAABAeAQiAAAQHoEIAACERyACAADhEYgAAEB4BCIAABAegQgAAIRHIAIAAOERiAAAQHgEIgAAEB6BCAAAhEcgAgAA4RGIAABAeAQiAAAQnrn7oW9s9pCkF0auOuPabEm7u12JMYDzkHAe6jgXCeehjnORcB7qOnUudrv7eVUrpgxzxy+4+9Jh7mNCMLPVnAvOQ4HzUMe5SDgPdZyLhPNQNxbOBV1mAAAgPAIRAAAIb7iB6KoRqcXEwLlIOA8J56GOc5FwHuo4Fwnnoa7r52JYg6oBAAAmArrMAABAeAQiAAAQXluByMzOM7NHzWyDmV1RsX6amX05r7/PzI4f6Yp2m5nNN7M7zWy9mT1sZh+oKHOOmT1jZmvzv491o66dYGZPmNmP8nGurlhvZva5/JlYZ2andKOeo8nMfrn0Xq81s2fN7PKGMhP2M2Fm15jZzjwfWbFslpndbmaP55+9Tba9OJd53Mwu7lytR16T8/B3Zvbj/Nn/hpkd0WTblr9H402Tc/FxM9tW+h24oMm2Lb9nxpMm5+HLpXPwhJmtbbLthPlMNPveHLN/J9y95T9JkyVtlPSLkqZK+qGkxQ1l/kjS/8yPL5L05aH2O97+STpa0in58UxJj1Wch3MkfbPbde3Q+XhC0uwW6y+Q9C1JJul0Sfd1u86jfD4mS3pK0iuifCYkvUbSKZIeKi37H5KuyI+vkPS3FdvNkvST/LM3P+7t9vGM8Hl4vaQp+fHfVp2HvK7l79F4+9fkXHxc0p8Msd2Q3zPj6V/VeWhY/2lJH5von4lm35tj9e9EOy1Ep0na4O4/cff9km6UtLyhzHJJ1+XHX5W0zMysjX2PG+6+3d3X5Mf7JK2XNK+7tRrTlku63pN7JR1hZkd3u1KjaJmkje7+025XpFPc/XuS9jQsLv8tuE7ShRWbvkHS7e6+x933SrpdUuXMseNB1Xlw9++6+0v56b2Sju14xbqgyWeiHe18z4wbrc5D/m58u6QbOlqpLmjxvTkm/060E4jmSdpSer5Vg4NArUz+I/CMpJePRAXHotwl+CpJ91WsPsPMfmhm3zKzV3a0Yp3lkr5rZg+a2cqK9e18biaSi9T8D1yUz4QkHenu26X0x1DS3Ioy0T4blyi1llYZ6vdoonhv7j68pkn3SKTPxG9I2uHujzdZPyE/Ew3fm2Py70Q7gaiqpafxWv12ykwIZtYj6WuSLnf3ZxtWr1HqMjlZ0j9IurnT9eugs9z9FEnnS7rMzF7TsD7SZ2KqpDdL+krF6kifiXZF+mz8uaSXJH2xSZGhfo8mgislnSBpiaTtSt1FjcJ8JiStUOvWoQn3mRjie7PpZhXLRvUz0U4g2ippfun5sZKebFbGzKZIOlyH1mw6ppnZy5Te1C+6+9cb17v7s+7elx/fJullZja7w9XsCHd/Mv/cKekbSk3eZe18biaK8yWtcfcdjSsifSayHUXXaP65s6JMiM9GHgT6W5J+1/OgiEZt/B6Ne+6+w90PuHu/pM+r+hijfCamSPptSV9uVmaifSaafG+Oyb8T7QSiByQtNLMF+X/CF0m6taHMrZKKEeBvlfR/mv0BGK9yv+/Vkta7+2ealDmqGDtlZqcpnd+nO1fLzjCzGWY2s3isNID0oYZit0p6pyWnS3qmaCKdgJr+jy/KZ6Kk/LfgYkm3VJT5jqTXm1lv7j55fV42YZjZeZL+TNKb3f3nTcq083s07jWMHXyLqo+xne+ZieBcST92961VKyfaZ6LF9+bY/DvR5kjxC5RGh2+U9Od52SeUftkl6TCl7oINku6X9IujORK8G/8kvVqpuW6dpLX53wWS/kDSH+Qy75X0sNIVEvdKOrPb9R6lc/GL+Rh/mI+3+EyUz4VJ+qf8mfmRpKXdrvconYtfUAo4h5eWhfhMKIXA7ZL+n9L/5i5VGju4StLj+eesXHappP9V2vaS/Pdig6R3d/tYRuE8bFAa/1D8rSiuwj1G0m35ceXv0Xj+1+Rc/Gv+G7BO6Yvw6MZzkZ8P+p4Zr/+qzkNefm3xt6FUdsJ+Jlp8b47JvxPcugMAAITHTNUAACA8AhEAAAiPQAQAAMIjEAEAgPAIRAAAIDwCEQAACI9ABAAtmNmFZvZ5M7vFzF7f7foAGB0EIiAoMztgZmvN7CEz+4qZ/cJBbHuEmf1Rw7J7htim71Dr2k3ufrO7/76kd0n6nS5XB8AoIRABcT3v7kvc/Vcl7VeaYXtIeTr+WZIGBCJ3P3Pkqzhy8m1khvM376NKs68DmIAIRAAk6fuSfkmSzOxmM3vQzB42s5V52fFmtt7M/lnSGqX7E52QW5j+Lpfpyz/faWbrzOyHZvavVS9mZr9nZvfn7f/FzCbn+zj9e97uITP7nYZtjjezH5vZdXn/Xy23ajXZZ2O95zfs8ytm9o9mdreZ/dTMXm1m15vZY2Z2dS5jZva3kr7l7mtG5GwDGHMIREBw+Q7c5yvdb0qSLnH3U5XuK/R+M3t5Xv7Lkq5391dJerekjbmF6U9L+3qlpD+X9Dp3P1nSBypeb5FS19NZ7r5E0gFJvyvpPElPuvvJudXq2xXV/WVJV7n7SZKeVW6larHPAfV295827O/XJP3E3V8t6TqloPdnkn5V0m+b2TRJ71O6KedbzaytVjQA48+UblcAQNdMN7O1+fH3lcKAlELQW/Lj+ZIWSnpK0k/d/d4h9vk6SV91992S5O57Ksosk3SqpAdS75umS9op6UuSPpVbY77p7t+v2HaLu/9nfvwFSe+X9KkW+/xes3qb2WGSjpD02bzoeUlXu/v2vP7nkva7++ckfW6I4wYwzhGIgLiez60pNWZ2jlJryBnu/nMz+w9Jh+XVz7WxT1O6u/VQZa5z9w8PWmF2qtLdsP/azL7r7p9oKNK47+J55T7N7PgW9X6lpDXu3p+fnyzpyrzdsUqtVdz9GgiCLjMAZYdL2pvD0K9IOr1JuX2SZlYsXyXp7UU3m5nNalLmrWY2tyhjZq8ws2Mk/dzdv6DU6nNKxbbHmdkZ+fEKSXe32ucQx/prkn5Yen6SpHX58cmlxwACoIUIQNm3Jf2Bma2T9Kikyi4yd3/azP7TzB5SGmz8p3n5w2b2SUl3mdkBSf9X6XL18raPmNlHJX03X/X1/yRdphTG/s7M+vOyP6x46fWSLjazf5H0uHKLTot9PtXiWH9N0v1SrftsurvvzevK4QhAAEaLMIDxIHd/fTMPuAaAEUWXGQAACI8WIgAAEB4tRAAAIDwCEQAACI9ABAAAwiMQAQCA8AhEAAAgPAIRAAAIj0AEAADCIxABAIDwCEQAACC8/w8uNYYwS1U/MAAAAABJRU5ErkJggg==\n",
          "text/plain": "<Figure size 720x720 with 2 Axes>"
         },
         "metadata": {
          "needs_background": "light"
         },
         "output_type": "display_data"
        },
        {
         "data": {
          "text/plain": "'All particles touch the ground after 143 s (Model Runtime 1.609375 s)'"
         },
         "metadata": {},
         "output_type": "display_data"
        }
       ]
      }
     },
     "cf1acabb4eeb413c93e2dc437d1ca3a8": {
      "model_module": "@jupyter-widgets/controls",
      "model_module_version": "1.5.0",
      "model_name": "IntSliderModel",
      "state": {
       "description": "Height (m):",
       "layout": "IPY_MODEL_4c826b8258214423bb292df1c17b09b2",
       "min": 1,
       "style": "IPY_MODEL_5df0fe2801724455ab905d1d105b4a32",
       "value": 75
      }
     },
     "d024e7734c4748ee9653ebe38e442c25": {
      "model_module": "@jupyter-widgets/base",
      "model_module_version": "1.2.0",
      "model_name": "LayoutModel",
      "state": {}
     },
     "d3f8269d7487446c91af939248eb4903": {
      "model_module": "@jupyter-widgets/controls",
      "model_module_version": "1.5.0",
      "model_name": "VBoxModel",
      "state": {
       "_dom_classes": [
        "widget-interact"
       ],
       "children": [
        "IPY_MODEL_80b229333a5e4cb0b97ee626b09ef4dd",
        "IPY_MODEL_0b6d34047b52443a89fc87a05c8c3f41",
        "IPY_MODEL_e3bf716cf05e45dfb9c8a9489d908e9b",
        "IPY_MODEL_2657372b354f48c986404d6e3d6654b1",
        "IPY_MODEL_7ebab2a5ca5f45acbba4afb1c1060a2d",
        "IPY_MODEL_c4d1a2877108429c8915361aa38615ea",
        "IPY_MODEL_6633a45be92346c8a1cd1c040832a0de",
        "IPY_MODEL_cd79a59c8b5e45539a015d76edfba62f"
       ],
       "layout": "IPY_MODEL_a620d490e87a4a1b823cd7d01a7347df"
      }
     },
     "d481a6843f9d43b7a1b318629832b4f5": {
      "model_module": "@jupyter-widgets/base",
      "model_module_version": "1.2.0",
      "model_name": "LayoutModel",
      "state": {}
     },
     "dad0224b969243abb3534675212b4e82": {
      "model_module": "@jupyter-widgets/controls",
      "model_module_version": "1.5.0",
      "model_name": "VBoxModel",
      "state": {
       "_dom_classes": [
        "widget-interact"
       ],
       "children": [
        "IPY_MODEL_e536bd0552744a86b79de524e57058d8",
        "IPY_MODEL_67e1c7da54e94565b9a303bedc572710",
        "IPY_MODEL_1b8c160085a549aaac0b468615d2f072",
        "IPY_MODEL_afd33ca579b047fab0ac5589a264a4ff",
        "IPY_MODEL_f99bd6d133234bdfac0ef9b553a2c434",
        "IPY_MODEL_8ab4229ce33a48e0bccbd3b6ac454921",
        "IPY_MODEL_cc401efdecb64d00968b35961506dcfe",
        "IPY_MODEL_bf70001aacdd497cbda384d437c2b887"
       ],
       "layout": "IPY_MODEL_0f691a27aa7c48538187e69d5977de02"
      }
     },
     "dd6c0c62021d44389c5185c55f436dbc": {
      "model_module": "@jupyter-widgets/controls",
      "model_module_version": "1.5.0",
      "model_name": "IntSliderModel",
      "state": {
       "description": "Particles (N):",
       "layout": "IPY_MODEL_067ef3b3b863413cb0272fbe96ac4a3a",
       "max": 10000,
       "min": 1,
       "style": "IPY_MODEL_85a6949c33464b128c3c47a823097d89",
       "value": 5000
      }
     },
     "de0c00f2fbfc4c959cafd13a727fb6b3": {
      "model_module": "@jupyter-widgets/base",
      "model_module_version": "1.2.0",
      "model_name": "LayoutModel",
      "state": {}
     },
     "de9a8fa226304f53abd0ea18dcd2863b": {
      "model_module": "@jupyter-widgets/base",
      "model_module_version": "1.2.0",
      "model_name": "LayoutModel",
      "state": {}
     },
     "e2516c2245304c338910bf589cfd164c": {
      "model_module": "@jupyter-widgets/base",
      "model_module_version": "1.2.0",
      "model_name": "LayoutModel",
      "state": {}
     },
     "e2da6f3a70444d6892b6212ffa48b0f3": {
      "model_module": "@jupyter-widgets/controls",
      "model_module_version": "1.5.0",
      "model_name": "FloatSliderModel",
      "state": {
       "description": "Probability E:",
       "layout": "IPY_MODEL_d024e7734c4748ee9653ebe38e442c25",
       "max": 1,
       "min": 0.01,
       "step": 0.01,
       "style": "IPY_MODEL_3af71ee719df48228a9b8df9365008ed",
       "value": 0.75
      }
     },
     "e3bf716cf05e45dfb9c8a9489d908e9b": {
      "model_module": "@jupyter-widgets/controls",
      "model_module_version": "1.5.0",
      "model_name": "FloatSliderModel",
      "state": {
       "description": "Probability E:",
       "layout": "IPY_MODEL_23b9e3ab8c96475d999bd2d5502342e2",
       "max": 1,
       "min": 0.01,
       "step": 0.01,
       "style": "IPY_MODEL_9f6824e2d14f4dde846bf5772217aef0",
       "value": 0.75
      }
     },
     "e536bd0552744a86b79de524e57058d8": {
      "model_module": "@jupyter-widgets/controls",
      "model_module_version": "1.5.0",
      "model_name": "IntSliderModel",
      "state": {
       "description": "Particles (N):",
       "layout": "IPY_MODEL_0418a3f80eb54b9e9026a59803f77dcb",
       "max": 10000,
       "min": 1,
       "style": "IPY_MODEL_9ea28c817bf94c87850f2193cfc4a625",
       "value": 5000
      }
     },
     "e893a2092031429282069f9e485c8da4": {
      "model_module": "@jupyter-widgets/controls",
      "model_module_version": "1.5.0",
      "model_name": "SliderStyleModel",
      "state": {
       "description_width": ""
      }
     },
     "eac658b5115d4a829681f8fa90767b72": {
      "model_module": "@jupyter-widgets/base",
      "model_module_version": "1.2.0",
      "model_name": "LayoutModel",
      "state": {}
     },
     "eead180abbc8497fb9fc9fa2c8af6fea": {
      "model_module": "@jupyter-widgets/controls",
      "model_module_version": "1.5.0",
      "model_name": "VBoxModel",
      "state": {
       "_dom_classes": [
        "widget-interact"
       ],
       "children": [
        "IPY_MODEL_98257f70a4c6436db5634baf827edafe",
        "IPY_MODEL_19f675d81a5b45b78c457c7dbb1e0647",
        "IPY_MODEL_c477272ae2a74a04ae6d231b7fdb836e",
        "IPY_MODEL_ba962534c54d4bba8300a4afe259f3af",
        "IPY_MODEL_7a389090025640f4944cd54a52921b26",
        "IPY_MODEL_15f2007006ba4c42971a2633150bafed",
        "IPY_MODEL_2f896d12a720411eba0377eeac4ba6b7",
        "IPY_MODEL_1d569ddb59c341d68854ea148928d9ce"
       ],
       "layout": "IPY_MODEL_5c1ae3051e4f446db5a47c92162df279"
      }
     },
     "f1bf11d078694ba1a498da63d916d3ec": {
      "model_module": "@jupyter-widgets/base",
      "model_module_version": "1.2.0",
      "model_name": "LayoutModel",
      "state": {}
     },
     "f2b4707f41dd400b9d10bbb7c91e1b23": {
      "model_module": "@jupyter-widgets/base",
      "model_module_version": "1.2.0",
      "model_name": "LayoutModel",
      "state": {}
     },
     "f99bd6d133234bdfac0ef9b553a2c434": {
      "model_module": "@jupyter-widgets/controls",
      "model_module_version": "1.5.0",
      "model_name": "FloatSliderModel",
      "state": {
       "description": "Probability N:",
       "layout": "IPY_MODEL_4200a4e5b8a54f2a94a0ee4b94f2adac",
       "max": 1,
       "min": 0.01,
       "step": 0.01,
       "style": "IPY_MODEL_af293c791ea34607af11f834a11fbca8",
       "value": 0.1
      }
     },
     "fd34021d4bff4e2192e8c67070168f75": {
      "model_module": "@jupyter-widgets/base",
      "model_module_version": "1.2.0",
      "model_name": "LayoutModel",
      "state": {}
     },
     "fd9ca394161b4218b0f235a65e15fcf8": {
      "model_module": "@jupyter-widgets/controls",
      "model_module_version": "1.5.0",
      "model_name": "ButtonStyleModel",
      "state": {}
     },
     "fea85731e2ae4a05a890152010273a29": {
      "model_module": "@jupyter-widgets/controls",
      "model_module_version": "1.5.0",
      "model_name": "FloatSliderModel",
      "state": {
       "description": "Probability W:",
       "layout": "IPY_MODEL_cc3bf5302ab34b13a1937e2a21071aa5",
       "max": 1,
       "min": 0.01,
       "step": 0.01,
       "style": "IPY_MODEL_b5c3263073214871be4486f29fe90f6b",
       "value": 0.05
      }
     },
     "fee43711d6b04efea5266de8d3d5757a": {
      "model_module": "@jupyter-widgets/controls",
      "model_module_version": "1.5.0",
      "model_name": "SliderStyleModel",
      "state": {
       "description_width": ""
      }
     }
    },
    "version_major": 2,
    "version_minor": 0
   }
  }
 },
 "nbformat": 4,
 "nbformat_minor": 4
}
